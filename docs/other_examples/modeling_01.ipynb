{
 "cells": [
  {
   "cell_type": "code",
   "id": "a2d77db7-208d-49fd-90f3-ae9bf975b03e",
   "metadata": {
    "ExecuteTime": {
     "end_time": "2025-01-05T10:17:02.787574Z",
     "start_time": "2025-01-05T10:17:02.779567Z"
    }
   },
   "source": [
    "import sys\n",
    "if (path := \"C:/Users/Tom/pycharm-projects/python-control\") not in sys.path:\n",
    "    sys.path.append(path)"
   ],
   "outputs": [],
   "execution_count": 1
  },
  {
   "cell_type": "markdown",
   "id": "100951ea-b8be-4450-895f-38f32d43e777",
   "metadata": {},
   "source": [
    "# A Two-Mass System: Suspension Model\n",
    "---"
   ]
  },
  {
   "metadata": {},
   "cell_type": "markdown",
   "source": "From *Franklin, G. F., Powell, D., & Emami-Naeini, A. F. (2019b). Feedback Control of Dynamic Systems, Global Edition. Pearson Higher Ed.* - Chapter 2: Dynamics of Mechanical Systems - Example 2.2: A Two-Mass System: Suspension Model.",
   "id": "93898fdf0afe34d1"
  },
  {
   "cell_type": "markdown",
   "id": "952bacb0-e98e-48c7-b20c-991d0b8e3883",
   "metadata": {},
   "source": [
    "We consider the quarter-car model of an automobile suspension system. The system can be approximated by two masses: the mass of one car wheel $m_1$ and a quarter of the car's mass (minus the mass of the four wheels) $m_2$. The suspension system consists of a spring and a dashpot between these two masses. The compressible air cushion in the tire of the wheel is also modeled as a spring that works between the mass of the wheel $m_1$ and the road surface. \n",
    "\n",
    "We want to derive the transfer function of the system for which the input is a function $r(t)$ describing the profile of the road surface, and the output is the vertical displacement of the car, i.e. the mass $m_2$, when the car is riding over a bumpy road."
   ]
  },
  {
   "cell_type": "markdown",
   "id": "ab202cf8-207d-464d-ad7e-4a9ec351c232",
   "metadata": {},
   "source": [
    "## Equations of Motion"
   ]
  },
  {
   "cell_type": "markdown",
   "id": "86eab982-118a-4028-bfd7-bdc4700cab07",
   "metadata": {},
   "source": [
    "To derive the equations of motion of this two-mass system, we could draw free body diagrams of both masses $m_1$ and $m_2$ and then apply the principle of superposition to arrive at the equation of motion for each of the two masses. \n",
    "\n",
    "To do this for mass $m_1$, there are three cases to consider:\n",
    "1. Mass $m_1$ is moving, while mass $m_2$ is still and the road profile is flat, i.e. $r(t) = 0$. The forces excerted by the springs and dashpot are solely caused by the displacement of mass $m_1$.\n",
    "2. Mass $m_2$ is moving, while mass $m_1$ is still and the road profile is flat. The forces excerted by the springs and dashpot are solely caused by the displacement of mass $m_2$. In this case, the spring force exerted by the air cushion in the tire will be zero, as there is no relative movement between mass $m_1$ and the road surface. \n",
    "3. The road has e.g. a bump, i.e. $r(t) > 0$, while the masses $m_1$ and $m_2$ are still. The forces excerted by the springs and the dashpot are solely caused by the bump in the road. Because the masses $m_1$ and $m_2$ are still and therefore in their equilibrium position like when the car is standing still, the only force acting in this case is the spring force caused by the air cushion in the tire of the wheel. This force can be expressed as $k_w \\cdot r(t)$ and is acting vertically upwards on mass $m_1$.\n",
    "\n",
    "The forces that are acting on mass $m_1$ in the three cases can now be added (while taking care of the signs, i.e. paying attention to the direction in which each of the forces is acting; if we define the positive motion of $m_1$ vertically upward, a force that acts on $m_1$ in the vertically downward direction must be negative). According to Newton's second law, and if we consider the acceleration of mass $m_1$ as part of the inertia force, i.e. ${m_1} \\cdot {\\ddot x_1}$, the sum of all forces must, either be zero, or equal to the sum of external forces applied to mass $m_1$. In this problem here, the spring force associated with the compressible air cushion in the tire of the wheel in the third case above acts as an external force excerted by the road on the two-mass system.\n",
    "\n",
    "The equation of motion of mass $m_2$ can be derived following a similar procedure as for mass $m_1$.\n",
    "\n",
    "However, a more quicker way to arrive at the equations of motion of this two-mass system is the *impedance-method*, which we will use below."
   ]
  },
  {
   "cell_type": "markdown",
   "id": "10b1e4f0-7cc5-4189-b3aa-a0a156747361",
   "metadata": {},
   "source": [
    "It should be noted that the gravity force, which is acting on mass $m_1$ and mass $m_2$, is not being considered in the analysis. The displacements of masses $m_1$ and $m_2$ are measured from their static equilibrium position. Under static equilibrium (the car is standing still), the weight of the masses (due to the gravity force) are counterbalanced by the forces of the springs in the system. This also remains true when the car is riding. But this also means that the static components of the spring forces are left out from the analysis."
   ]
  },
  {
   "cell_type": "markdown",
   "id": "6459edb8-2a49-4314-91bb-ea6493e4456b",
   "metadata": {},
   "source": [
    "## Impedance Method"
   ]
  },
  {
   "cell_type": "code",
   "id": "3657e1ae-9847-4fe1-a336-c63637b1c76f",
   "metadata": {
    "ExecuteTime": {
     "end_time": "2025-01-05T10:17:05.621314Z",
     "start_time": "2025-01-05T10:17:02.812494Z"
    }
   },
   "source": [
    "import sympy as sp\n",
    "from python_control import Quantity, TransferFunction\n",
    "from python_control.modeling.mechanical import (\n",
    "    Mass,\n",
    "    Damper,\n",
    "    Spring,\n",
    ")\n",
    "\n",
    "Q_ = Quantity"
   ],
   "outputs": [],
   "execution_count": 2
  },
  {
   "cell_type": "markdown",
   "id": "d4110008-12d3-45fb-be80-e46e23811a3a",
   "metadata": {},
   "source": [
    "### Define the Mechanical Components of the System"
   ]
  },
  {
   "cell_type": "code",
   "id": "acfa1003-d1bd-4d0a-b823-f65bd65ed9d3",
   "metadata": {
    "ExecuteTime": {
     "end_time": "2025-01-05T10:17:06.107348Z",
     "start_time": "2025-01-05T10:17:06.052285Z"
    }
   },
   "source": [
    "wheel = Mass('m_1')\n",
    "tire = Spring('k_w')\n",
    "spring = Spring('k_s')\n",
    "dashpot = Damper('b')\n",
    "car = Mass('m_2')"
   ],
   "outputs": [],
   "execution_count": 3
  },
  {
   "cell_type": "markdown",
   "id": "3bc42954-f499-4dc9-b239-3255fadb8afa",
   "metadata": {},
   "source": [
    "### Motion of wheel $m_1$"
   ]
  },
  {
   "cell_type": "markdown",
   "id": "9e4bb40c-89ef-40a2-85fb-e432d0a7f3eb",
   "metadata": {},
   "source": [
    "Sum of impedances connected to wheel $m_1$"
   ]
  },
  {
   "cell_type": "code",
   "id": "9adfcd9d-40c8-47ab-b9f3-00b61403b8d9",
   "metadata": {
    "ExecuteTime": {
     "end_time": "2025-01-05T10:17:06.155226Z",
     "start_time": "2025-01-05T10:17:06.127206Z"
    }
   },
   "source": [
    "Z11 = wheel.Z + tire.Z + spring.Z + dashpot.Z\n",
    "Z11.expr"
   ],
   "outputs": [
    {
     "data": {
      "text/plain": [
       "1.0*b*s + 1.0*k_s + 1.0*k_w + 1.0*m_1*s**2"
      ],
      "text/latex": "$\\displaystyle 1.0 b s + 1.0 k_{s} + 1.0 k_{w} + 1.0 m_{1} s^{2}$"
     },
     "execution_count": 4,
     "metadata": {},
     "output_type": "execute_result"
    }
   ],
   "execution_count": 4
  },
  {
   "cell_type": "markdown",
   "id": "cf3ea9be-98e0-4086-a848-b8d2a6953d7a",
   "metadata": {},
   "source": [
    "Sum of impedances connected between wheel $m_1$ and car $m_2$"
   ]
  },
  {
   "cell_type": "code",
   "id": "2d1ae430-05a0-4807-b41f-56a5a6376beb",
   "metadata": {
    "ExecuteTime": {
     "end_time": "2025-01-05T10:17:06.177581Z",
     "start_time": "2025-01-05T10:17:06.163232Z"
    }
   },
   "source": [
    "Z12 = spring.Z + dashpot.Z\n",
    "Z12.expr"
   ],
   "outputs": [
    {
     "data": {
      "text/plain": [
       "1.0*b*s + 1.0*k_s"
      ],
      "text/latex": "$\\displaystyle 1.0 b s + 1.0 k_{s}$"
     },
     "execution_count": 5,
     "metadata": {},
     "output_type": "execute_result"
    }
   ],
   "execution_count": 5
  },
  {
   "cell_type": "markdown",
   "id": "46c1df11-7efb-4461-be80-598867011ef0",
   "metadata": {},
   "source": [
    "### Motion of car $m_2$"
   ]
  },
  {
   "cell_type": "markdown",
   "id": "f5976e9b-438b-41f7-937e-0783e7398fd3",
   "metadata": {},
   "source": [
    "Sum of impedances connected to car $m_2$"
   ]
  },
  {
   "cell_type": "code",
   "id": "779f3130-563b-4c45-9341-2aeee4657a1a",
   "metadata": {
    "ExecuteTime": {
     "end_time": "2025-01-05T10:17:06.211915Z",
     "start_time": "2025-01-05T10:17:06.192415Z"
    }
   },
   "source": [
    "Z22 = car.Z + spring.Z + dashpot.Z\n",
    "Z22.expr"
   ],
   "outputs": [
    {
     "data": {
      "text/plain": [
       "1.0*b*s + 1.0*k_s + 1.0*m_2*s**2"
      ],
      "text/latex": "$\\displaystyle 1.0 b s + 1.0 k_{s} + 1.0 m_{2} s^{2}$"
     },
     "execution_count": 6,
     "metadata": {},
     "output_type": "execute_result"
    }
   ],
   "execution_count": 6
  },
  {
   "cell_type": "markdown",
   "id": "002e7555-9222-49ef-80f2-d63c6b277b01",
   "metadata": {},
   "source": [
    "Sum of impedances connected between car $m_2$ and wheel $m_1$"
   ]
  },
  {
   "cell_type": "code",
   "id": "7e33d749-eaf1-4bbb-a42b-dabf021aadc6",
   "metadata": {
    "ExecuteTime": {
     "end_time": "2025-01-05T10:17:06.250785Z",
     "start_time": "2025-01-05T10:17:06.239778Z"
    }
   },
   "source": [
    "Z21 = spring.Z + dashpot.Z\n",
    "Z21.expr"
   ],
   "outputs": [
    {
     "data": {
      "text/plain": [
       "1.0*b*s + 1.0*k_s"
      ],
      "text/latex": "$\\displaystyle 1.0 b s + 1.0 k_{s}$"
     },
     "execution_count": 7,
     "metadata": {},
     "output_type": "execute_result"
    }
   ],
   "execution_count": 7
  },
  {
   "cell_type": "markdown",
   "id": "7aa6388c-a0f9-493c-8a84-98a5aa7c7bb5",
   "metadata": {},
   "source": [
    "### Equations of Motion"
   ]
  },
  {
   "cell_type": "markdown",
   "id": "b23a9970-533c-4d4f-8a61-42cbc22274ed",
   "metadata": {},
   "source": [
    "The equations of motion of the two-mass system can be written in matrix form like ${\\bf{Z}} \\cdot {\\bf{X}} = {\\bf{F}}$ where $\\bf{X}$ is a column vector with the displacements of mass $m_1$ and of mass $m_2$ and $\\bf{F}$ is a column vector with the external forces acting on mass $m_1$ and on mass $m_2$.\n",
    "\n",
    "The external force applied to mass $m_1$, i.e. the wheel, is excerted by the road surface through the air cushion in the tire of the wheel, which is modeled as a spring having a spring constant $k_w$. The profile of the road surface can be considered as a function of time, $r(t)$, if we imagine that the car is standing still while instead the road surface is moving (in the opposite direction of the riding car) underneath the car's wheel."
   ]
  },
  {
   "cell_type": "code",
   "id": "d4a80ff0-0683-428d-b451-f7c00fb058f1",
   "metadata": {
    "ExecuteTime": {
     "end_time": "2025-01-05T10:17:06.264409Z",
     "start_time": "2025-01-05T10:17:06.259949Z"
    }
   },
   "source": [
    "R = sp.Symbol('R')\n",
    "F1 = tire.Z.expr * R"
   ],
   "outputs": [],
   "execution_count": 8
  },
  {
   "cell_type": "markdown",
   "id": "b7e5edb3-e4f4-4674-9c1d-5da3db5a4ed0",
   "metadata": {},
   "source": [
    "In our analysis of the suspension system, no external force is acting on the mass $m_2$ of the car.\n",
    "\n",
    "Now we can solve the equations of motion for the vertical displacements of the masses $m_1$ and $m_2$."
   ]
  },
  {
   "cell_type": "code",
   "id": "c2d09857-e557-4912-a6e4-714609b38beb",
   "metadata": {
    "ExecuteTime": {
     "end_time": "2025-01-05T10:17:06.296480Z",
     "start_time": "2025-01-05T10:17:06.278469Z"
    }
   },
   "source": [
    "F = sp.Matrix([[F1], [0]])\n",
    "Z = sp.Matrix([[Z11.expr, -Z12.expr], [-Z21.expr, Z22.expr]])\n",
    "X = Z.LUsolve(F)"
   ],
   "outputs": [],
   "execution_count": 9
  },
  {
   "cell_type": "markdown",
   "id": "f41112d7-fabb-48dc-86d5-f5e637664948",
   "metadata": {},
   "source": [
    "### Transfer Function "
   ]
  },
  {
   "cell_type": "markdown",
   "id": "c66fc3d6-d28e-4ea3-b2d0-1e2441ba4f31",
   "metadata": {},
   "source": [
    "We want to analyze the relation between the vertical displacement of the car, mass $m_2$, and the profile of the road surface. The transfer function for this relation is the ratio of the vertical displacement of the car to the function $R(s)$ which describes the road surface profile."
   ]
  },
  {
   "cell_type": "code",
   "id": "95949be1-bef0-464e-b8ad-9830a3f0cb29",
   "metadata": {
    "ExecuteTime": {
     "end_time": "2025-01-05T10:17:06.435876Z",
     "start_time": "2025-01-05T10:17:06.316486Z"
    }
   },
   "source": [
    "G = X[1] / R\n",
    "G.simplify()"
   ],
   "outputs": [
    {
     "data": {
      "text/plain": [
       "1.0*k_w*(b*s + k_s)/(-(b*s + k_s)**2 + (b*s + k_s + m_2*s**2)*(b*s + k_s + k_w + m_1*s**2))"
      ],
      "text/latex": "$\\displaystyle \\frac{1.0 k_{w} \\left(b s + k_{s}\\right)}{- \\left(b s + k_{s}\\right)^{2} + \\left(b s + k_{s} + m_{2} s^{2}\\right) \\left(b s + k_{s} + k_{w} + m_{1} s^{2}\\right)}$"
     },
     "execution_count": 10,
     "metadata": {},
     "output_type": "execute_result"
    }
   ],
   "execution_count": 10
  },
  {
   "cell_type": "markdown",
   "id": "5aea150a-ab39-4f28-945e-c85b227078d4",
   "metadata": {},
   "source": [
    "We can substitute numeric values for the symbolic model parameters we've used so far (the masses of the car and the wheel, the spring constants of the suspension spring and the tire, and the damping coefficient of the dashpot) into the *Sympy* expression of the transfer function. Note that the mass of the car is actually the mass of the car without the four wheels divided by four (quarter-car model)."
   ]
  },
  {
   "cell_type": "code",
   "id": "86a2af41-7933-49e4-9a41-5069f4b67bd6",
   "metadata": {
    "ExecuteTime": {
     "end_time": "2025-01-05T10:17:06.568292Z",
     "start_time": "2025-01-05T10:17:06.463790Z"
    }
   },
   "source": [
    "subs_dict = {\n",
    "    wheel.value: Q_(20, 'kg').m,\n",
    "    car.value: Q_(375, 'kg').m,\n",
    "    spring.value: Q_(130_000, 'N / m').m,\n",
    "    dashpot.value: Q_(9800, 'N * s / m').m,\n",
    "    tire.value: Q_(1e6, 'N / m').m\n",
    "}\n",
    "G = G.subs(subs_dict)\n",
    "G.simplify()"
   ],
   "outputs": [
    {
     "data": {
      "text/plain": [
       "(9800000000.0*s + 130000000000.0)/(7500.0*s**4 + 3871000.0*s**3 + 426350000.0*s**2 + 9800000000.0*s + 130000000000.0)"
      ],
      "text/latex": "$\\displaystyle \\frac{9800000000.0 s + 130000000000.0}{7500.0 s^{4} + 3871000.0 s^{3} + 426350000.0 s^{2} + 9800000000.0 s + 130000000000.0}$"
     },
     "execution_count": 11,
     "metadata": {},
     "output_type": "execute_result"
    }
   ],
   "execution_count": 11
  },
  {
   "cell_type": "markdown",
   "id": "7111112a-cdd0-4c6c-848f-d81290691106",
   "metadata": {},
   "source": [
    "To finally get a full-fledged transfer function, we transform the *Sympy* expression of $G(s)$ into a `TransferFunction` object. "
   ]
  },
  {
   "cell_type": "code",
   "id": "d660e1ce-3a6c-4296-afa6-57a1a66173b9",
   "metadata": {
    "ExecuteTime": {
     "end_time": "2025-01-05T10:17:06.695709Z",
     "start_time": "2025-01-05T10:17:06.593052Z"
    }
   },
   "source": [
    "G = TransferFunction(G)\n",
    "G.expr"
   ],
   "outputs": [
    {
     "data": {
      "text/plain": [
       "(1306666.66666667*s + 17333333.3333333)/(1.0*s**4 + 516.133333333333*s**3 + 56846.6666666667*s**2 + 1306666.66666667*s + 17333333.3333333)"
      ],
      "text/latex": "$\\displaystyle \\frac{1306666.66666667 s + 17333333.3333333}{1.0 s^{4} + 516.133333333333 s^{3} + 56846.6666666667 s^{2} + 1306666.66666667 s + 17333333.3333333}$"
     },
     "execution_count": 12,
     "metadata": {},
     "output_type": "execute_result"
    }
   ],
   "execution_count": 12
  },
  {
   "cell_type": "code",
   "id": "ed21484b-8174-41f8-882d-f342fbd7167a",
   "metadata": {
    "ExecuteTime": {
     "end_time": "2025-01-05T10:17:06.726007Z",
     "start_time": "2025-01-05T10:17:06.723127Z"
    }
   },
   "source": [],
   "outputs": [],
   "execution_count": null
  }
 ],
 "metadata": {
  "kernelspec": {
   "display_name": "Python 3 (ipykernel)",
   "language": "python",
   "name": "python3"
  },
  "language_info": {
   "codemirror_mode": {
    "name": "ipython",
    "version": 3
   },
   "file_extension": ".py",
   "mimetype": "text/x-python",
   "name": "python",
   "nbconvert_exporter": "python",
   "pygments_lexer": "ipython3",
   "version": "3.11.10"
  }
 },
 "nbformat": 4,
 "nbformat_minor": 5
}
