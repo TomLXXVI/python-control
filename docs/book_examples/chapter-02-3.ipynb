{
 "cells": [
  {
   "cell_type": "markdown",
   "id": "d30304d5-e1b0-4ed2-95c2-b6d88e6664a4",
   "metadata": {},
   "source": [
    "# Chapter 2 : Modeling in the Frequency Domain (Part 3)\n",
    "---"
   ]
  },
  {
   "cell_type": "code",
   "execution_count": 1,
   "id": "ccb2e912-bcf2-4fb1-8871-0424716b8072",
   "metadata": {},
   "outputs": [],
   "source": [
    "import sys\n",
    "\n",
    "if (path := \"C:/Users/Tom/pycharm-projects/python-control\") not in sys.path:\n",
    "    sys.path.append(path)\n",
    "\n",
    "import sympy as sp\n",
    "\n",
    "from IPython.display import display\n",
    "\n",
    "from python_control import Quantity, TransferFunction\n",
    "from python_control.modeling.mechanical import (\n",
    "    Spring, Damper, Mass,\n",
    "    TorsionSpring, TorsionDamper, Inertia,\n",
    "    GearRatio\n",
    ")\n",
    "\n",
    "Q_ = Quantity"
   ]
  },
  {
   "cell_type": "markdown",
   "id": "c0108cc9-ed9f-4359-8ead-64cf7431fea2",
   "metadata": {},
   "source": [
    "## 2.5 : Translational Mechanical System Transfer Functions"
   ]
  },
  {
   "cell_type": "markdown",
   "id": "15f84fa9-0a88-4dcf-8170-751f23153dfa",
   "metadata": {},
   "source": [
    "### Example 2.16 : Transfer Function - One Equation of Motion"
   ]
  },
  {
   "cell_type": "markdown",
   "id": "447a3a72-5b08-4e25-a79b-a36319604799",
   "metadata": {},
   "source": [
    "Find the transfer function $X(s) / F(s)$ for the system in the figure below.\n",
    "\n",
    "![mass-spring-damper system](./images/example_2-16a.png)"
   ]
  },
  {
   "cell_type": "markdown",
   "id": "794dfc1f-ec82-4c30-872e-01805a06bc30",
   "metadata": {},
   "source": [
    "Free-body diagram: Place all the forces on the mass felt by the mass. We assume that the mass is travelling in the direction of the applied force $f(t)$. All other forces impede the motion to the right and act to oppose it. Hence, the spring, viscous damper, and the mass inertia point to the left.\n",
    "\n",
    "![free body diagram](./images/example_2-16b.png)"
   ]
  },
  {
   "cell_type": "markdown",
   "id": "dd64d428-be2c-4429-831f-5719f43961be",
   "metadata": {},
   "source": [
    "Differential equation of motion:\n",
    "$$\n",
    "M\\frac{{{d^2}x\\left( t \\right)}}{{dt}} + {f_v}\\frac{{dx\\left( t \\right)}}{{dt}} + Kx\\left( t \\right) = f\\left( t \\right)\n",
    "$$"
   ]
  },
  {
   "cell_type": "markdown",
   "id": "000f8998-c7c1-49a0-874a-9035c9d57b4f",
   "metadata": {},
   "source": [
    "Laplace transform:\n",
    "$$M{s^2} \\cdot X\\left( s \\right) + {f_v}s \\cdot X\\left( s \\right) + K \\cdot X\\left( s \\right) = F\\left( s \\right)$$\n",
    "$$\\left( {M{s^2} + {f_v}s + K} \\right) \\cdot X\\left( s \\right) = F\\left( s \\right)$$"
   ]
  },
  {
   "cell_type": "markdown",
   "id": "1d5089db-3e3a-4aa4-9396-aa1fc5ab1d83",
   "metadata": {},
   "source": [
    "Transfer function:\n",
    "$$G\\left( s \\right) = \\frac{{X\\left( s \\right)}}{{F\\left( s \\right)}} = \\frac{1}{{M{s^2} + fs + K}}$$"
   ]
  },
  {
   "cell_type": "markdown",
   "id": "d60ffde1-05e6-4e5c-833a-d1f767639251",
   "metadata": {},
   "source": [
    "For each mechanical compononent we can define an impedance $X(s) / F(s)$, which is essentially a transfer function between the output $X(s)$, being the displacement of the mass-spring-damper system, and the input $F(s)$, being the external force applied to the system:"
   ]
  },
  {
   "cell_type": "code",
   "execution_count": 2,
   "id": "2967926e-d9f3-4215-b98d-c152371295bc",
   "metadata": {},
   "outputs": [
    {
     "data": {
      "text/latex": [
       "$\\displaystyle 1.0 M s^{2}$"
      ],
      "text/plain": [
       "1.0*M*s**2"
      ]
     },
     "execution_count": 2,
     "metadata": {},
     "output_type": "execute_result"
    }
   ],
   "source": [
    "mass = Mass('M')\n",
    "mass.Z.expr"
   ]
  },
  {
   "cell_type": "code",
   "execution_count": 3,
   "id": "88cbe7bc-2bd0-4cbb-9276-0bd4f9dfc206",
   "metadata": {},
   "outputs": [
    {
     "data": {
      "text/latex": [
       "$\\displaystyle 1.0 f_{v} s$"
      ],
      "text/plain": [
       "1.0*f_v*s"
      ]
     },
     "execution_count": 3,
     "metadata": {},
     "output_type": "execute_result"
    }
   ],
   "source": [
    "damper = Damper('f_v')\n",
    "damper.Z.expr"
   ]
  },
  {
   "cell_type": "code",
   "execution_count": 4,
   "id": "7287673d-73b4-4242-ad05-221bb61bbdc3",
   "metadata": {},
   "outputs": [
    {
     "data": {
      "text/latex": [
       "$\\displaystyle 1.0 K$"
      ],
      "text/plain": [
       "1.0*K"
      ]
     },
     "execution_count": 4,
     "metadata": {},
     "output_type": "execute_result"
    }
   ],
   "source": [
    "spring = Spring('K')\n",
    "spring.Z.expr"
   ]
  },
  {
   "cell_type": "markdown",
   "id": "2be46316-f700-468d-84d3-9e675ae95379",
   "metadata": {},
   "source": [
    "The total impedance of the system is the sum of the impedances of mass, damper, and spring:"
   ]
  },
  {
   "cell_type": "code",
   "execution_count": 5,
   "id": "d94bf1f5-0f65-482f-9ea4-cd441fd224a4",
   "metadata": {},
   "outputs": [
    {
     "data": {
      "text/latex": [
       "$\\displaystyle 1.0 K + 1.0 M s^{2} + 1.0 f_{v} s$"
      ],
      "text/plain": [
       "1.0*K + 1.0*M*s**2 + 1.0*f_v*s"
      ]
     },
     "execution_count": 5,
     "metadata": {},
     "output_type": "execute_result"
    }
   ],
   "source": [
    "Z = mass.Z + damper.Z + spring.Z\n",
    "Z.expr"
   ]
  },
  {
   "cell_type": "code",
   "execution_count": 6,
   "id": "425ab401-8ba5-4f07-b971-228b4fd6fff0",
   "metadata": {},
   "outputs": [
    {
     "data": {
      "text/plain": [
       "python_control.core.transfer_function.TransferFunction"
      ]
     },
     "execution_count": 6,
     "metadata": {},
     "output_type": "execute_result"
    }
   ],
   "source": [
    "type(Z)"
   ]
  },
  {
   "cell_type": "markdown",
   "id": "e214783c-df35-46ae-b8c1-cd8d1023d9d0",
   "metadata": {},
   "source": [
    "### Example 2.17 : Transfer Function - Two Degrees of Freedom"
   ]
  },
  {
   "cell_type": "markdown",
   "id": "49f15564-70c5-4552-9cf8-d16ca386bae1",
   "metadata": {},
   "source": [
    "Find the transfer function $X_2(s) / F(s)$ for the system in the figure below.\n",
    "\n",
    "![two-degrees-of-freedom translational mechanical system](./images/example_2-17.png)"
   ]
  },
  {
   "cell_type": "markdown",
   "id": "50bfbd0b-e773-4780-a39b-7509f534165b",
   "metadata": {},
   "source": [
    "Mechanical components that make up the system:"
   ]
  },
  {
   "cell_type": "code",
   "execution_count": 7,
   "id": "1ed9773c-2035-4ca2-8884-2ecdc66c5557",
   "metadata": {},
   "outputs": [],
   "source": [
    "mass1 = Mass('M1')\n",
    "spring1 = Spring('K1')\n",
    "damper1 = Damper('f_v1')\n",
    "damper3 = Damper('f_v3')\n",
    "spring2 = Spring('K2')\n",
    "mass2 = Mass('M2')\n",
    "damper2 = Damper('f_v2')\n",
    "spring3 = Spring('K3')"
   ]
  },
  {
   "cell_type": "markdown",
   "id": "56a64344-6c25-4fbe-af4e-fd52454ac397",
   "metadata": {},
   "source": [
    "**Motion of $x_1$**"
   ]
  },
  {
   "cell_type": "markdown",
   "id": "ed6aa381-44d9-4a26-bfd5-d68ca43685e4",
   "metadata": {},
   "source": [
    "Sum of impedances connected to the motion at $x_1$:"
   ]
  },
  {
   "cell_type": "code",
   "execution_count": 8,
   "id": "e2092ff5-70b3-4c87-86b2-43f4bdc85053",
   "metadata": {},
   "outputs": [],
   "source": [
    "Z11 = mass1.Z + spring1.Z + damper1.Z + damper3.Z + spring2.Z"
   ]
  },
  {
   "cell_type": "markdown",
   "id": "a434e632-bee4-45f1-bcef-127ba96203c3",
   "metadata": {},
   "source": [
    "Sum of impedances between $x_1$ and $x_2$: "
   ]
  },
  {
   "cell_type": "code",
   "execution_count": 9,
   "id": "6d4e6f11-e512-4a6e-9281-d6a647ded157",
   "metadata": {},
   "outputs": [],
   "source": [
    "Z12 = damper3.Z + spring2.Z"
   ]
  },
  {
   "cell_type": "markdown",
   "id": "4059ca89-3ccd-4025-aeb5-54fa4a1ee2b6",
   "metadata": {},
   "source": [
    "**Motion of $x_2$**"
   ]
  },
  {
   "cell_type": "markdown",
   "id": "61949706-4fa8-4be4-b0a4-ba40227c4b03",
   "metadata": {},
   "source": [
    "Sum of impedances connected to the motion at $x_2$:"
   ]
  },
  {
   "cell_type": "code",
   "execution_count": 10,
   "id": "ebe0292f-dcb7-4c2b-90cb-7452009b60fe",
   "metadata": {},
   "outputs": [],
   "source": [
    "Z22 = mass2.Z + damper3.Z + spring2.Z + damper2.Z + spring3.Z"
   ]
  },
  {
   "cell_type": "markdown",
   "id": "fec47d73-b1d6-4e80-9eda-8c37211f54f0",
   "metadata": {},
   "source": [
    "Sum of impedances between $x_2$ and $x_1$: "
   ]
  },
  {
   "cell_type": "code",
   "execution_count": 11,
   "id": "1df08cbf-dd1e-4bf5-8de1-0bc069ce6da8",
   "metadata": {},
   "outputs": [],
   "source": [
    "Z21 = damper3.Z + spring2.Z"
   ]
  },
  {
   "cell_type": "markdown",
   "id": "c9b24587-e45d-4b00-bcc0-a87a35a99c46",
   "metadata": {},
   "source": [
    "**Transfer Function**"
   ]
  },
  {
   "cell_type": "markdown",
   "id": "1a5bd00a-e9d6-4540-8c87-b331c65fc72e",
   "metadata": {},
   "source": [
    "The two equations of motion of this system can be written in matrix notation like:\n",
    "$$\n",
    "\\left[ {\\begin{array}{*{20}{c}}\n",
    "{{Z_{11}}}&{ - {Z_{12}}}\\\\\n",
    "{ - {Z_{21}}}&{{Z_{22}}}\n",
    "\\end{array}} \\right] \\cdot \\left[ {\\begin{array}{*{20}{c}}\n",
    "{{X_1}}\\\\\n",
    "{{X_2}}\n",
    "\\end{array}} \\right] = \\left[ {\\begin{array}{*{20}{c}}\n",
    "{{F_1}}\\\\\n",
    "{{F_2}}\n",
    "\\end{array}} \\right]\n",
    "$$\n",
    "To find the transfer function $X_2(s) / F(s)$, this set of two equations can first be solved symbolically with *Sympy*. Note that no external force is applied at $x_2$."
   ]
  },
  {
   "cell_type": "code",
   "execution_count": 12,
   "id": "23ba0e51-2466-4f8b-a101-cead5f80f3e8",
   "metadata": {},
   "outputs": [
    {
     "data": {
      "text/latex": [
       "$\\displaystyle - \\frac{F \\left(- 1.0 K_{2} - 1.0 f_{v3} s\\right)}{\\left(1.0 K_{1} + 1.0 K_{2} + 1.0 M_{1} s^{2} + 1.0 s \\left(1.0 f_{v1} + 1.0 f_{v3}\\right)\\right) \\left(1.0 K_{2} + 1.0 K_{3} + 1.0 M_{2} s^{2} + 1.0 s \\left(1.0 f_{v2} + 1.0 f_{v3}\\right) - \\frac{\\left(- 1.0 K_{2} - 1.0 f_{v3} s\\right)^{2}}{1.0 K_{1} + 1.0 K_{2} + 1.0 M_{1} s^{2} + 1.0 s \\left(1.0 f_{v1} + 1.0 f_{v3}\\right)}\\right)}$"
      ],
      "text/plain": [
       "-F*(-1.0*K2 - 1.0*f_v3*s)/((1.0*K1 + 1.0*K2 + 1.0*M1*s**2 + 1.0*s*(1.0*f_v1 + 1.0*f_v3))*(1.0*K2 + 1.0*K3 + 1.0*M2*s**2 + 1.0*s*(1.0*f_v2 + 1.0*f_v3) - (-1.0*K2 - 1.0*f_v3*s)**2/(1.0*K1 + 1.0*K2 + 1.0*M1*s**2 + 1.0*s*(1.0*f_v1 + 1.0*f_v3))))"
      ]
     },
     "execution_count": 12,
     "metadata": {},
     "output_type": "execute_result"
    }
   ],
   "source": [
    "F1 = sp.Symbol('F')\n",
    "F2 = 0\n",
    "\n",
    "Z = sp.Matrix([[Z11.expr, -Z12.expr], [-Z21.expr, Z22.expr]])\n",
    "F = sp.Matrix([[F1], [F2]])\n",
    "\n",
    "X = Z.LUsolve(F)\n",
    "X2 = X[1]\n",
    "X2"
   ]
  },
  {
   "cell_type": "code",
   "execution_count": 13,
   "id": "e48b47f1-b186-471f-84e8-923c0049a47d",
   "metadata": {},
   "outputs": [
    {
     "data": {
      "text/latex": [
       "$\\displaystyle \\frac{\\frac{K_{2}}{M_{1} M_{2}} + \\frac{f_{v3} s}{M_{1} M_{2}}}{s^{4} + \\frac{s^{3} \\left(M_{1} f_{v2} + M_{1} f_{v3} + M_{2} f_{v1} + M_{2} f_{v3}\\right)}{M_{1} M_{2}} + \\frac{s^{2} \\left(K_{1} M_{2} + K_{2} M_{1} + K_{2} M_{2} + K_{3} M_{1} + f_{v1} f_{v2} + f_{v1} f_{v3} + f_{v2} f_{v3}\\right)}{M_{1} M_{2}} + \\frac{s \\left(K_{1} f_{v2} + K_{1} f_{v3} + K_{2} f_{v1} + K_{2} f_{v2} + K_{3} f_{v1} + K_{3} f_{v3}\\right)}{M_{1} M_{2}} + \\frac{K_{1} K_{2} + K_{1} K_{3} + K_{2} K_{3}}{M_{1} M_{2}}}$"
      ],
      "text/plain": [
       "(K2/(M1*M2) + f_v3*s/(M1*M2))/(s**4 + s**3*(M1*f_v2 + M1*f_v3 + M2*f_v1 + M2*f_v3)/(M1*M2) + s**2*(K1*M2 + K2*M1 + K2*M2 + K3*M1 + f_v1*f_v2 + f_v1*f_v3 + f_v2*f_v3)/(M1*M2) + s*(K1*f_v2 + K1*f_v3 + K2*f_v1 + K2*f_v2 + K3*f_v1 + K3*f_v3)/(M1*M2) + (K1*K2 + K1*K3 + K2*K3)/(M1*M2))"
      ]
     },
     "execution_count": 13,
     "metadata": {},
     "output_type": "execute_result"
    }
   ],
   "source": [
    "G = TransferFunction(X2 / F1)\n",
    "G.expr"
   ]
  },
  {
   "cell_type": "markdown",
   "id": "cda1f1f3-5fd1-4389-8006-49c46800fe3c",
   "metadata": {},
   "source": [
    "### Example 2.18 : Equations of Motion by Inspection"
   ]
  },
  {
   "cell_type": "markdown",
   "id": "ce28d9d1-ab90-4d9f-b9f1-879014f00e43",
   "metadata": {},
   "source": [
    "Write, but do not solve, the equations of motion for the mechanical network in the figure below.\n",
    "\n",
    "![three-degrees-of-freedom translational mechanical system](./images/example_2-18.png)"
   ]
  },
  {
   "cell_type": "markdown",
   "id": "803b4a5e-44a4-405b-909c-884e7f9c4d20",
   "metadata": {},
   "source": [
    "Mechanical components that make up the system:"
   ]
  },
  {
   "cell_type": "code",
   "execution_count": 14,
   "id": "f3ea77af-6197-4fed-9835-a46600649d95",
   "metadata": {},
   "outputs": [],
   "source": [
    "mass1 = Mass('M1')\n",
    "spring1 = Spring('K1')\n",
    "damper1 = Damper('f_v1')\n",
    "spring2 = Spring('K2')\n",
    "damper3 = Damper('f_v3')\n",
    "mass2 = Mass('M2')\n",
    "damper2 = Damper('f_v2')\n",
    "damper4 = Damper('f_v4')\n",
    "mass3 = Mass('M3')"
   ]
  },
  {
   "cell_type": "markdown",
   "id": "68bebfd9-2925-462d-8150-8719c65733e1",
   "metadata": {},
   "source": [
    "**Motion of $x_1$**"
   ]
  },
  {
   "cell_type": "markdown",
   "id": "08adb149-7f49-42aa-983c-0e8183c5bb96",
   "metadata": {},
   "source": [
    "Sum of impedances connected to the motion at $x_1$:"
   ]
  },
  {
   "cell_type": "code",
   "execution_count": 15,
   "id": "830bcd97-7598-41a7-a9ef-f5e349f75af0",
   "metadata": {},
   "outputs": [],
   "source": [
    "Z11 = mass1.Z + spring1.Z + damper1.Z + damper3.Z + spring2.Z"
   ]
  },
  {
   "cell_type": "markdown",
   "id": "a2dcefc0-5d4e-45e4-bad7-65ef0a33953e",
   "metadata": {},
   "source": [
    "Sum of impedances between $x_1$ and $x_2$:"
   ]
  },
  {
   "cell_type": "code",
   "execution_count": 16,
   "id": "ea7962cd-a293-41b2-8a5b-4508137a3af3",
   "metadata": {},
   "outputs": [],
   "source": [
    "Z12 = spring2.Z"
   ]
  },
  {
   "cell_type": "markdown",
   "id": "f516efa9-6efe-4b5b-9da8-76e97153f0a8",
   "metadata": {},
   "source": [
    "Sum of impedances between $x_1$ and $x_3$:"
   ]
  },
  {
   "cell_type": "code",
   "execution_count": 17,
   "id": "1b976d1c-0f44-4ad3-a164-641df4d62198",
   "metadata": {},
   "outputs": [],
   "source": [
    "Z13 = damper3.Z"
   ]
  },
  {
   "cell_type": "markdown",
   "id": "a9a7567d-c6c6-4be0-be2e-8fd6e66bb4a0",
   "metadata": {},
   "source": [
    "**Motion of $x_2$**"
   ]
  },
  {
   "cell_type": "markdown",
   "id": "9a48265f-94e5-49d5-8ca2-b0f05a4f9173",
   "metadata": {},
   "source": [
    "Sum of impedances connected to the motion at $x_2$:"
   ]
  },
  {
   "cell_type": "code",
   "execution_count": 18,
   "id": "6ceabf22-c632-46a8-85ba-f793daa02027",
   "metadata": {},
   "outputs": [],
   "source": [
    "Z22 = mass2.Z + spring2.Z + damper2.Z + damper4.Z"
   ]
  },
  {
   "cell_type": "markdown",
   "id": "1f4396fb-f6bc-42e6-b4bd-8549af6fa18f",
   "metadata": {},
   "source": [
    "Sum of impedances between $x_2$ and $x_1$:"
   ]
  },
  {
   "cell_type": "code",
   "execution_count": 19,
   "id": "853c1b13-5ff4-471d-ac8f-58f5d5b87b9e",
   "metadata": {},
   "outputs": [],
   "source": [
    "Z21 = Z12"
   ]
  },
  {
   "cell_type": "markdown",
   "id": "b3420405-276f-4ec1-a94d-35c7dacf7b12",
   "metadata": {},
   "source": [
    "Sum of impedances between $x_2$ and $x_3$:"
   ]
  },
  {
   "cell_type": "code",
   "execution_count": 20,
   "id": "8fa34fe1-2eab-4353-b362-fb1f70607f24",
   "metadata": {},
   "outputs": [],
   "source": [
    "Z23 = damper4.Z"
   ]
  },
  {
   "cell_type": "markdown",
   "id": "7cf222d1-fe39-4d92-aeb0-9239b6f3f775",
   "metadata": {},
   "source": [
    "**Motion of $x_3$**"
   ]
  },
  {
   "cell_type": "markdown",
   "id": "452af17a-7867-461c-b9bf-baf713ea3529",
   "metadata": {},
   "source": [
    "Sum of impedances connected to the motion at $x_3$:"
   ]
  },
  {
   "cell_type": "code",
   "execution_count": 21,
   "id": "26e93a95-d39e-473f-bf1f-45741b538cfa",
   "metadata": {},
   "outputs": [],
   "source": [
    "Z33 = mass3.Z + damper3.Z + damper4.Z"
   ]
  },
  {
   "cell_type": "markdown",
   "id": "c8b7b140-d01c-4fcb-82e8-720bb454a752",
   "metadata": {},
   "source": [
    "Sum of impedances between $x_3$ and $x_1$:"
   ]
  },
  {
   "cell_type": "code",
   "execution_count": 22,
   "id": "6a15a30f-0fd6-41bf-ac56-e212cb0df454",
   "metadata": {},
   "outputs": [],
   "source": [
    "Z31 = Z13"
   ]
  },
  {
   "cell_type": "markdown",
   "id": "6d7d1d97-ddda-42f5-a58f-93a84c25344f",
   "metadata": {},
   "source": [
    "Sum of impedances between $x_3$ and $x_2$:"
   ]
  },
  {
   "cell_type": "code",
   "execution_count": 23,
   "id": "ebdc9a12-755f-4306-bc0d-5ade0a8c0f4a",
   "metadata": {},
   "outputs": [],
   "source": [
    "Z32 = Z23"
   ]
  },
  {
   "cell_type": "markdown",
   "id": "00a25306-0eb0-41ec-8feb-dc56bec268da",
   "metadata": {},
   "source": [
    "**Equations of Motion**"
   ]
  },
  {
   "cell_type": "markdown",
   "id": "1126f6f9-11b4-4a80-b719-1eda9d14c7d7",
   "metadata": {},
   "source": [
    "The three equations of motion of this system can be written in matrix notation like:\n",
    "$$\n",
    "\\left[ {\\begin{array}{*{20}{c}}\n",
    "{{Z_{11}}}&{ - {Z_{12}}}&{ - {Z_{13}}}\\\\\n",
    "{ - {Z_{21}}}&{{Z_{22}}}&{ - {Z_{23}}}\\\\\n",
    "{ - {Z_{31}}}&{ - {Z_{32}}}&{{Z_{33}}}\n",
    "\\end{array}} \\right] \\cdot \\left[ {\\begin{array}{*{20}{c}}\n",
    "{{X_1}}\\\\\n",
    "{{X_2}}\\\\\n",
    "{{X_3}}\n",
    "\\end{array}} \\right] = \\left[ {\\begin{array}{*{20}{c}}\n",
    "{{F_1}}\\\\\n",
    "{{F_2}}\\\\\n",
    "{{F_3}}\n",
    "\\end{array}} \\right]\n",
    "$$"
   ]
  },
  {
   "cell_type": "code",
   "execution_count": 24,
   "id": "5e73e4e6-2297-43df-981c-d2a51f47dc63",
   "metadata": {},
   "outputs": [
    {
     "data": {
      "text/latex": [
       "$\\displaystyle - 1.0 K_{2} X_{2} + X_{1} \\left(1.0 K_{1} + 1.0 K_{2} + 1.0 M_{1} s^{2} + 1.0 s \\left(1.0 f_{v1} + 1.0 f_{v3}\\right)\\right) - 1.0 X_{3} f_{v3} s$"
      ],
      "text/plain": [
       "-1.0*K2*X2 + X1*(1.0*K1 + 1.0*K2 + 1.0*M1*s**2 + 1.0*s*(1.0*f_v1 + 1.0*f_v3)) - 1.0*X3*f_v3*s"
      ]
     },
     "metadata": {},
     "output_type": "display_data"
    },
    {
     "data": {
      "text/latex": [
       "$\\displaystyle - F - 1.0 K_{2} X_{1} + X_{2} \\left(1.0 K_{2} + 1.0 M_{2} s^{2} + 1.0 s \\left(1.0 f_{v2} + 1.0 f_{v4}\\right)\\right) - 1.0 X_{3} f_{v4} s$"
      ],
      "text/plain": [
       "-F - 1.0*K2*X1 + X2*(1.0*K2 + 1.0*M2*s**2 + 1.0*s*(1.0*f_v2 + 1.0*f_v4)) - 1.0*X3*f_v4*s"
      ]
     },
     "metadata": {},
     "output_type": "display_data"
    },
    {
     "data": {
      "text/latex": [
       "$\\displaystyle - 1.0 X_{1} f_{v3} s - 1.0 X_{2} f_{v4} s + X_{3} \\left(1.0 M_{3} s^{2} + 1.0 s \\left(1.0 f_{v3} + 1.0 f_{v4}\\right)\\right)$"
      ],
      "text/plain": [
       "-1.0*X1*f_v3*s - 1.0*X2*f_v4*s + X3*(1.0*M3*s**2 + 1.0*s*(1.0*f_v3 + 1.0*f_v4))"
      ]
     },
     "metadata": {},
     "output_type": "display_data"
    }
   ],
   "source": [
    "F1, F2, F3 = 0, sp.Symbol('F'), 0\n",
    "X1, X2, X3 = sp.symbols(['X1', 'X2', 'X3'])\n",
    "\n",
    "Z = sp.Matrix([\n",
    "    [Z11.expr, -Z12.expr, -Z13.expr], \n",
    "    [-Z21.expr, Z22.expr, -Z23.expr],\n",
    "    [-Z31.expr, -Z32.expr, Z33.expr]\n",
    "])\n",
    "X = sp.Matrix([[X1], [X2], [X3]])\n",
    "F = sp.Matrix([[F1], [F2], [F3]])\n",
    "\n",
    "for eq in Z * X - F:\n",
    "    display(eq)"
   ]
  },
  {
   "cell_type": "markdown",
   "id": "8406d4c1-8e92-41ac-8e3f-d01dbb2468de",
   "metadata": {},
   "source": [
    "### Skill-Assessment Exercise 2.8"
   ]
  },
  {
   "cell_type": "markdown",
   "id": "1d5f464d-d95e-44ed-8696-589d714c13d3",
   "metadata": {},
   "source": [
    "Find the transfer function $G(s) = X_2(s) / F(s)$ for the translational mechanical system shown in the figure below.\n",
    "\n",
    "![translational mechanical system for skill-assessement 2.8](./images/skill_exercise_2-8.png)"
   ]
  },
  {
   "cell_type": "markdown",
   "id": "8045b78d-fd43-4e45-911b-ecdfa5064939",
   "metadata": {},
   "source": [
    "Mechanical components that make up the system:"
   ]
  },
  {
   "cell_type": "code",
   "execution_count": 25,
   "id": "6050d6db-e13c-4f0f-bd1d-6b9dbf11751f",
   "metadata": {},
   "outputs": [],
   "source": [
    "mass1 = Mass(Q_(1, 'kg'))\n",
    "damper1 = Damper(Q_(1, 'N * s / m'))\n",
    "damper2 = Damper(Q_(1, 'N * s / m'))\n",
    "damper3 = Damper(Q_(1, 'N * s / m'))\n",
    "spring = Spring(Q_(1, 'N / m'))\n",
    "mass2 = Mass(Q_(1, 'kg'))\n",
    "damper4 = Damper(Q_(1, 'N * s / m'))"
   ]
  },
  {
   "cell_type": "markdown",
   "id": "bb137a45-2c56-43e0-9c91-76129b9e6ff9",
   "metadata": {},
   "source": [
    "**Motion of $x_1$**"
   ]
  },
  {
   "cell_type": "markdown",
   "id": "04529b07-650b-4150-955b-b67ea8cf97e2",
   "metadata": {},
   "source": [
    "Sum of impedances connected to the motion at $x_1$:"
   ]
  },
  {
   "cell_type": "code",
   "execution_count": 26,
   "id": "24e83066-946f-47c9-8918-609e16ccc655",
   "metadata": {},
   "outputs": [],
   "source": [
    "Z11 = mass1.Z + damper1.Z + damper2.Z + spring.Z + damper3.Z"
   ]
  },
  {
   "cell_type": "markdown",
   "id": "001263e3-36f1-470d-8453-3fbe131d644a",
   "metadata": {},
   "source": [
    "Sum of impedances between $x_1$ and $x_2$:"
   ]
  },
  {
   "cell_type": "code",
   "execution_count": 27,
   "id": "cfb231c8-78d2-482e-adee-fe20fba062e2",
   "metadata": {},
   "outputs": [],
   "source": [
    "Z12 = damper1.Z + damper2.Z + spring.Z + damper3.Z"
   ]
  },
  {
   "cell_type": "markdown",
   "id": "c3942dd5-f1b7-43c0-9626-d5f3227b55f6",
   "metadata": {},
   "source": [
    "**Motion of $x_2$**"
   ]
  },
  {
   "cell_type": "markdown",
   "id": "e0fe7763-7f9c-4e0c-b295-845218d91ea4",
   "metadata": {},
   "source": [
    "Sum of impedances connected to the motion at $x_2$:"
   ]
  },
  {
   "cell_type": "code",
   "execution_count": 28,
   "id": "51cc7785-247a-4b58-9340-76c1fd1f7fbb",
   "metadata": {},
   "outputs": [],
   "source": [
    "Z22 = mass2.Z + damper1.Z + damper2.Z + spring.Z + damper3.Z + damper4.Z"
   ]
  },
  {
   "cell_type": "markdown",
   "id": "25b9b93e-d130-49bc-941e-9923ab297b53",
   "metadata": {},
   "source": [
    "Sum of impedances between $x_2$ and $x_1$:"
   ]
  },
  {
   "cell_type": "code",
   "execution_count": 29,
   "id": "5a023640-834c-4936-bfd3-439964cd8d95",
   "metadata": {},
   "outputs": [],
   "source": [
    "Z21 = Z12"
   ]
  },
  {
   "cell_type": "markdown",
   "id": "e50139c6-b991-4375-b66f-f4275d363704",
   "metadata": {},
   "source": [
    "**Transfer Function**"
   ]
  },
  {
   "cell_type": "code",
   "execution_count": 30,
   "id": "a65ce19a-baa1-46f7-bf54-df2d212df78a",
   "metadata": {},
   "outputs": [
    {
     "data": {
      "text/latex": [
       "$\\displaystyle \\frac{3.0 s + 1.0}{1.0 s^{4} + 7.0 s^{3} + 5.0 s^{2} + 1.0 s}$"
      ],
      "text/plain": [
       "(3.0*s + 1.0)/(1.0*s**4 + 7.0*s**3 + 5.0*s**2 + 1.0*s)"
      ]
     },
     "execution_count": 30,
     "metadata": {},
     "output_type": "execute_result"
    }
   ],
   "source": [
    "F1 = sp.Symbol('F')\n",
    "F2 = 0\n",
    "\n",
    "Z = sp.Matrix([[Z11.expr, -Z12.expr], [-Z21.expr, Z22.expr]])\n",
    "F = sp.Matrix([[F1], [F2]])\n",
    "\n",
    "X = Z.LUsolve(F)\n",
    "X2 = X[1]\n",
    "X2\n",
    "\n",
    "G = TransferFunction(X2 / F1)\n",
    "G.expr"
   ]
  },
  {
   "cell_type": "markdown",
   "id": "147adb7c-6849-4e7e-9d56-7806da610729",
   "metadata": {},
   "source": [
    "## 2.6 : Rotational Mechanical System Transfer Functions"
   ]
  },
  {
   "cell_type": "markdown",
   "id": "3e42f1af-e135-4372-9989-7db49689d324",
   "metadata": {},
   "source": [
    "### Example 2.19 : Transfer Function - Two Equations of Motion"
   ]
  },
  {
   "cell_type": "markdown",
   "id": "3d93784e-f98f-4b36-87ef-9f4c7d976123",
   "metadata": {},
   "source": [
    "Find the transfer function $\\theta_2(s) / T(s)$. The rod is supported by bearings at either end and is undergoing torsion. A torque is applied at the left, and the displacement is measured at the right.\n",
    "\n",
    "![physical system](./images/example_2-19.png)"
   ]
  },
  {
   "cell_type": "markdown",
   "id": "6c494f98-6a64-4163-a7fe-3d3bf76ca8e4",
   "metadata": {},
   "source": [
    "We assume that the torsion acts like a spring concentrated at one particular point in the rod, with an inertia $J_1$ to the left and an inertia $J_2$ to the right. There are two degrees of freedom, since each inertia can be rotated while the other is held still."
   ]
  },
  {
   "cell_type": "markdown",
   "id": "5b566a28-f2a9-4e38-9dfb-f29b5e5e5482",
   "metadata": {},
   "source": [
    "Mechanical components that make up the system:"
   ]
  },
  {
   "cell_type": "code",
   "execution_count": 31,
   "id": "08155ef0-4823-4a26-a48c-91b3ff08558e",
   "metadata": {},
   "outputs": [],
   "source": [
    "damper1 = TorsionDamper('D1')\n",
    "inertia1 = Inertia('J1')\n",
    "spring = Spring('K')\n",
    "inertia2 = Inertia('J2')\n",
    "damper2 = TorsionDamper('D2')"
   ]
  },
  {
   "cell_type": "markdown",
   "id": "a7bc23fb-be81-43e8-9cfc-e13808c9dbcd",
   "metadata": {},
   "source": [
    "**Rotation $\\theta_1$**"
   ]
  },
  {
   "cell_type": "markdown",
   "id": "ad9981d0-ebb9-4ad7-8c62-973d4cb343ff",
   "metadata": {},
   "source": [
    "Sum of impedances connected to the rotation at $\\theta_1$:"
   ]
  },
  {
   "cell_type": "code",
   "execution_count": 32,
   "id": "68d43a68-0fc4-44c3-b7b4-97c66fc594ec",
   "metadata": {},
   "outputs": [],
   "source": [
    "Z11 = damper1.Z + inertia1.Z + spring.Z"
   ]
  },
  {
   "cell_type": "markdown",
   "id": "edc092a7-ebe7-4778-832e-e3181fb3bab6",
   "metadata": {},
   "source": [
    "Sum of impedances connected between $\\theta_1$ and $\\theta_2$:"
   ]
  },
  {
   "cell_type": "code",
   "execution_count": 33,
   "id": "90d91512-85e4-49b0-b9d8-c8abaeece249",
   "metadata": {},
   "outputs": [],
   "source": [
    "Z12 = spring.Z"
   ]
  },
  {
   "cell_type": "markdown",
   "id": "1c002aba-04b9-4dd6-ac61-28912d3da821",
   "metadata": {},
   "source": [
    "**Rotation $\\theta_2$**"
   ]
  },
  {
   "cell_type": "markdown",
   "id": "87d8ccec-1de5-4b2f-93e5-7340956166a5",
   "metadata": {},
   "source": [
    "Sum of impedances connected to the rotation at $\\theta_2$:"
   ]
  },
  {
   "cell_type": "code",
   "execution_count": 34,
   "id": "5fae8a1e-cd88-48a3-85fd-ee5995b2c23f",
   "metadata": {},
   "outputs": [],
   "source": [
    "Z22 = spring.Z + inertia2.Z + damper2.Z"
   ]
  },
  {
   "cell_type": "markdown",
   "id": "0a14fb9d-f6bb-4365-a541-a1e549408160",
   "metadata": {},
   "source": [
    "Sum of impedances connected between $\\theta_2$ and $\\theta_1$:"
   ]
  },
  {
   "cell_type": "code",
   "execution_count": 35,
   "id": "669371e7-9b40-4f6e-8b6a-b310443ad922",
   "metadata": {},
   "outputs": [],
   "source": [
    "Z21 = Z12"
   ]
  },
  {
   "cell_type": "markdown",
   "id": "a06fe057-9489-4124-93cf-dab9056ef897",
   "metadata": {},
   "source": [
    "**Transfer Function**"
   ]
  },
  {
   "cell_type": "code",
   "execution_count": 36,
   "id": "9bbe99c3-1440-469e-8663-17f141b813bd",
   "metadata": {},
   "outputs": [
    {
     "data": {
      "text/latex": [
       "$\\displaystyle \\left[\\begin{matrix}\\frac{\\frac{1.0 K^{2} T_{1}}{\\left(1.0 D_{1} s + 1.0 J_{1} s^{2} + 1.0 K\\right) \\left(1.0 D_{2} s + 1.0 J_{2} s^{2} - \\frac{1.0 K^{2}}{1.0 D_{1} s + 1.0 J_{1} s^{2} + 1.0 K} + 1.0 K\\right)} + T_{1}}{1.0 D_{1} s + 1.0 J_{1} s^{2} + 1.0 K}\\\\\\frac{1.0 K T_{1}}{\\left(1.0 D_{1} s + 1.0 J_{1} s^{2} + 1.0 K\\right) \\left(1.0 D_{2} s + 1.0 J_{2} s^{2} - \\frac{1.0 K^{2}}{1.0 D_{1} s + 1.0 J_{1} s^{2} + 1.0 K} + 1.0 K\\right)}\\end{matrix}\\right]$"
      ],
      "text/plain": [
       "Matrix([\n",
       "[(1.0*K**2*T1/((1.0*D1*s + 1.0*J1*s**2 + 1.0*K)*(1.0*D2*s + 1.0*J2*s**2 - 1.0*K**2/(1.0*D1*s + 1.0*J1*s**2 + 1.0*K) + 1.0*K)) + T1)/(1.0*D1*s + 1.0*J1*s**2 + 1.0*K)],\n",
       "[                                           1.0*K*T1/((1.0*D1*s + 1.0*J1*s**2 + 1.0*K)*(1.0*D2*s + 1.0*J2*s**2 - 1.0*K**2/(1.0*D1*s + 1.0*J1*s**2 + 1.0*K) + 1.0*K))]])"
      ]
     },
     "execution_count": 36,
     "metadata": {},
     "output_type": "execute_result"
    }
   ],
   "source": [
    "Z = sp.Matrix([[Z11.expr, -Z12.expr], [-Z21.expr, Z22.expr]])\n",
    "\n",
    "T1 = sp.Symbol('T1')\n",
    "T2 = 0\n",
    "T = sp.Matrix([[T1], [T2]])\n",
    "\n",
    "theta = Z.LUsolve(T)\n",
    "theta"
   ]
  },
  {
   "cell_type": "code",
   "execution_count": 37,
   "id": "e1576358-549b-4df0-a5b8-54decc5b5084",
   "metadata": {},
   "outputs": [
    {
     "data": {
      "text/latex": [
       "$\\displaystyle \\frac{K}{J_{1} J_{2} \\left(s^{4} + \\frac{s^{3} \\left(D_{1} J_{2} + D_{2} J_{1}\\right)}{J_{1} J_{2}} + \\frac{s^{2} \\left(D_{1} D_{2} + J_{1} K + J_{2} K\\right)}{J_{1} J_{2}} + \\frac{s \\left(D_{1} K + D_{2} K\\right)}{J_{1} J_{2}}\\right)}$"
      ],
      "text/plain": [
       "K/(J1*J2*(s**4 + s**3*(D1*J2 + D2*J1)/(J1*J2) + s**2*(D1*D2 + J1*K + J2*K)/(J1*J2) + s*(D1*K + D2*K)/(J1*J2)))"
      ]
     },
     "execution_count": 37,
     "metadata": {},
     "output_type": "execute_result"
    }
   ],
   "source": [
    "theta2 = theta[1]\n",
    "G = TransferFunction(theta2 / T1)\n",
    "G.expr"
   ]
  },
  {
   "cell_type": "markdown",
   "id": "38cdb4fc-8062-44d3-8c34-3dd619a1be60",
   "metadata": {},
   "source": [
    "### Skill-Assessment Exercise 2.9"
   ]
  },
  {
   "cell_type": "markdown",
   "id": "8dd7fd57-f77e-40f9-be98-650c9c7e11c7",
   "metadata": {},
   "source": [
    "Find the transfer function $G(s) = \\theta_2(s) / T(s)$ for the rotational system in the figure below.\n",
    "\n",
    "![rotational mechanical system](./images/skill_exercise_2-9.png)"
   ]
  },
  {
   "cell_type": "markdown",
   "id": "ef59271f-2fab-462a-8f2a-71e49124b01e",
   "metadata": {},
   "source": [
    "Mechanical components that make up the system:"
   ]
  },
  {
   "cell_type": "code",
   "execution_count": 38,
   "id": "fc94b77d-f7fb-41f9-827f-3927d1a49f77",
   "metadata": {},
   "outputs": [],
   "source": [
    "inertia1 = Inertia(Q_(1, 'kg * m**2'))\n",
    "spring1 = TorsionSpring(Q_(1, 'N * m / rad'))\n",
    "damper1 = TorsionDamper(Q_(1, 'N * m * s / rad'))\n",
    "spring2 = TorsionSpring(Q_(1, 'N * m / rad'))\n",
    "damper2 = TorsionDamper(Q_(1, 'N * m * s / rad'))"
   ]
  },
  {
   "cell_type": "markdown",
   "id": "e9bcb82c-9974-42a7-9060-b086cad1324b",
   "metadata": {},
   "source": [
    "**Rotation $\\theta_1$**"
   ]
  },
  {
   "cell_type": "markdown",
   "id": "9a16a845-6937-4e08-a855-acad28e0a696",
   "metadata": {},
   "source": [
    "Sum of impedances connected to the rotation at $\\theta_1$:"
   ]
  },
  {
   "cell_type": "code",
   "execution_count": 39,
   "id": "2d5bba40-61aa-40e0-9dfd-9295a1ab0157",
   "metadata": {},
   "outputs": [],
   "source": [
    "Z11 = inertia1.Z + spring1.Z + damper1.Z"
   ]
  },
  {
   "cell_type": "markdown",
   "id": "e7e6690f-d4bf-442f-9d7e-b3418f3ef446",
   "metadata": {},
   "source": [
    "Sum of impedances connected between $\\theta_1$ and $\\theta_2$:"
   ]
  },
  {
   "cell_type": "code",
   "execution_count": 40,
   "id": "a5cdf1a9-db0c-497b-8f62-5579153291ea",
   "metadata": {},
   "outputs": [],
   "source": [
    "Z12 = spring1.Z + damper1.Z"
   ]
  },
  {
   "cell_type": "markdown",
   "id": "8f0adb16-53e5-4823-bd65-b6c4bd63264c",
   "metadata": {},
   "source": [
    "**Rotation $\\theta_2$**"
   ]
  },
  {
   "cell_type": "markdown",
   "id": "793c6578-b215-4112-b411-3b6e442b00dc",
   "metadata": {},
   "source": [
    "Sum of impedances connected to the rotation at $\\theta_2$:"
   ]
  },
  {
   "cell_type": "code",
   "execution_count": 41,
   "id": "fb121f1b-fdb6-432c-9a7b-64d16a776803",
   "metadata": {},
   "outputs": [],
   "source": [
    "Z22 = spring1.Z + damper1.Z + spring2.Z + damper2.Z"
   ]
  },
  {
   "cell_type": "markdown",
   "id": "60308f70-5926-451a-9872-f540484a223e",
   "metadata": {},
   "source": [
    "Sum of impedances connected between $\\theta_2$ and $\\theta_1$:"
   ]
  },
  {
   "cell_type": "code",
   "execution_count": 42,
   "id": "458a174c-3546-4081-9a32-4712271d1df9",
   "metadata": {},
   "outputs": [],
   "source": [
    "Z21 = Z12"
   ]
  },
  {
   "cell_type": "markdown",
   "id": "5df47252-d251-46a9-8297-3c98b2a70236",
   "metadata": {},
   "source": [
    "**Transfer Function**"
   ]
  },
  {
   "cell_type": "code",
   "execution_count": 43,
   "id": "3a2799b6-4fbe-4f5d-b40e-61be1e4f1142",
   "metadata": {},
   "outputs": [
    {
     "data": {
      "text/latex": [
       "$\\displaystyle \\left[\\begin{matrix}\\frac{\\frac{T_{1} \\left(- 1.0 s - 1.0\\right)^{2}}{\\left(2.0 s - \\frac{\\left(- 1.0 s - 1.0\\right)^{2}}{1.0 s^{2} + 1.0 s + 1.0} + 2.0\\right) \\left(1.0 s^{2} + 1.0 s + 1.0\\right)} + T_{1}}{1.0 s^{2} + 1.0 s + 1.0}\\\\- \\frac{T_{1} \\left(- 1.0 s - 1.0\\right)}{\\left(2.0 s - \\frac{\\left(- 1.0 s - 1.0\\right)^{2}}{1.0 s^{2} + 1.0 s + 1.0} + 2.0\\right) \\left(1.0 s^{2} + 1.0 s + 1.0\\right)}\\end{matrix}\\right]$"
      ],
      "text/plain": [
       "Matrix([\n",
       "[(T1*(-1.0*s - 1.0)**2/((2.0*s - (-1.0*s - 1.0)**2/(1.0*s**2 + 1.0*s + 1.0) + 2.0)*(1.0*s**2 + 1.0*s + 1.0)) + T1)/(1.0*s**2 + 1.0*s + 1.0)],\n",
       "[                                  -T1*(-1.0*s - 1.0)/((2.0*s - (-1.0*s - 1.0)**2/(1.0*s**2 + 1.0*s + 1.0) + 2.0)*(1.0*s**2 + 1.0*s + 1.0))]])"
      ]
     },
     "execution_count": 43,
     "metadata": {},
     "output_type": "execute_result"
    }
   ],
   "source": [
    "Z = sp.Matrix([[Z11.expr, -Z12.expr], [-Z21.expr, Z22.expr]])\n",
    "\n",
    "T1 = sp.Symbol('T1')\n",
    "T2 = 0\n",
    "T = sp.Matrix([[T1], [T2]])\n",
    "\n",
    "theta = Z.LUsolve(T)\n",
    "theta"
   ]
  },
  {
   "cell_type": "code",
   "execution_count": 44,
   "id": "42f61ff5-36bf-4066-97c5-92b03a462418",
   "metadata": {},
   "outputs": [
    {
     "data": {
      "text/latex": [
       "$\\displaystyle \\frac{0.5}{1.0 s^{2} + 0.5 s + 0.5}$"
      ],
      "text/plain": [
       "0.5/(1.0*s**2 + 0.5*s + 0.5)"
      ]
     },
     "execution_count": 44,
     "metadata": {},
     "output_type": "execute_result"
    }
   ],
   "source": [
    "theta2 = theta[1]\n",
    "G = TransferFunction(theta2 / T1)\n",
    "G.expr"
   ]
  },
  {
   "cell_type": "markdown",
   "id": "82dae3e5-79cf-4c87-ba54-f5080a93fe15",
   "metadata": {},
   "source": [
    "## 2.7 : Transfer Functions for Systems with Gears"
   ]
  },
  {
   "cell_type": "markdown",
   "id": "c86998b5-78d6-4e78-9f68-86dda96cac8f",
   "metadata": {},
   "source": [
    "### Example 2.21 : Transfer Function - System with Lossless Gears"
   ]
  },
  {
   "cell_type": "markdown",
   "id": "c4fb011c-8309-4d81-aabc-b837a4eb9295",
   "metadata": {},
   "source": [
    "Find the transfer function $\\theta_2(s) / T_1(s)$ for the system in the figure below.\n",
    "\n",
    "![rotational mechanical system with gears](./images/example_2-21.png)"
   ]
  },
  {
   "cell_type": "markdown",
   "id": "163fb9bf-bafb-4e7f-8f17-adb27a38a5fa",
   "metadata": {},
   "source": [
    "Mechanical impedances in the system:"
   ]
  },
  {
   "cell_type": "code",
   "execution_count": 45,
   "id": "a808b945-1ff9-4b61-9d7a-7b97ea850626",
   "metadata": {},
   "outputs": [],
   "source": [
    "Z_J1 = Inertia('J1').Z\n",
    "Z_D1 = TorsionDamper('D1').Z\n",
    "Z_J2 = Inertia('J2').Z\n",
    "Z_D2 = TorsionDamper('D2').Z\n",
    "Z_K = TorsionSpring('K2').Z"
   ]
  },
  {
   "cell_type": "markdown",
   "id": "3845e90a-99a8-48c8-9529-8a2d841556a0",
   "metadata": {},
   "source": [
    "Torque $T_1$ about the input shaft of the gearbox:"
   ]
  },
  {
   "cell_type": "code",
   "execution_count": 46,
   "id": "28f075a2-ba57-49b3-9e76-eead1e84a8c5",
   "metadata": {},
   "outputs": [],
   "source": [
    "T1 = sp.Symbol('T1')"
   ]
  },
  {
   "cell_type": "markdown",
   "id": "80d67b71-0e57-43ec-b8a7-efeaf9cb7000",
   "metadata": {},
   "source": [
    "Note that the inertias $J_1$ and $J_2$ do not undergo linearly independent motion, since they are tied together by the gears. Thus, there is only one degree of freedom and hence one equation of motion.\n",
    "\n",
    "The impedances $J_1$ and $D_1$ and the torque $T_1$ can be reflected from the input to the output shaft with the `GearRatio` class. Its method `reflect_to_output()` reflects impedances and torques on the input side to the output side of the gearbox."
   ]
  },
  {
   "cell_type": "code",
   "execution_count": 47,
   "id": "56d3e99c-04bf-4b49-8986-1bca8c5d8d30",
   "metadata": {},
   "outputs": [],
   "source": [
    "gearbox = GearRatio(N_in='N1', N_out='N2')\n",
    "\n",
    "Z_J1to2 = gearbox.reflect_to_output(Z_in=Z_J1)\n",
    "Z_D1to2 = gearbox.reflect_to_output(Z_in=Z_D1)\n",
    "\n",
    "T1to2 = gearbox.reflect_to_output(T_in=T1)"
   ]
  },
  {
   "cell_type": "markdown",
   "id": "00ab119c-b643-451c-9423-030adae13000",
   "metadata": {},
   "source": [
    "**Total impedance on the output shaft**"
   ]
  },
  {
   "cell_type": "code",
   "execution_count": 48,
   "id": "ea5df8b8-cb4d-4d9c-b9be-fa9d7d4d0ab0",
   "metadata": {},
   "outputs": [],
   "source": [
    "Z = Z_J2 + Z_D2 + Z_K\n",
    "Z += Z_J1to2 + Z_D1to2"
   ]
  },
  {
   "cell_type": "markdown",
   "id": "624aed58-796d-41ba-a182-c762582e2631",
   "metadata": {},
   "source": [
    "**Equation of motion reflected to the output shaft**"
   ]
  },
  {
   "cell_type": "code",
   "execution_count": 49,
   "id": "22f7d227-b979-42f0-9bf8-4067d0fc5aff",
   "metadata": {},
   "outputs": [
    {
     "data": {
      "text/latex": [
       "$\\displaystyle \\theta_{2} \\left(K_{2} + \\frac{s^{2} \\left(J_{1} N_{2}^{2} + J_{2} N_{1}^{2}\\right)}{N_{1}^{2}} + \\frac{s \\left(D_{1} N_{2}^{2} + D_{2} N_{1}^{2}\\right)}{N_{1}^{2}}\\right) - \\frac{N_{2} T_{1}}{N_{1}}$"
      ],
      "text/plain": [
       "theta_2*(K2 + s**2*(J1*N2**2 + J2*N1**2)/N1**2 + s*(D1*N2**2 + D2*N1**2)/N1**2) - N2*T1/N1"
      ]
     },
     "execution_count": 49,
     "metadata": {},
     "output_type": "execute_result"
    }
   ],
   "source": [
    "theta2 = sp.Symbol('theta_2')\n",
    "eom = Z.expr * theta2 - T1to2\n",
    "eom"
   ]
  },
  {
   "cell_type": "markdown",
   "id": "194faf63-7e29-404f-9f5a-5aa52d00c49e",
   "metadata": {},
   "source": [
    "Solve the equation of motion for $\\theta_2$:"
   ]
  },
  {
   "cell_type": "code",
   "execution_count": 50,
   "id": "481d0172-de08-4179-b703-916a28d5afdc",
   "metadata": {},
   "outputs": [
    {
     "data": {
      "text/latex": [
       "$\\displaystyle \\frac{N_{1} N_{2} T_{1}}{D_{1} N_{2}^{2} s + D_{2} N_{1}^{2} s + J_{1} N_{2}^{2} s^{2} + J_{2} N_{1}^{2} s^{2} + K_{2} N_{1}^{2}}$"
      ],
      "text/plain": [
       "N1*N2*T1/(D1*N2**2*s + D2*N1**2*s + J1*N2**2*s**2 + J2*N1**2*s**2 + K2*N1**2)"
      ]
     },
     "execution_count": 50,
     "metadata": {},
     "output_type": "execute_result"
    }
   ],
   "source": [
    "theta2 = sp.solve(eom, theta2)[0]\n",
    "theta2"
   ]
  },
  {
   "cell_type": "markdown",
   "id": "7a6bce46-cd9f-4f4a-924d-d96e05ba871b",
   "metadata": {},
   "source": [
    "**Transfer function** $\\theta_2(s) / T_1(s)$:"
   ]
  },
  {
   "cell_type": "code",
   "execution_count": 51,
   "id": "13c265da-fd6d-436c-99d2-b3f116ae0316",
   "metadata": {},
   "outputs": [
    {
     "data": {
      "text/latex": [
       "$\\displaystyle \\frac{N_{1} N_{2}}{\\left(J_{1} N_{2}^{2} + J_{2} N_{1}^{2}\\right) \\left(\\frac{K_{2} N_{1}^{2}}{J_{1} N_{2}^{2} + J_{2} N_{1}^{2}} + s^{2} + \\frac{s \\left(D_{1} N_{2}^{2} + D_{2} N_{1}^{2}\\right)}{J_{1} N_{2}^{2} + J_{2} N_{1}^{2}}\\right)}$"
      ],
      "text/plain": [
       "N1*N2/((J1*N2**2 + J2*N1**2)*(K2*N1**2/(J1*N2**2 + J2*N1**2) + s**2 + s*(D1*N2**2 + D2*N1**2)/(J1*N2**2 + J2*N1**2)))"
      ]
     },
     "execution_count": 51,
     "metadata": {},
     "output_type": "execute_result"
    }
   ],
   "source": [
    "G = TransferFunction(theta2 / T1)\n",
    "G.expr"
   ]
  },
  {
   "cell_type": "markdown",
   "id": "64d7f6ef-bd4f-4bf4-bdc9-aec34fc11415",
   "metadata": {},
   "source": [
    "### Example 2.22 :  Transfer Function - Gears with Loss"
   ]
  },
  {
   "cell_type": "markdown",
   "id": "668e40b9-ea8f-4b0f-aa67-bfc66a566935",
   "metadata": {},
   "source": [
    "Find the transfer function $\\theta_1(s) / T_1(s)$ for the system in the figure below.\n",
    "\n",
    "![system using a gear train](./images/example_2-22.png)"
   ]
  },
  {
   "cell_type": "markdown",
   "id": "f4065664-de7c-431f-b24e-a0834f35e057",
   "metadata": {},
   "source": [
    "This system does not have lossless gears. All of the gears have inertia, and for some shafts there is viscous friction. To solve the problem, we want to reflect all of the impedances to the input shaft.\n",
    "\n",
    "The system has two gear ratios, $N_1/N_2$ and $N_3/N_4$:"
   ]
  },
  {
   "cell_type": "code",
   "execution_count": 52,
   "id": "736f72f7-0d6f-4dac-87f5-8275bb900fe4",
   "metadata": {},
   "outputs": [],
   "source": [
    "gear_ratio1 = GearRatio(N_in='N1', N_out='N2')\n",
    "gear_ratio2 = GearRatio(N_in='N3', N_out='N4')"
   ]
  },
  {
   "cell_type": "markdown",
   "id": "f79dade2-d341-4d59-9c7e-82b01a410264",
   "metadata": {},
   "source": [
    "These two gear ratios can be combined into one overall gear ratio between the input shaft of the first gear ratio and the output shaft of the second gear ratio:"
   ]
  },
  {
   "cell_type": "code",
   "execution_count": 53,
   "id": "ae368e66-cf82-4f72-a654-9abcd5795267",
   "metadata": {},
   "outputs": [],
   "source": [
    "gear_ratio = gear_ratio1 + gear_ratio2"
   ]
  },
  {
   "cell_type": "markdown",
   "id": "bdc65b69-df85-4bd1-a91a-2920c3d08e39",
   "metadata": {},
   "source": [
    "Mechanical impedances on the input shaft of the first gear ratio:"
   ]
  },
  {
   "cell_type": "code",
   "execution_count": 54,
   "id": "e6ac8c5e-150a-4809-b1d7-149b12da1dcf",
   "metadata": {},
   "outputs": [],
   "source": [
    "Z_J1 = Inertia('J1').Z\n",
    "Z_D1 = TorsionDamper('D1').Z"
   ]
  },
  {
   "cell_type": "markdown",
   "id": "cd4bc157-d89d-4aa3-8d86-b691b64893f1",
   "metadata": {},
   "source": [
    "Reflecting impedances on the output shaft of the first gear ratio to the input shaft of the first gear ratio: "
   ]
  },
  {
   "cell_type": "code",
   "execution_count": 55,
   "id": "5cebe281-4d65-4a3e-829f-82532804c40c",
   "metadata": {},
   "outputs": [],
   "source": [
    "Z_J2 = Inertia('J2').Z\n",
    "Z_D2 = TorsionDamper('D2').Z\n",
    "Z_J3 = Inertia('J3').Z\n",
    "\n",
    "Z_J2to1 = gear_ratio1.reflect_to_input(Z_out=Z_J2)\n",
    "Z_D2to1 = gear_ratio1.reflect_to_input(Z_out=Z_D2)\n",
    "Z_J3to1 = gear_ratio1.reflect_to_input(Z_out=Z_J3)"
   ]
  },
  {
   "cell_type": "markdown",
   "id": "5f1373e9-56a0-4f5a-8907-8c92d5ce80a3",
   "metadata": {},
   "source": [
    "Reflecting impedances on the output shaft of the second gear ratio to the input shaft of the first gear ratio:"
   ]
  },
  {
   "cell_type": "code",
   "execution_count": 56,
   "id": "68cc36d6-193c-4cc3-af51-18c9bc30555e",
   "metadata": {},
   "outputs": [],
   "source": [
    "Z_J4 = Inertia('J4').Z\n",
    "Z_J5 = Inertia('J5').Z\n",
    "\n",
    "Z_J4to1 = gear_ratio.reflect_to_input(Z_out=Z_J4)\n",
    "Z_J5to1 = gear_ratio.reflect_to_input(Z_out=Z_J5)"
   ]
  },
  {
   "cell_type": "markdown",
   "id": "e3b64e8d-87f3-4da3-80fb-b9dbc5449c3c",
   "metadata": {},
   "source": [
    "**Total impedance on the input shaft**"
   ]
  },
  {
   "cell_type": "code",
   "execution_count": 57,
   "id": "64f0e63b-973a-4005-8f71-1b7e41cd00f2",
   "metadata": {},
   "outputs": [
    {
     "data": {
      "text/latex": [
       "$\\displaystyle \\frac{s^{2} \\left(J_{1} N_{2}^{2} N_{4}^{2} + J_{2} N_{1}^{2} N_{4}^{2} + J_{3} N_{1}^{2} N_{4}^{2} + J_{4} N_{1}^{2} N_{3}^{2} + J_{5} N_{1}^{2} N_{3}^{2}\\right)}{N_{2}^{2} N_{4}^{2}}$"
      ],
      "text/plain": [
       "s**2*(J1*N2**2*N4**2 + J2*N1**2*N4**2 + J3*N1**2*N4**2 + J4*N1**2*N3**2 + J5*N1**2*N3**2)/(N2**2*N4**2)"
      ]
     },
     "execution_count": 57,
     "metadata": {},
     "output_type": "execute_result"
    }
   ],
   "source": [
    "Z_J = Z_J1 + Z_J2to1 + Z_J3to1 + Z_J4to1 + Z_J5to1\n",
    "Z_J.expr"
   ]
  },
  {
   "cell_type": "code",
   "execution_count": 58,
   "id": "f04adcfb-dc83-42e1-a599-418f4d46c36f",
   "metadata": {},
   "outputs": [
    {
     "data": {
      "text/latex": [
       "$\\displaystyle \\frac{s \\left(D_{1} N_{2}^{2} + D_{2} N_{1}^{2}\\right)}{N_{2}^{2}}$"
      ],
      "text/plain": [
       "s*(D1*N2**2 + D2*N1**2)/N2**2"
      ]
     },
     "execution_count": 58,
     "metadata": {},
     "output_type": "execute_result"
    }
   ],
   "source": [
    "Z_D = Z_D1 + Z_D2to1\n",
    "Z_D.expr"
   ]
  },
  {
   "cell_type": "code",
   "execution_count": 59,
   "id": "fbcb3366-b723-453e-a963-bf800fddefee",
   "metadata": {},
   "outputs": [],
   "source": [
    "Z = Z_J + Z_D"
   ]
  },
  {
   "cell_type": "markdown",
   "id": "49e5fce2-ec39-4a42-84e2-3b38771663fe",
   "metadata": {},
   "source": [
    "**Equation of motion reflected on the input shaft**"
   ]
  },
  {
   "cell_type": "code",
   "execution_count": 60,
   "id": "7728203c-701a-4232-a138-84f90e7e2253",
   "metadata": {},
   "outputs": [],
   "source": [
    "theta1 = sp.Symbol('theta_1')\n",
    "T1 = sp.Symbol('T1')\n",
    "\n",
    "eom = Z.expr * theta1 - T1"
   ]
  },
  {
   "cell_type": "markdown",
   "id": "cd4ef06b-c733-48d5-b1ed-757e956d48c0",
   "metadata": {},
   "source": [
    "Solve the equation of motion for $\\theta_1$:"
   ]
  },
  {
   "cell_type": "code",
   "execution_count": 61,
   "id": "888173fb-b0bf-4e38-a127-b2b3b46b3466",
   "metadata": {},
   "outputs": [
    {
     "data": {
      "text/latex": [
       "$\\displaystyle \\frac{N_{2}^{2} N_{4}^{2} T_{1}}{s \\left(D_{1} N_{2}^{2} N_{4}^{2} + D_{2} N_{1}^{2} N_{4}^{2} + J_{1} N_{2}^{2} N_{4}^{2} s + J_{2} N_{1}^{2} N_{4}^{2} s + J_{3} N_{1}^{2} N_{4}^{2} s + J_{4} N_{1}^{2} N_{3}^{2} s + J_{5} N_{1}^{2} N_{3}^{2} s\\right)}$"
      ],
      "text/plain": [
       "N2**2*N4**2*T1/(s*(D1*N2**2*N4**2 + D2*N1**2*N4**2 + J1*N2**2*N4**2*s + J2*N1**2*N4**2*s + J3*N1**2*N4**2*s + J4*N1**2*N3**2*s + J5*N1**2*N3**2*s))"
      ]
     },
     "execution_count": 61,
     "metadata": {},
     "output_type": "execute_result"
    }
   ],
   "source": [
    "theta1 = sp.solve(eom, theta1)[0]\n",
    "theta1"
   ]
  },
  {
   "cell_type": "markdown",
   "id": "c4d92b58-59ed-43f6-bb6b-861d5177ef1e",
   "metadata": {},
   "source": [
    "**Transfer function** $\\theta_1(s) / T_1(s)$"
   ]
  },
  {
   "cell_type": "code",
   "execution_count": 62,
   "id": "bd2b62af-b308-4b18-9037-91e4f3b2aeca",
   "metadata": {},
   "outputs": [
    {
     "data": {
      "text/latex": [
       "$\\displaystyle \\frac{N_{2}^{2} N_{4}^{2}}{\\left(s^{2} + \\frac{s \\left(D_{1} N_{2}^{2} N_{4}^{2} + D_{2} N_{1}^{2} N_{4}^{2}\\right)}{J_{1} N_{2}^{2} N_{4}^{2} + J_{2} N_{1}^{2} N_{4}^{2} + J_{3} N_{1}^{2} N_{4}^{2} + J_{4} N_{1}^{2} N_{3}^{2} + J_{5} N_{1}^{2} N_{3}^{2}}\\right) \\left(J_{1} N_{2}^{2} N_{4}^{2} + J_{2} N_{1}^{2} N_{4}^{2} + J_{3} N_{1}^{2} N_{4}^{2} + J_{4} N_{1}^{2} N_{3}^{2} + J_{5} N_{1}^{2} N_{3}^{2}\\right)}$"
      ],
      "text/plain": [
       "N2**2*N4**2/((s**2 + s*(D1*N2**2*N4**2 + D2*N1**2*N4**2)/(J1*N2**2*N4**2 + J2*N1**2*N4**2 + J3*N1**2*N4**2 + J4*N1**2*N3**2 + J5*N1**2*N3**2))*(J1*N2**2*N4**2 + J2*N1**2*N4**2 + J3*N1**2*N4**2 + J4*N1**2*N3**2 + J5*N1**2*N3**2))"
      ]
     },
     "execution_count": 62,
     "metadata": {},
     "output_type": "execute_result"
    }
   ],
   "source": [
    "G = TransferFunction(theta1 / T1)\n",
    "G.expr"
   ]
  },
  {
   "cell_type": "markdown",
   "id": "4adf81f5-5056-4dd5-9d06-afd7de766c80",
   "metadata": {},
   "source": [
    "### Skill-Assessment Exercise 2.10"
   ]
  },
  {
   "cell_type": "markdown",
   "id": "60eb4a9b-1a4f-46f5-a7de-026d69ca8ac5",
   "metadata": {},
   "source": [
    "Find the transfer function $G(s) = \\theta_2(s) / T(s)$ for the rotational mechanical system with gears in the figure below.\n",
    "\n",
    "![rotational mechanical system with gears](./images/skill_exercise_2-10.png)"
   ]
  },
  {
   "cell_type": "markdown",
   "id": "1f7ef653-2375-410f-a2e5-a1422680db02",
   "metadata": {},
   "source": [
    "Define the gear ratio:"
   ]
  },
  {
   "cell_type": "code",
   "execution_count": 63,
   "id": "15c48687-3a08-4744-b430-a4b5dab8b972",
   "metadata": {},
   "outputs": [],
   "source": [
    "gear_ratio = GearRatio(N_in=25, N_out=50)"
   ]
  },
  {
   "cell_type": "markdown",
   "id": "972cd6c0-2702-46b5-a7ac-a8c61b3e08f5",
   "metadata": {},
   "source": [
    "Mechanical impedances in the system:"
   ]
  },
  {
   "cell_type": "code",
   "execution_count": 64,
   "id": "acbeadae-062e-4847-91c8-f7a163f62eed",
   "metadata": {},
   "outputs": [],
   "source": [
    "Z_K = TorsionSpring(Q_(4, 'N * m / rad')).Z\n",
    "Z_D = TorsionDamper(Q_(1, 'N * m * s / rad')).Z\n",
    "Z_J = Inertia(Q_(1, 'kg * m ** 2')).Z"
   ]
  },
  {
   "cell_type": "markdown",
   "id": "bdd221a3-23b0-49c3-8c4b-be345a0c6525",
   "metadata": {},
   "source": [
    "Reflect the impedance of the spring and the rotation angle of the output shaft to the input shaft: "
   ]
  },
  {
   "cell_type": "code",
   "execution_count": 65,
   "id": "a28f2222-dc4a-4f57-8270-fc670e7c4697",
   "metadata": {},
   "outputs": [],
   "source": [
    "Z_K_to_1 = gear_ratio.reflect_to_input(Z_out=Z_K)\n",
    "\n",
    "theta2 = sp.Symbol('theta_2')\n",
    "theta2_to_1 = gear_ratio.reflect_to_input(theta_out=theta2)"
   ]
  },
  {
   "cell_type": "markdown",
   "id": "78c52dec-1b89-4e8e-a7f6-2d5c0f7c8304",
   "metadata": {},
   "source": [
    "**Overall impedance reflected to the input shaft**"
   ]
  },
  {
   "cell_type": "code",
   "execution_count": 66,
   "id": "25d46427-28bd-49f5-a8ab-823058511a77",
   "metadata": {},
   "outputs": [
    {
     "data": {
      "text/latex": [
       "$\\displaystyle 1.0 s^{2} + 1.0 s + 1.0$"
      ],
      "text/plain": [
       "1.0*s**2 + 1.0*s + 1.0"
      ]
     },
     "execution_count": 66,
     "metadata": {},
     "output_type": "execute_result"
    }
   ],
   "source": [
    "Z = Z_J + Z_D + Z_K_to_1\n",
    "Z.expr"
   ]
  },
  {
   "cell_type": "markdown",
   "id": "4e4a1cc8-802d-4bdf-a295-f21f5df7926c",
   "metadata": {},
   "source": [
    "**Equation of motion reflected to the input shaft**"
   ]
  },
  {
   "cell_type": "code",
   "execution_count": 67,
   "id": "bc7cfb79-6c6e-482c-b896-8673476f3ddb",
   "metadata": {},
   "outputs": [
    {
     "data": {
      "text/latex": [
       "$\\displaystyle \\frac{0.5 T}{s^{2} + s + 1.0}$"
      ],
      "text/plain": [
       "0.5*T/(s**2 + s + 1.0)"
      ]
     },
     "execution_count": 67,
     "metadata": {},
     "output_type": "execute_result"
    }
   ],
   "source": [
    "T = sp.Symbol('T')\n",
    "eom = Z.expr * theta2_to_1 - T\n",
    "\n",
    "theta2 = sp.solve(eom, theta2)[0]\n",
    "theta2"
   ]
  },
  {
   "cell_type": "markdown",
   "id": "43c013bb-98db-417a-9e90-86f1e8bb828a",
   "metadata": {},
   "source": [
    "**Transfer function** $\\theta_2(s) / T(s)$"
   ]
  },
  {
   "cell_type": "code",
   "execution_count": 68,
   "id": "4b517188-657a-4c81-a399-5eae5d8035b8",
   "metadata": {},
   "outputs": [
    {
     "data": {
      "text/latex": [
       "$\\displaystyle \\frac{0.5}{1.0 s^{2} + 1.0 s + 1.0}$"
      ],
      "text/plain": [
       "0.5/(1.0*s**2 + 1.0*s + 1.0)"
      ]
     },
     "execution_count": 68,
     "metadata": {},
     "output_type": "execute_result"
    }
   ],
   "source": [
    "G = TransferFunction(theta2 / T)\n",
    "G.expr"
   ]
  },
  {
   "cell_type": "code",
   "execution_count": null,
   "id": "b174280f-d065-44d7-9875-ca33729085be",
   "metadata": {},
   "outputs": [],
   "source": []
  }
 ],
 "metadata": {
  "kernelspec": {
   "display_name": "Python 3 (ipykernel)",
   "language": "python",
   "name": "python3"
  },
  "language_info": {
   "codemirror_mode": {
    "name": "ipython",
    "version": 3
   },
   "file_extension": ".py",
   "mimetype": "text/x-python",
   "name": "python",
   "nbconvert_exporter": "python",
   "pygments_lexer": "ipython3",
   "version": "3.11.10"
  }
 },
 "nbformat": 4,
 "nbformat_minor": 5
}
