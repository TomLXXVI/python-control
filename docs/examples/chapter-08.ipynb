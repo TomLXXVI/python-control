{
 "cells": [
  {
   "cell_type": "markdown",
   "id": "89e8c9f0-eee3-47c2-8221-2ed53bfc5a1a",
   "metadata": {},
   "source": [
    "# Chapter 8 : Root Locus Techniques\n",
    "---"
   ]
  },
  {
   "cell_type": "code",
   "execution_count": 1,
   "id": "3c36eb26-89f9-40bb-84a6-a166c8205457",
   "metadata": {},
   "outputs": [],
   "source": [
    "import sys\n",
    "\n",
    "if (path := \"C:/Users/Tom/pycharm-projects/python-control\") not in sys.path:\n",
    "    sys.path.append(path)\n",
    "\n",
    "import numpy as np\n",
    "\n",
    "from python_control import (\n",
    "    s, K, \n",
    "    TransferFunction,\n",
    "    TransferFunctionVector,\n",
    "    RootLocus,\n",
    "    get_damping_ratio,\n",
    "    pole_sensitivity\n",
    ")\n",
    "from python_control.design import (\n",
    "    create_feedback_system,\n",
    "    create_second_order_system,\n",
    "    plot_step_responses\n",
    ")"
   ]
  },
  {
   "cell_type": "markdown",
   "id": "24523107-8783-46ec-945d-e40f0925812d",
   "metadata": {},
   "source": [
    "## 8.3 : Properties of the Root Locus"
   ]
  },
  {
   "cell_type": "markdown",
   "id": "ef579912-1fa1-47c3-8df3-0559eb8c41f9",
   "metadata": {},
   "source": [
    "### Skill-Assessment Exercise 8.2"
   ]
  },
  {
   "cell_type": "markdown",
   "id": "aa40c63a-e09c-42c8-bf71-10d4601b8a33",
   "metadata": {},
   "source": [
    "Given a unity-feedback system that has the forward transfer function\n",
    "$$\n",
    "G\\left( s \\right) = \\frac{{K\\left( {s + 2} \\right)}}{{{s^2} + 4s + 13}}\n",
    "$$\n",
    "do the following:\n",
    "1. Calculate the angle of $G(s)$ at the point $(-3 + j0)$ by finding the algebraic sum of angles of the vectors drawn from the zeros and poles of $G(s)$ to the given point.\n",
    "2. Determine if the point specified in 1. is on the root locus.\n",
    "3. If the point specified in 1. is on the root locus, find the gain $K$ using the lengths of the vectors."
   ]
  },
  {
   "cell_type": "code",
   "execution_count": 2,
   "id": "ca07cb5c-6379-4310-8566-2aee854d7053",
   "metadata": {},
   "outputs": [],
   "source": [
    "G = TransferFunction(K * (s + 2) / (s**2 + 4*s + 13))\n",
    "tfv = TransferFunctionVector(G)\n",
    "tfv.point = -3 + 0j"
   ]
  },
  {
   "cell_type": "markdown",
   "id": "7e568b6c-c242-45ac-a606-fac3ff9740b2",
   "metadata": {},
   "source": [
    "Angle of $G(s)$ at the specified point:"
   ]
  },
  {
   "cell_type": "code",
   "execution_count": 3,
   "id": "8e3d8ccc-fc21-4bbb-91f6-5755ab54deb8",
   "metadata": {},
   "outputs": [
    {
     "data": {
      "text/plain": [
       "180.0"
      ]
     },
     "execution_count": 3,
     "metadata": {},
     "output_type": "execute_result"
    }
   ],
   "source": [
    "tfv.angle"
   ]
  },
  {
   "cell_type": "markdown",
   "id": "d5a8b950-ffe3-4564-986f-d5d59c586c92",
   "metadata": {},
   "source": [
    "As the angle is 180°, the specified point can be a pole of the closed-loop unity-feedback system with the forward transfer function $G(s)$, depending on the value of $K$."
   ]
  },
  {
   "cell_type": "markdown",
   "id": "98e7f395-1b72-4981-91ac-66713759d983",
   "metadata": {},
   "source": [
    "Magnitude of $G(s)$ at the specified point:"
   ]
  },
  {
   "cell_type": "code",
   "execution_count": 4,
   "id": "3e18e5a2-04f2-4065-a0fe-0f3824f864d4",
   "metadata": {},
   "outputs": [
    {
     "data": {
      "text/plain": [
       "0.09999999999999998"
      ]
     },
     "execution_count": 4,
     "metadata": {},
     "output_type": "execute_result"
    }
   ],
   "source": [
    "tfv.magnitude"
   ]
  },
  {
   "cell_type": "markdown",
   "id": "6f421b2c-b7a8-43e3-a691-5f34d1d97a3c",
   "metadata": {},
   "source": [
    "The value of $K$ for which the specified point is a pole of the unity-feedback system follows from:"
   ]
  },
  {
   "cell_type": "code",
   "execution_count": 5,
   "id": "c2cff55e-df8a-48c0-83eb-ff5b397431b9",
   "metadata": {},
   "outputs": [
    {
     "data": {
      "text/plain": [
       "10.000000000000002"
      ]
     },
     "execution_count": 5,
     "metadata": {},
     "output_type": "execute_result"
    }
   ],
   "source": [
    "tfv.gain"
   ]
  },
  {
   "cell_type": "markdown",
   "id": "5db45f10-c044-4313-b250-7e9b813f0004",
   "metadata": {},
   "source": [
    "## 8.4 : Sketching the Root Locus"
   ]
  },
  {
   "cell_type": "markdown",
   "id": "3188e992-3d18-43d1-b098-1e5fddde0b3c",
   "metadata": {},
   "source": [
    "### Example 8.2: Sketching a Root Locus with Asymptotes"
   ]
  },
  {
   "cell_type": "markdown",
   "id": "ffaeb2e9-70dd-46e2-9cb9-abea3b0b64b9",
   "metadata": {},
   "source": [
    "Sketch the root locus for the system shown:\n",
    "\n",
    "![system for example 8.2](./images/example_8-2.png)"
   ]
  },
  {
   "cell_type": "code",
   "execution_count": 6,
   "id": "94237c07-d4c2-42e8-a3fd-8e3682a4ba45",
   "metadata": {},
   "outputs": [
    {
     "data": {
      "text/latex": [
       "$\\displaystyle \\frac{1.0 K s + 3.0 K}{1.0 s^{4} + 7.0 s^{3} + 14.0 s^{2} + 8.0 s}$"
      ],
      "text/plain": [
       "(1.0*K*s + 3.0*K)/(1.0*s**4 + 7.0*s**3 + 14.0*s**2 + 8.0*s)"
      ]
     },
     "execution_count": 6,
     "metadata": {},
     "output_type": "execute_result"
    }
   ],
   "source": [
    "KGH = TransferFunction(K * (s + 3) / (s * (s + 1) * (s + 2) * (s + 4)))\n",
    "KGH.expr"
   ]
  },
  {
   "cell_type": "code",
   "execution_count": 7,
   "id": "58c43078-36bf-4ad0-a629-8aa2e786b4fb",
   "metadata": {},
   "outputs": [
    {
     "data": {
      "text/plain": [
       "[(-4+0j), (-2+0j), (-1+0j), 0j]"
      ]
     },
     "execution_count": 7,
     "metadata": {},
     "output_type": "execute_result"
    }
   ],
   "source": [
    "KGH.poles"
   ]
  },
  {
   "cell_type": "code",
   "execution_count": 8,
   "id": "ff671bc7-825f-4d2b-a2cb-863aceff6fe8",
   "metadata": {},
   "outputs": [
    {
     "data": {
      "text/plain": [
       "[(-3+0j)]"
      ]
     },
     "execution_count": 8,
     "metadata": {},
     "output_type": "execute_result"
    }
   ],
   "source": [
    "KGH.zeros"
   ]
  },
  {
   "cell_type": "code",
   "execution_count": 9,
   "id": "c097064f-0d57-4ff3-9b60-96c31d237689",
   "metadata": {},
   "outputs": [
    {
     "data": {
      "text/plain": [
       "(-1.3333333333333333+0j)"
      ]
     },
     "execution_count": 9,
     "metadata": {},
     "output_type": "execute_result"
    }
   ],
   "source": [
    "root_locus = RootLocus(KGH)\n",
    "sigma_a, theta_a = root_locus.asymptotes()\n",
    "sigma_a"
   ]
  },
  {
   "cell_type": "code",
   "execution_count": 10,
   "id": "6c85dba8-9eff-4c9c-af37-6096b59f8fbd",
   "metadata": {},
   "outputs": [
    {
     "data": {
      "text/plain": [
       "array([ 60., 180., 300.])"
      ]
     },
     "execution_count": 10,
     "metadata": {},
     "output_type": "execute_result"
    }
   ],
   "source": [
    "np.degrees(theta_a)"
   ]
  },
  {
   "cell_type": "markdown",
   "id": "e7834120-83a7-4b95-a221-727cffb7e389",
   "metadata": {},
   "source": [
    "<div>\n",
    "<img src=\"./images/example_8-2b.png\" alt=\"root locus and asymptotes for example 8.2\" width=\"600\"/>\n",
    "</div>"
   ]
  },
  {
   "cell_type": "markdown",
   "id": "d105238b-2967-4bc9-a1d0-fdf8553f6b2c",
   "metadata": {},
   "source": [
    "## 8.5 : Refining the Sketch"
   ]
  },
  {
   "cell_type": "markdown",
   "id": "85088cec-e901-40a5-8fdc-5b617ee4dd68",
   "metadata": {},
   "source": [
    "### Example 8.4 : Breakaway and Break-in Points without Differentiation"
   ]
  },
  {
   "cell_type": "markdown",
   "id": "9d8cddfb-fc63-43c0-ad15-51479dcb8bc4",
   "metadata": {},
   "source": [
    "Find the breakaway and break-in points for the root locus of this figure:\n",
    "\n",
    "<div>\n",
    "<img src=\"./images/example_8-4.png\" alt=\"root locus and asymptotes for example 8.4\" width=\"500\"/>\n",
    "</div>"
   ]
  },
  {
   "cell_type": "code",
   "execution_count": 11,
   "id": "9f38bc9b-332b-4276-bf56-b7fd1d63424f",
   "metadata": {},
   "outputs": [
    {
     "data": {
      "text/latex": [
       "$\\displaystyle \\frac{1.0 K s^{2} - 8.0 K s + 15.0 K}{1.0 s^{2} + 3.0 s + 2.0}$"
      ],
      "text/plain": [
       "(1.0*K*s**2 - 8.0*K*s + 15.0*K)/(1.0*s**2 + 3.0*s + 2.0)"
      ]
     },
     "execution_count": 11,
     "metadata": {},
     "output_type": "execute_result"
    }
   ],
   "source": [
    "KGH = TransferFunction((K * (s - 3) * (s - 5)) / ((s + 1) * (s + 2)))\n",
    "KGH.expr"
   ]
  },
  {
   "cell_type": "code",
   "execution_count": 12,
   "id": "7a117f24-328e-4a07-bbcd-59f26dbda39b",
   "metadata": {},
   "outputs": [
    {
     "data": {
      "text/plain": [
       "[(-2+0j), (-1+0j)]"
      ]
     },
     "execution_count": 12,
     "metadata": {},
     "output_type": "execute_result"
    }
   ],
   "source": [
    "KGH.poles"
   ]
  },
  {
   "cell_type": "code",
   "execution_count": 13,
   "id": "6bff9844-8505-4007-98eb-45568e828c6e",
   "metadata": {},
   "outputs": [
    {
     "data": {
      "text/plain": [
       "[(3+0j), (5+0j)]"
      ]
     },
     "execution_count": 13,
     "metadata": {},
     "output_type": "execute_result"
    }
   ],
   "source": [
    "KGH.zeros"
   ]
  },
  {
   "cell_type": "code",
   "execution_count": 14,
   "id": "02b1e649-71b2-4a5f-83fc-7f18b7b3053c",
   "metadata": {},
   "outputs": [
    {
     "data": {
      "text/plain": [
       "([-1.45297759021626], [3.81661395385263])"
      ]
     },
     "execution_count": 14,
     "metadata": {},
     "output_type": "execute_result"
    }
   ],
   "source": [
    "root_locus = RootLocus(KGH)\n",
    "sol = root_locus.find_breakaway_break_in_points()\n",
    "sol"
   ]
  },
  {
   "cell_type": "markdown",
   "id": "f202a41b-d228-4608-81b0-b74cd9ff494a",
   "metadata": {},
   "source": [
    "A breakaway point lies on the real axis between two poles. A break-in point lies on the real axis between two zeros."
   ]
  },
  {
   "cell_type": "markdown",
   "id": "c7133280-10b0-476e-bd4b-b683491718fd",
   "metadata": {},
   "source": [
    "### Example 8.5 : Frequency and Gain at Imaginary-Axis Crossing"
   ]
  },
  {
   "cell_type": "markdown",
   "id": "21b08e30-498c-401f-869c-ed1f68f377ba",
   "metadata": {},
   "source": [
    "For the system of example 8.2, find the frequency and gain $K$ for which the root locus crosses the imaginary axis. For what range of $K$ is the system stable?"
   ]
  },
  {
   "cell_type": "code",
   "execution_count": 15,
   "id": "26438204-5695-44a2-8953-474d4f9382f5",
   "metadata": {},
   "outputs": [
    {
     "data": {
      "text/latex": [
       "$\\displaystyle \\frac{1.0 K s + 3.0 K}{1.0 s^{4} + 7.0 s^{3} + 14.0 s^{2} + 8.0 s}$"
      ],
      "text/plain": [
       "(1.0*K*s + 3.0*K)/(1.0*s**4 + 7.0*s**3 + 14.0*s**2 + 8.0*s)"
      ]
     },
     "execution_count": 15,
     "metadata": {},
     "output_type": "execute_result"
    }
   ],
   "source": [
    "KGH = TransferFunction(K * (s + 3) / (s * (s + 1) * (s + 2) * (s + 4)))\n",
    "KGH.expr"
   ]
  },
  {
   "cell_type": "code",
   "execution_count": 16,
   "id": "b17c4482-c011-47cb-bba9-584b55d95f40",
   "metadata": {},
   "outputs": [
    {
     "data": {
      "text/plain": [
       "(1.5877018893344383j, -1.5877018893344383j)"
      ]
     },
     "execution_count": 16,
     "metadata": {},
     "output_type": "execute_result"
    }
   ],
   "source": [
    "root_locus = RootLocus(KGH)\n",
    "jw_crossings = root_locus.find_jw_crossings(3j)\n",
    "jw_crossings"
   ]
  },
  {
   "cell_type": "code",
   "execution_count": 17,
   "id": "b2892d43-1d27-4361-aeef-cea569757aa7",
   "metadata": {},
   "outputs": [
    {
     "data": {
      "text/plain": [
       "9.645581025773023"
      ]
     },
     "execution_count": 17,
     "metadata": {},
     "output_type": "execute_result"
    }
   ],
   "source": [
    "vector_KGH = TransferFunctionVector(KGH)\n",
    "vector_KGH.point = jw_crossings[0]\n",
    "vector_KGH.gain"
   ]
  },
  {
   "cell_type": "code",
   "execution_count": 18,
   "id": "0d7f4e18-3c63-465e-a5e4-18d2fead870a",
   "metadata": {},
   "outputs": [
    {
     "data": {
      "text/plain": [
       "9.645581025773023"
      ]
     },
     "execution_count": 18,
     "metadata": {},
     "output_type": "execute_result"
    }
   ],
   "source": [
    "vector_KGH.point = jw_crossings[1]\n",
    "vector_KGH.gain"
   ]
  },
  {
   "cell_type": "markdown",
   "id": "4959640e-0344-4685-988b-60d83fe4f612",
   "metadata": {},
   "source": [
    "### Example 8.6 : Angle of Departure from a Complex Pole"
   ]
  },
  {
   "cell_type": "markdown",
   "id": "ffab2f05-8ad4-4b00-812c-5d4e410f18c2",
   "metadata": {},
   "source": [
    "Find the angle of departure from the complex poles and sketch the root locus for the unity-feedback system:\n",
    "\n",
    "![unity-feedback system with complex poles](./images/example_8-6.png)"
   ]
  },
  {
   "cell_type": "code",
   "execution_count": 19,
   "id": "f1620970-7d00-4f4e-8095-34ee3c7f0af2",
   "metadata": {},
   "outputs": [
    {
     "data": {
      "text/plain": [
       "[((-1+1j), 108.43494882292202), ((-1-1j), 251.56505117707798)]"
      ]
     },
     "execution_count": 19,
     "metadata": {},
     "output_type": "execute_result"
    }
   ],
   "source": [
    "KGH = TransferFunction(K * (s + 2) / ((s + 3) * (s**2 + 2*s + 2)))\n",
    "root_locus = RootLocus(KGH)\n",
    "departure_angles = root_locus.find_angles_of_departure()\n",
    "departure_angles"
   ]
  },
  {
   "cell_type": "markdown",
   "id": "eb3243ae-a01b-4d8c-9eb8-0a7e3c800867",
   "metadata": {},
   "source": [
    "### Skill-Assessment Exercise 8.4"
   ]
  },
  {
   "cell_type": "markdown",
   "id": "27cfd308-77d8-4357-a91c-e859c5253a4b",
   "metadata": {},
   "source": [
    "Given a unity-feedback system that has the forward transfer function\n",
    "$$\n",
    "G\\left( s \\right) = \\frac{{K\\left( {s + 2} \\right)}}{{{s^2} - 4s + 13}}\n",
    "$$\n",
    "do the following:\n",
    "1. Sketch the root locus.\n",
    "2. Find the imaginary-axis crossing.\n",
    "3. Find the gain $K$ at the $j\\omega$-axis crossing.\n",
    "4. Find the break-in point\n",
    "5. Find the angle of departure from the complex poles."
   ]
  },
  {
   "cell_type": "markdown",
   "id": "262176bc-3415-438e-b17b-1e846342acae",
   "metadata": {},
   "source": [
    "**Define the forward transfer function** $G(s)$ **and create the** `RootLocus` **object**"
   ]
  },
  {
   "cell_type": "code",
   "execution_count": 20,
   "id": "9a91441c-b2f6-47c8-811c-986e7c4c83ec",
   "metadata": {},
   "outputs": [],
   "source": [
    "G = TransferFunction(K * (s + 2) / (s**2 - 4*s + 13))\n",
    "root_locus = RootLocus(G)"
   ]
  },
  {
   "cell_type": "markdown",
   "id": "2bf7e76a-5b82-4ba1-b863-2595378e28e9",
   "metadata": {},
   "source": [
    "**Sketch the root locus**"
   ]
  },
  {
   "cell_type": "code",
   "execution_count": 21,
   "id": "20322feb-1ff6-4646-ba1f-1649e71ece78",
   "metadata": {},
   "outputs": [
    {
     "data": {
      "image/png": "[encoded data removed]",
      "text/plain": [
       "<Figure size 640x480 with 1 Axes>"
      ]
     },
     "metadata": {},
     "output_type": "display_data"
    }
   ],
   "source": [
    "root_locus.plot()"
   ]
  },
  {
   "cell_type": "markdown",
   "id": "c0fb5c38-e041-4eab-8478-839b0223ca1e",
   "metadata": {},
   "source": [
    "**Get the open-loop poles and open-loop zeros**"
   ]
  },
  {
   "cell_type": "code",
   "execution_count": 22,
   "id": "6e31fb1b-f454-42fb-b5f4-bbae56b35de3",
   "metadata": {},
   "outputs": [
    {
     "data": {
      "text/plain": [
       "[(2-3j), (2+3j)]"
      ]
     },
     "execution_count": 22,
     "metadata": {},
     "output_type": "execute_result"
    }
   ],
   "source": [
    "G.poles"
   ]
  },
  {
   "cell_type": "code",
   "execution_count": 23,
   "id": "db67aaa9-654a-4e95-b7cb-b40be444de28",
   "metadata": {},
   "outputs": [
    {
     "data": {
      "text/plain": [
       "[(-2+0j)]"
      ]
     },
     "execution_count": 23,
     "metadata": {},
     "output_type": "execute_result"
    }
   ],
   "source": [
    "G.zeros"
   ]
  },
  {
   "cell_type": "markdown",
   "id": "a331ea6a-a750-4abe-a125-1d1df232987c",
   "metadata": {},
   "source": [
    "**Get the $j\\omega$-crossings**"
   ]
  },
  {
   "cell_type": "code",
   "execution_count": 24,
   "id": "bc9d6c57-f747-44f9-adc8-8823cb1b6f2d",
   "metadata": {},
   "outputs": [
    {
     "data": {
      "text/plain": [
       "(4.582575694955841j, -4.582575694955841j)"
      ]
     },
     "execution_count": 24,
     "metadata": {},
     "output_type": "execute_result"
    }
   ],
   "source": [
    "jw_crossings = root_locus.find_jw_crossings(5j)\n",
    "jw_crossings"
   ]
  },
  {
   "cell_type": "markdown",
   "id": "0a51287d-6610-4735-a206-65d9bf9b18d8",
   "metadata": {},
   "source": [
    "**Get the gain at the $j\\omega$-crossing**"
   ]
  },
  {
   "cell_type": "code",
   "execution_count": 25,
   "id": "7d936873-bc83-4992-bf2e-db4c3b877d3d",
   "metadata": {},
   "outputs": [
    {
     "data": {
      "text/plain": [
       "4.0"
      ]
     },
     "execution_count": 25,
     "metadata": {},
     "output_type": "execute_result"
    }
   ],
   "source": [
    "tfv = TransferFunctionVector(G)\n",
    "tfv.point = jw_crossings[0]\n",
    "tfv.gain"
   ]
  },
  {
   "cell_type": "markdown",
   "id": "7a5cc8b0-b127-4778-aa14-aba2697b1a96",
   "metadata": {},
   "source": [
    "**Find break-in and breakaway points**"
   ]
  },
  {
   "cell_type": "code",
   "execution_count": 26,
   "id": "7890295a-9ff1-4d70-be88-3bbb64fff863",
   "metadata": {},
   "outputs": [
    {
     "name": "stdout",
     "output_type": "stream",
     "text": [
      "break-in points = [-7.00000000000000]\n"
     ]
    }
   ],
   "source": [
    "breakaway_points, break_in_points = root_locus.find_breakaway_break_in_points()\n",
    "if breakaway_points:\n",
    "    print(f\"breakaway points = {breakaway_points}\")\n",
    "if break_in_points:\n",
    "    print(f\"break-in points = {break_in_points}\")"
   ]
  },
  {
   "cell_type": "markdown",
   "id": "a906e741-e343-4042-befa-c708a663ca87",
   "metadata": {},
   "source": [
    "**Find angles of departure at open-loop complex poles**"
   ]
  },
  {
   "cell_type": "code",
   "execution_count": 27,
   "id": "e2e69428-76b6-4abb-b2c5-a34ea4e02edf",
   "metadata": {},
   "outputs": [
    {
     "data": {
      "text/plain": [
       "[((2-3j), 233.13010235415598), ((2+3j), 126.86989764584402)]"
      ]
     },
     "execution_count": 27,
     "metadata": {},
     "output_type": "execute_result"
    }
   ],
   "source": [
    "angles_of_departure = root_locus.find_angles_of_departure()\n",
    "angles_of_departure"
   ]
  },
  {
   "cell_type": "markdown",
   "id": "13079473-fa93-479a-87fb-4dcc3af00ff3",
   "metadata": {},
   "source": [
    "**Find angles of arrival at open-loop complex zeros**"
   ]
  },
  {
   "cell_type": "code",
   "execution_count": 28,
   "id": "30b6ac3a-a6f2-481d-88bc-1ebc43186397",
   "metadata": {},
   "outputs": [
    {
     "data": {
      "text/plain": [
       "[]"
      ]
     },
     "execution_count": 28,
     "metadata": {},
     "output_type": "execute_result"
    }
   ],
   "source": [
    "angles_of_arrival = root_locus.find_angles_of_arrival()\n",
    "angles_of_arrival"
   ]
  },
  {
   "cell_type": "markdown",
   "id": "ed75bbda-5ce0-46c9-8803-512df53ac8bb",
   "metadata": {},
   "source": [
    "## 8.6 : An Example"
   ]
  },
  {
   "cell_type": "markdown",
   "id": "9dc79775-6f6f-464c-b468-220aeb793fab",
   "metadata": {},
   "source": [
    "### Example 8.7 : Sketching a Root Locus and Finding Critical Points"
   ]
  },
  {
   "cell_type": "markdown",
   "id": "be1db302-747f-4de4-b044-b80edf4c658d",
   "metadata": {},
   "source": [
    "Sketch the root locus for the unity-feedback system with forward transfer function:\n",
    "$$\n",
    "G\\left( s \\right) = \\frac{{K\\left( {{s^2} - 4s + 20} \\right)}}{{\\left( {s + 2} \\right)\\left( {s + 4} \\right)}}\n",
    "$$\n",
    "and find the following:\n",
    "1. The exact point and gain where the locus crosses the 0.45 damping ratio line.\n",
    "2. The exact point and gain where the locus crosses the $j\\omega$-axis.\n",
    "3. The breakaway point on the real axis.\n",
    "4. The range of $K$ within which the system is stable."
   ]
  },
  {
   "cell_type": "markdown",
   "id": "ada8eb3c-1abb-455d-8faa-3b23aa27c7c7",
   "metadata": {},
   "source": [
    "**Define the forward transfer function** $G(s)$ **and create the** `RootLocus` **object**"
   ]
  },
  {
   "cell_type": "code",
   "execution_count": 29,
   "id": "885434f5-cad6-4437-95e0-6bc8b1286ba6",
   "metadata": {},
   "outputs": [],
   "source": [
    "G = TransferFunction(K * (s**2 - 4*s + 20) / ((s + 2) * (s + 4)))\n",
    "root_locus = RootLocus(G)"
   ]
  },
  {
   "cell_type": "markdown",
   "id": "97cde22f-8ec2-42ed-beb2-f13166009c3a",
   "metadata": {},
   "source": [
    "**Sketch the root locus**"
   ]
  },
  {
   "cell_type": "code",
   "execution_count": 30,
   "id": "54985a67-e657-4f87-b8d6-35ebb4fe2968",
   "metadata": {},
   "outputs": [
    {
     "data": {
      "image/png": "[encoded data removed]",
      "text/plain": [
       "<Figure size 640x480 with 1 Axes>"
      ]
     },
     "metadata": {},
     "output_type": "display_data"
    }
   ],
   "source": [
    "root_locus.plot(real_limits=(-5, 5, 1), imag_limits=(-5, 5, 1))"
   ]
  },
  {
   "cell_type": "markdown",
   "id": "d1c08d45-41ca-4bc9-ac20-735d18c6c0ba",
   "metadata": {},
   "source": [
    "**The exact point and gain where the locus crosses the 0.45 damping ratio line**"
   ]
  },
  {
   "cell_type": "code",
   "execution_count": 31,
   "id": "874cdd32-4b07-4e45-b763-09cde71870b5",
   "metadata": {},
   "outputs": [
    {
     "name": "stdout",
     "output_type": "stream",
     "text": [
      "((-1.5281716461145145+3.0326687041839584j), 0.41716461145147843)\n"
     ]
    }
   ],
   "source": [
    "zeta_crossings = root_locus.find_damping_ratio_crossings(damping_ratio=0.45, r_max=5.0)\n",
    "if zeta_crossings:\n",
    "    for zc in zeta_crossings:\n",
    "        print(zc)\n",
    "else:\n",
    "    print(\"no crossings with the damping ratio line found\")"
   ]
  },
  {
   "cell_type": "markdown",
   "id": "58b3a9b5-e512-4fdb-98b2-b53113d446ea",
   "metadata": {},
   "source": [
    "**The exact point and gain where the locus crosses the $j\\omega$-axis**"
   ]
  },
  {
   "cell_type": "code",
   "execution_count": 32,
   "id": "28315549-2f38-4010-b928-4535dc0665c1",
   "metadata": {},
   "outputs": [
    {
     "data": {
      "text/plain": [
       "(3.898717737923621j, -3.898717737923621j)"
      ]
     },
     "execution_count": 32,
     "metadata": {},
     "output_type": "execute_result"
    }
   ],
   "source": [
    "jw_crossings = root_locus.find_jw_crossings(imag_max=5)\n",
    "jw_crossings"
   ]
  },
  {
   "cell_type": "code",
   "execution_count": 33,
   "id": "6d551289-c815-4e92-acae-ea50baea01c8",
   "metadata": {},
   "outputs": [
    {
     "data": {
      "text/plain": [
       "1.500000000000012"
      ]
     },
     "execution_count": 33,
     "metadata": {},
     "output_type": "execute_result"
    }
   ],
   "source": [
    "tfv = TransferFunctionVector(G)\n",
    "tfv.point = jw_crossings[0]\n",
    "tfv.gain"
   ]
  },
  {
   "cell_type": "markdown",
   "id": "a1ffe2bb-2150-4c4a-961d-e4687af7f28f",
   "metadata": {},
   "source": [
    "**The breakaway point on the real axis**"
   ]
  },
  {
   "cell_type": "code",
   "execution_count": 34,
   "id": "c940aa95-b514-4877-b894-c1fa9c235fed",
   "metadata": {},
   "outputs": [
    {
     "name": "stdout",
     "output_type": "stream",
     "text": [
      "breakaway points = [-2.87921561087423]\n"
     ]
    }
   ],
   "source": [
    "breakaway_points, break_in_points = root_locus.find_breakaway_break_in_points()\n",
    "if breakaway_points:\n",
    "    print(f\"breakaway points = {breakaway_points}\")\n",
    "if break_in_points:\n",
    "    print(f\"break-in points = {break_in_points}\")"
   ]
  },
  {
   "cell_type": "markdown",
   "id": "5a7d7587-ca83-4098-9b06-c30b8c11214d",
   "metadata": {},
   "source": [
    "### Skill-Assessment Exercise 8.5"
   ]
  },
  {
   "cell_type": "markdown",
   "id": "35265c27-16e5-4503-af58-a9e4cf075176",
   "metadata": {},
   "source": [
    "Given a unity-feedback system that has the forward transfer function:\n",
    "$$G\\left( s \\right) = \\frac{{K\\left( {s - 2} \\right)\\left( {s - 4} \\right)}}{{\\left( {{s^2} + 6s + 25} \\right)}}$$\n",
    "do the following:\n",
    "1. Sketch the root locus.\n",
    "2. Find the imaginary-axis crossing.\n",
    "3. Find the gain at $j\\omega$-axis crossing.\n",
    "4. Find the break-in point.\n",
    "5. Find the point where the locus crosses the 0.5 damping ratio line.\n",
    "6. Find the gain at the point where the locus crosses the 0.5 damping ratio line.\n",
    "7. Find the range of gain $K$ for which the system is stable."
   ]
  },
  {
   "cell_type": "code",
   "execution_count": 35,
   "id": "b394ef06-5f17-437e-862f-c212fbc581b2",
   "metadata": {},
   "outputs": [
    {
     "data": {
      "image/png": "[encoded data removed]",
      "text/plain": [
       "<Figure size 640x480 with 1 Axes>"
      ]
     },
     "metadata": {},
     "output_type": "display_data"
    }
   ],
   "source": [
    "G = TransferFunction(K * (s - 2) * (s - 4) / (s**2 + 6*s + 25))\n",
    "root_locus = RootLocus(G)\n",
    "root_locus.plot(real_limits=(-6, 6, 1), imag_limits=(-6, 6, 1))"
   ]
  },
  {
   "cell_type": "code",
   "execution_count": 36,
   "id": "a4457de3-80e7-4ce9-b54b-b5cd2ec48067",
   "metadata": {},
   "outputs": [
    {
     "data": {
      "text/plain": [
       "(4.062019202318045j, -4.062019202318045j)"
      ]
     },
     "execution_count": 36,
     "metadata": {},
     "output_type": "execute_result"
    }
   ],
   "source": [
    "jw_crossings = root_locus.find_jw_crossings(imag_max=5)\n",
    "jw_crossings"
   ]
  },
  {
   "cell_type": "code",
   "execution_count": 37,
   "id": "7bd9993c-361d-4208-9a94-6f411ffb09d0",
   "metadata": {},
   "outputs": [
    {
     "data": {
      "text/plain": [
       "0.9999999999999865"
      ]
     },
     "execution_count": 37,
     "metadata": {},
     "output_type": "execute_result"
    }
   ],
   "source": [
    "tfv = TransferFunctionVector(G)\n",
    "tfv.point = jw_crossings[0]\n",
    "tfv.gain"
   ]
  },
  {
   "cell_type": "code",
   "execution_count": 38,
   "id": "b1059569-368a-4231-886c-94371a151fcb",
   "metadata": {},
   "outputs": [
    {
     "name": "stdout",
     "output_type": "stream",
     "text": [
      "break-in points = [2.88530316638010]\n"
     ]
    }
   ],
   "source": [
    "breakaway_points, break_in_points = root_locus.find_breakaway_break_in_points()\n",
    "if breakaway_points:\n",
    "    print(f\"breakaway points = {breakaway_points}\")\n",
    "if break_in_points:\n",
    "    print(f\"break-in points = {break_in_points}\")"
   ]
  },
  {
   "cell_type": "code",
   "execution_count": 39,
   "id": "653b1fea-6f56-46ca-a045-58a864a480f6",
   "metadata": {},
   "outputs": [
    {
     "name": "stdout",
     "output_type": "stream",
     "text": [
      "((-2.415824743986418+4.184331198766554j), 0.10786450515449826)\n"
     ]
    }
   ],
   "source": [
    "zeta_crossings = root_locus.find_damping_ratio_crossings(damping_ratio=0.5, r_max=5)\n",
    "if zeta_crossings:\n",
    "    for zc in zeta_crossings:\n",
    "        print(zc)\n",
    "else:\n",
    "    print(\"no crossings with the damping ratio line found\")"
   ]
  },
  {
   "cell_type": "markdown",
   "id": "d45aa0c4-fd5c-4b0d-bb0f-1e74aef236ca",
   "metadata": {},
   "source": [
    "## 8.7 : Transient Response Design via Gain Adjustment"
   ]
  },
  {
   "cell_type": "markdown",
   "id": "40ad26a8-455c-44c2-ac37-907449c9db41",
   "metadata": {},
   "source": [
    "### Example 8.8 : Third-Order System Gain Design"
   ]
  },
  {
   "cell_type": "markdown",
   "id": "8f428645-474f-4946-a322-6d738ccfc196",
   "metadata": {},
   "source": [
    "Consider the unity-feedback system with forward transfer function:\n",
    "$$G\\left( s \\right) = \\frac{{K\\left( {s + 1.5} \\right)}}{{s\\left( {s + 1} \\right)\\left( {s + 10} \\right)}}$$\n",
    "Design the value of gain $K$ to yield 1.52% overshoot."
   ]
  },
  {
   "cell_type": "markdown",
   "id": "54cb9a54-3868-4a6f-bfdf-16ab9e289a08",
   "metadata": {},
   "source": [
    "**Sketch the root locus**"
   ]
  },
  {
   "cell_type": "code",
   "execution_count": 40,
   "id": "1cad4feb-81ab-444b-bf9a-1b64b81eb235",
   "metadata": {},
   "outputs": [
    {
     "data": {
      "image/png": "[encoded data removed]",
      "text/plain": [
       "<Figure size 500x500 with 1 Axes>"
      ]
     },
     "metadata": {},
     "output_type": "display_data"
    }
   ],
   "source": [
    "G = TransferFunction(K * (s + 1.5) / (s * (s + 1) * (s + 10)))\n",
    "root_locus = RootLocus(G)\n",
    "root_locus.plot(real_limits=(-11, 1, 1), imag_limits=(-6, 6, 1), fig_size=(5, 5))"
   ]
  },
  {
   "cell_type": "markdown",
   "id": "8b9d1ffc-c44b-48da-80be-2346398535e1",
   "metadata": {},
   "source": [
    "**Assumption: The feedback system can be approximated by a second-order, underdamped system without any zeros**"
   ]
  },
  {
   "cell_type": "markdown",
   "id": "6a23d7a8-e0c4-47db-b63d-cab3675cccc4",
   "metadata": {},
   "source": [
    "Get the damping ratio corresponding with a 1.52% overshoot."
   ]
  },
  {
   "cell_type": "code",
   "execution_count": 41,
   "id": "cb79c2cb-3948-4ebc-82f8-d40e644ea26c",
   "metadata": {},
   "outputs": [
    {
     "data": {
      "text/plain": [
       "0.7998396910782286"
      ]
     },
     "execution_count": 41,
     "metadata": {},
     "output_type": "execute_result"
    }
   ],
   "source": [
    "zeta = get_damping_ratio(1.52)\n",
    "zeta"
   ]
  },
  {
   "cell_type": "markdown",
   "id": "dbbf14c5-dd1f-4d30-8aaa-f5451713b518",
   "metadata": {},
   "source": [
    "Find the points on the damping ratio line where the root locus is crossing (i.e. where the feedback system may have closed-loop poles depending on the value of the gain $K$). "
   ]
  },
  {
   "cell_type": "code",
   "execution_count": 42,
   "id": "6b9e4bb1-0815-4013-93f4-bd6f680a2413",
   "metadata": {},
   "outputs": [
    {
     "name": "stdout",
     "output_type": "stream",
     "text": [
      "- closed-loop pole at (-0.8733060865260706+0.6553441531333636j) with gain K = 7.354\n",
      "- closed-loop pole at (-1.1938398679993987+0.8958783058333311j) with gain K = 12.791\n",
      "- closed-loop pole at (-4.602084639746876+3.453484760286213j) with gain K = 39.635\n"
     ]
    }
   ],
   "source": [
    "zeta_crossings = root_locus.find_damping_ratio_crossings(zeta, r_max=10)\n",
    "if zeta_crossings:\n",
    "    for zc in zeta_crossings:\n",
    "        print(f\"- closed-loop pole at {zc[0]} with gain K = {zc[1]:.3f}\")\n",
    "else:\n",
    "    print(\"no crossings with the damping ratio line found\")"
   ]
  },
  {
   "cell_type": "markdown",
   "id": "af38c7d9-e5d0-490a-87c5-6919440ca095",
   "metadata": {},
   "source": [
    "Note that each closed-loop pole in the positive upper-half of the complex plane, also has a conjugate pole in the negative lower-half. \n",
    "\n",
    "Now, we can create the second-order system approximations as well as the actual unity-feedback systems."
   ]
  },
  {
   "cell_type": "code",
   "execution_count": 43,
   "id": "5f44a2da-0da6-4902-ae70-58327a256303",
   "metadata": {},
   "outputs": [],
   "source": [
    "feedback_systems = [\n",
    "    (zeta_crossing[1], create_feedback_system(zeta_crossing[1], G))\n",
    "    for zeta_crossing in zeta_crossings\n",
    "]\n",
    "\n",
    "second_order_systems = [\n",
    "    (zeta_crossing[1], create_second_order_system(zeta_crossing[0], zeta))\n",
    "    for zeta_crossing in zeta_crossings\n",
    "]"
   ]
  },
  {
   "cell_type": "markdown",
   "id": "561e0ee8-1c48-49f3-98f5-c5f8681c432a",
   "metadata": {},
   "source": [
    "*Closed-loop poles (and zeros) of the second-order systems:*"
   ]
  },
  {
   "cell_type": "code",
   "execution_count": 44,
   "id": "8f6302ca-768b-496a-8aa8-19ae0fe44795",
   "metadata": {},
   "outputs": [
    {
     "name": "stdout",
     "output_type": "stream",
     "text": [
      "gain K = 7.354: poles = [(-0.87330608652607+0.6553441531333671j), (-0.87330608652607-0.6553441531333671j)]; zeros = []\n",
      "gain K = 12.791: poles = [(-1.1938398679994+0.8958783058333286j), (-1.1938398679994-0.8958783058333286j)]; zeros = []\n",
      "gain K = 39.635: poles = [(-4.602084639746875+3.45348476028622j), (-4.602084639746875-3.45348476028622j)]; zeros = []\n"
     ]
    }
   ],
   "source": [
    "for sos in second_order_systems:\n",
    "    print(f\"gain K = {sos[0]:.3f}: poles = {sos[1].poles}; zeros = {sos[1].zeros}\")"
   ]
  },
  {
   "cell_type": "markdown",
   "id": "8d538c66-419b-4d29-a2bb-508ca82d4dd8",
   "metadata": {},
   "source": [
    "*Closed-loop poles (and zeros) of the unity-feedback systems:*"
   ]
  },
  {
   "cell_type": "code",
   "execution_count": 45,
   "id": "d4f568ff-87d5-4ed8-9905-bbe43159ddc0",
   "metadata": {},
   "outputs": [
    {
     "name": "stdout",
     "output_type": "stream",
     "text": [
      "gain K = 7.354: poles = [(-9.253387826947876+0j), (-0.873306086526069+0.6553441531333659j), (-0.873306086526069-0.6553441531333659j)]; zeros = [-1.5+0.j]\n",
      "gain K = 12.791: poles = [(-8.61232026400121+0j), (-1.1938398679993976+0.8958783058333344j), (-1.1938398679993976-0.8958783058333344j)]; zeros = [-1.5+0.j]\n",
      "gain K = 39.635: poles = [(-4.602084639746881+3.4534847602862184j), (-4.602084639746881-3.4534847602862184j), (-1.7958307205062412+0j)]; zeros = [-1.5+0.j]\n"
     ]
    }
   ],
   "source": [
    "for fbs in feedback_systems:\n",
    "    print(f\"gain K = {fbs[0]:.3f}: poles = {fbs[1].closed_loop.poles}; zeros = {fbs[1].closed_loop.zeros}\")"
   ]
  },
  {
   "cell_type": "markdown",
   "id": "5c821ab2-ad27-4de4-bb16-1592ffb3ea43",
   "metadata": {},
   "source": [
    "Let's compare the unit step response of each unity-feedback system with its corresponding second-order system approximation: "
   ]
  },
  {
   "cell_type": "code",
   "execution_count": 46,
   "id": "61152786-acd6-4d85-881b-85625d0fadab",
   "metadata": {},
   "outputs": [
    {
     "data": {
      "image/png": "[encoded data removed]",
      "text/plain": [
       "<Figure size 640x480 with 1 Axes>"
      ]
     },
     "metadata": {},
     "output_type": "display_data"
    },
    {
     "data": {
      "image/png": "[encoded data removed]",
      "text/plain": [
       "<Figure size 640x480 with 1 Axes>"
      ]
     },
     "metadata": {},
     "output_type": "display_data"
    },
    {
     "data": {
      "image/png": "[encoded data removed]",
      "text/plain": [
       "<Figure size 640x480 with 1 Axes>"
      ]
     },
     "metadata": {},
     "output_type": "display_data"
    }
   ],
   "source": [
    "for fbs, sos in zip(feedback_systems, second_order_systems):\n",
    "    plot_step_responses(fbs[0], fbs[1], sos[1])"
   ]
  },
  {
   "cell_type": "markdown",
   "id": "6261bf1e-53f3-43e8-99b0-ef2ba03afa65",
   "metadata": {},
   "source": [
    "## 8.10 : Pole Sensitivity"
   ]
  },
  {
   "cell_type": "markdown",
   "id": "b006ccf4-514e-483e-80d4-3b74c74a2818",
   "metadata": {},
   "source": [
    "### Example 8.10 : Root Sensitivity of a Closed-Loop System to Gain Variations"
   ]
  },
  {
   "cell_type": "markdown",
   "id": "efa08faa-7a32-4a78-b5e5-d9ead1a9795c",
   "metadata": {},
   "source": [
    "Find the root sensitivity of the unity-feedback system with closed-loop transfer function:\n",
    "$$\n",
    "T\\left( s \\right) = \\frac{K}{{{s^2} + 10s + K}}\n",
    "$$\n",
    "at $s$ = -9.47 ($K$ = 5) and at $s$ = -5 + j5 ($K$ = 50). Also calculate the change in pole location for 10% change in $K$."
   ]
  },
  {
   "cell_type": "code",
   "execution_count": 47,
   "id": "1c9aceb1-17d2-45de-b09a-d97c3aee3339",
   "metadata": {},
   "outputs": [],
   "source": [
    "T = TransferFunction(K / (s**2 + 10*s + K))\n",
    "dK_fraction = 0.1"
   ]
  },
  {
   "cell_type": "markdown",
   "id": "c6b459de-6286-420a-9c4f-80ab100e8762",
   "metadata": {},
   "source": [
    "**Pole 1**"
   ]
  },
  {
   "cell_type": "code",
   "execution_count": 48,
   "id": "7beb7551-fb30-4f02-9511-a85227bb7c10",
   "metadata": {},
   "outputs": [
    {
     "data": {
      "text/plain": [
       "(-0.059058512812153754+0j)"
      ]
     },
     "execution_count": 48,
     "metadata": {},
     "output_type": "execute_result"
    }
   ],
   "source": [
    "pole1, K_value1 = -9.47, 5.0\n",
    "S1 = pole_sensitivity(T, pole1, K_value1)\n",
    "S1"
   ]
  },
  {
   "cell_type": "code",
   "execution_count": 49,
   "id": "7606cb4a-0696-48b6-8911-f795bef96c65",
   "metadata": {},
   "outputs": [
    {
     "data": {
      "text/plain": [
       "(0.05592841163310961+0j)"
      ]
     },
     "execution_count": 49,
     "metadata": {},
     "output_type": "execute_result"
    }
   ],
   "source": [
    "delta_s1 = pole1 * S1 * dK_fraction\n",
    "delta_s1"
   ]
  },
  {
   "cell_type": "markdown",
   "id": "d51ba8f5-fae8-4d05-9873-a2b7248e56ae",
   "metadata": {},
   "source": [
    "The pole will move to the right by 0.056 units for a 10% change in $K$."
   ]
  },
  {
   "cell_type": "markdown",
   "id": "b1514fe2-0cf1-4fd5-8bd6-a3fc5778913c",
   "metadata": {},
   "source": [
    "**Pole 2**"
   ]
  },
  {
   "cell_type": "code",
   "execution_count": 50,
   "id": "77bea3dc-c25f-43f1-bbc7-423485d4b22e",
   "metadata": {},
   "outputs": [
    {
     "data": {
      "text/plain": [
       "(0.5-0.5j)"
      ]
     },
     "execution_count": 50,
     "metadata": {},
     "output_type": "execute_result"
    }
   ],
   "source": [
    "pole2, K_value2 = -5 + 5j, 50.0\n",
    "S2 = pole_sensitivity(T, pole=pole2, K_value=K_value2)\n",
    "S2"
   ]
  },
  {
   "cell_type": "code",
   "execution_count": 51,
   "id": "d983c1cd-6229-467d-8e8a-63b50aebcf16",
   "metadata": {},
   "outputs": [
    {
     "data": {
      "text/plain": [
       "0.5j"
      ]
     },
     "execution_count": 51,
     "metadata": {},
     "output_type": "execute_result"
    }
   ],
   "source": [
    "delta_s2 = pole2 * S2 * dK_fraction\n",
    "delta_s2"
   ]
  },
  {
   "cell_type": "markdown",
   "id": "5bcce2ba-c166-41a9-9001-b85fdd2b0598",
   "metadata": {},
   "source": [
    "The pole will move vertically by 0.5 unit for a 10% change in $K$."
   ]
  },
  {
   "cell_type": "code",
   "execution_count": null,
   "id": "30987a38-f3f9-44dd-80bd-e5fd9c65c748",
   "metadata": {},
   "outputs": [],
   "source": []
  }
 ],
 "metadata": {
  "kernelspec": {
   "display_name": "Python 3 (ipykernel)",
   "language": "python",
   "name": "python3"
  },
  "language_info": {
   "codemirror_mode": {
    "name": "ipython",
    "version": 3
   },
   "file_extension": ".py",
   "mimetype": "text/x-python",
   "name": "python",
   "nbconvert_exporter": "python",
   "pygments_lexer": "ipython3",
   "version": "3.11.10"
  }
 },
 "nbformat": 4,
 "nbformat_minor": 5
}
