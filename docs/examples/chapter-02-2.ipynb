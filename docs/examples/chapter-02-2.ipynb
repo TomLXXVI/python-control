{
 "cells": [
  {
   "cell_type": "markdown",
   "id": "c6c6ef9c-6833-410f-a7fb-b0f744af1507",
   "metadata": {},
   "source": [
    "# Chapter 2 : Modeling in the Frequency Domain (Part 2)\n",
    "---"
   ]
  },
  {
   "cell_type": "code",
   "execution_count": 1,
   "id": "3d3448fc-9335-4579-97e8-8f21a04c41f1",
   "metadata": {},
   "outputs": [],
   "source": [
    "import sys\n",
    "\n",
    "if (path := \"C:/Users/Tom/pycharm-projects/python-control\") not in sys.path:\n",
    "    sys.path.append(path)\n",
    "\n",
    "import sympy as sp\n",
    "\n",
    "from python_control import Quantity, TransferFunction\n",
    "from python_control.modeling.electrical import (\n",
    "    Inductor, Resistor, Capacitor,\n",
    "    Mesh, Circuit\n",
    ")\n",
    "\n",
    "Q_ = Quantity"
   ]
  },
  {
   "cell_type": "markdown",
   "id": "92869b10-4f5b-443d-84ad-eb390ef001db",
   "metadata": {},
   "source": [
    "## 2.4 : Electrical Network Transfer Functions"
   ]
  },
  {
   "cell_type": "markdown",
   "id": "bb8292fc-071d-44a1-b424-0152d45ae681",
   "metadata": {},
   "source": [
    "### Example 2.7 : Transfer Function - Single Loop via Transform Methods"
   ]
  },
  {
   "cell_type": "markdown",
   "id": "5d0c2982-6786-4281-961a-eb7b5c63f885",
   "metadata": {},
   "source": [
    "Find the transfer function relating the capacitor voltage $V_c(s)$ to the input voltage $V(s)$."
   ]
  },
  {
   "cell_type": "markdown",
   "id": "2577e548-36be-4ede-ade8-21e3f03e0539",
   "metadata": {},
   "source": [
    "![RLC network](.\\images\\example_2-6.png)"
   ]
  },
  {
   "cell_type": "markdown",
   "id": "05a00930-103f-4810-a7fe-7730c5f672af",
   "metadata": {},
   "source": [
    "First we define the electrical components in the network and display their impedance $Z$ and admittance $Y$:"
   ]
  },
  {
   "cell_type": "code",
   "execution_count": 2,
   "id": "5704b86f-3884-45d8-9e0a-815c0617bddc",
   "metadata": {},
   "outputs": [
    {
     "data": {
      "text/latex": [
       "$\\displaystyle 1.0 L s$"
      ],
      "text/plain": [
       "1.0*L*s"
      ]
     },
     "execution_count": 2,
     "metadata": {},
     "output_type": "execute_result"
    }
   ],
   "source": [
    "inductor = Inductor('L')\n",
    "Z_L = inductor.Z\n",
    "Y_L = inductor.Y\n",
    "Z_L.expr"
   ]
  },
  {
   "cell_type": "code",
   "execution_count": 3,
   "id": "d4365973-50a2-474d-9347-46bc499cd9c7",
   "metadata": {},
   "outputs": [
    {
     "data": {
      "text/latex": [
       "$\\displaystyle 1.0 R$"
      ],
      "text/plain": [
       "1.0*R"
      ]
     },
     "execution_count": 3,
     "metadata": {},
     "output_type": "execute_result"
    }
   ],
   "source": [
    "resistor = Resistor('R')\n",
    "Z_R = resistor.Z\n",
    "Y_R = resistor.Y\n",
    "Z_R.expr"
   ]
  },
  {
   "cell_type": "code",
   "execution_count": 4,
   "id": "c8483dd6-6009-45e0-869a-001c7f4c05fa",
   "metadata": {},
   "outputs": [
    {
     "data": {
      "text/latex": [
       "$\\displaystyle \\frac{1.0}{C s}$"
      ],
      "text/plain": [
       "1.0/(C*s)"
      ]
     },
     "execution_count": 4,
     "metadata": {},
     "output_type": "execute_result"
    }
   ],
   "source": [
    "capacitor = Capacitor('C')\n",
    "Z_C = capacitor.Z\n",
    "Y_C = capacitor.Y\n",
    "Z_C.expr"
   ]
  },
  {
   "cell_type": "markdown",
   "id": "a09a3569-6614-44c9-b913-0668fbede4e0",
   "metadata": {},
   "source": [
    "In fact, the impedance and the admittance of an electrical component are objects of class `TransferFunction`."
   ]
  },
  {
   "cell_type": "markdown",
   "id": "2e3aa1c0-6288-46ea-99aa-bc392a59685f",
   "metadata": {},
   "source": [
    "The voltage $V_c$ across the capacitor depends on the current $I$ that flows through the RLC series circuit. To find this current, we first determine the total impedance of the circuit: "
   ]
  },
  {
   "cell_type": "code",
   "execution_count": 5,
   "id": "b27feb67-f626-4a49-809f-f6b9da90b5a5",
   "metadata": {},
   "outputs": [
    {
     "data": {
      "text/latex": [
       "$\\displaystyle \\frac{L s^{2} + R s + \\frac{1}{C}}{s}$"
      ],
      "text/plain": [
       "(L*s**2 + R*s + 1/C)/s"
      ]
     },
     "execution_count": 5,
     "metadata": {},
     "output_type": "execute_result"
    }
   ],
   "source": [
    "Z = Z_L + Z_R + Z_C\n",
    "Z.expr"
   ]
  },
  {
   "cell_type": "markdown",
   "id": "f52a5a22-32c6-48fb-bebe-fa14df76b6d0",
   "metadata": {},
   "source": [
    "The current $I$ and the voltage $V$ across the circuit are related by:\n",
    "$$\n",
    "\\frac{V}{I} = Z \\Rightarrow \\frac{I}{V} = Y \\Rightarrow I = Y \\cdot V\n",
    "$$"
   ]
  },
  {
   "cell_type": "markdown",
   "id": "33898bc3-5bb3-416d-b303-885b1d48b207",
   "metadata": {},
   "source": [
    "The total admittance $Y$ of the circuit can be determined with:"
   ]
  },
  {
   "cell_type": "code",
   "execution_count": 6,
   "id": "0015928e-3e0f-4eb3-85da-99aa7d0bac8e",
   "metadata": {},
   "outputs": [
    {
     "data": {
      "text/latex": [
       "$\\displaystyle \\frac{s}{L \\left(s^{2} + \\frac{R s}{L} + \\frac{1}{C L}\\right)}$"
      ],
      "text/plain": [
       "s/(L*(s**2 + R*s/L + 1/(C*L)))"
      ]
     },
     "execution_count": 6,
     "metadata": {},
     "output_type": "execute_result"
    }
   ],
   "source": [
    "Y = 1 / Z\n",
    "Y.expr"
   ]
  },
  {
   "cell_type": "markdown",
   "id": "d5ccc26e-5c72-4afb-bc30-d2248b3999a8",
   "metadata": {},
   "source": [
    "The voltage $V$ across the circuit can be defined as a *Sympy* symbol. Now, we can also determine the current $I$ and the voltage $V_c$ across the capacitor: "
   ]
  },
  {
   "cell_type": "code",
   "execution_count": 7,
   "id": "7be766ca-8975-4396-835a-2c362b4105b6",
   "metadata": {},
   "outputs": [
    {
     "data": {
      "text/latex": [
       "$\\displaystyle \\frac{V}{C L \\left(s^{2} + \\frac{R s}{L} + \\frac{1}{C L}\\right)}$"
      ],
      "text/plain": [
       "V/(C*L*(s**2 + R*s/L + 1/(C*L)))"
      ]
     },
     "execution_count": 7,
     "metadata": {},
     "output_type": "execute_result"
    }
   ],
   "source": [
    "V = sp.Symbol('V')\n",
    "I = Y * V\n",
    "V_C = Z_C * I\n",
    "V_C.expr"
   ]
  },
  {
   "cell_type": "markdown",
   "id": "83dd06a4-f4a9-43da-bf97-ee28a6a32d93",
   "metadata": {},
   "source": [
    "The transfer function we are looking for is $V_c / V$, with $V$ the input and $V_c$ the output of the system:"
   ]
  },
  {
   "cell_type": "code",
   "execution_count": 8,
   "id": "4eab8816-851a-4375-a601-25bfc2ac0491",
   "metadata": {},
   "outputs": [
    {
     "data": {
      "text/latex": [
       "$\\displaystyle \\frac{1.0}{C L \\left(s^{2} + \\frac{R s}{L} + \\frac{1}{C L}\\right)}$"
      ],
      "text/plain": [
       "1.0/(C*L*(s**2 + R*s/L + 1/(C*L)))"
      ]
     },
     "execution_count": 8,
     "metadata": {},
     "output_type": "execute_result"
    }
   ],
   "source": [
    "G = V_C / V\n",
    "G.expr"
   ]
  },
  {
   "cell_type": "code",
   "execution_count": 9,
   "id": "15d96e83-ea6f-4c65-a8ae-7cc1b0841088",
   "metadata": {},
   "outputs": [
    {
     "data": {
      "text/plain": [
       "python_control.core.transfer_function.TransferFunction"
      ]
     },
     "execution_count": 9,
     "metadata": {},
     "output_type": "execute_result"
    }
   ],
   "source": [
    "type(G)"
   ]
  },
  {
   "cell_type": "markdown",
   "id": "7b1057e5-2154-412b-999d-7b100a53e56d",
   "metadata": {},
   "source": [
    "### Example 2.10 : Transfer Function - Multiple Loops"
   ]
  },
  {
   "cell_type": "markdown",
   "id": "3a8c0dce-2f8e-4a0b-a330-26258965aa30",
   "metadata": {},
   "source": [
    "Given the network below, find the transfer function $I_2(s) / V(s)$.\n",
    "\n",
    "![two-loop electrical network](./images/example_2-10.png)"
   ]
  },
  {
   "cell_type": "markdown",
   "id": "c49062b3-2830-41e1-b154-0f2240aad6d1",
   "metadata": {},
   "source": [
    "To solve this problem we can use the classes `Mesh` and `Circuit` in module `mesh_analysis` of subpackage `python_control.electrical`.\n",
    "\n",
    "First, we create the electrical components that are present in the multi-loop circuit. The voltage source is represented by a *Sympy* symbol."
   ]
  },
  {
   "cell_type": "code",
   "execution_count": 10,
   "id": "4b5eb01a-1805-4cc3-ae9f-c1273934f431",
   "metadata": {},
   "outputs": [],
   "source": [
    "V = sp.Symbol('V')\n",
    "resistor1 = Resistor('R1')\n",
    "inductor = Inductor('L')\n",
    "resistor2 = Resistor('R2')\n",
    "capacitor = Capacitor('C')"
   ]
  },
  {
   "cell_type": "markdown",
   "id": "ba58013b-b5e0-46b7-b089-7c86a341be88",
   "metadata": {},
   "source": [
    "Next, we create each mesh (loop) and we add the components to each mesh that are part of that mesh:   "
   ]
  },
  {
   "cell_type": "code",
   "execution_count": 11,
   "id": "8627a4d9-4928-4c41-af7c-fbc57bc6c2a6",
   "metadata": {},
   "outputs": [],
   "source": [
    "mesh1 = Mesh('1')\n",
    "mesh1.add_voltage_source(V)\n",
    "mesh1.add_component(resistor1)\n",
    "mesh1.add_component(inductor)\n",
    "\n",
    "mesh2 = Mesh('2')\n",
    "mesh2.add_component(resistor2)\n",
    "mesh2.add_component(capacitor)\n",
    "mesh2.add_component(inductor)"
   ]
  },
  {
   "cell_type": "markdown",
   "id": "5e8b4f82-9242-4259-bc2c-95e3d9f02257",
   "metadata": {},
   "source": [
    "Once the meshes are configured, we create the circuit and we add the meshes to this circuit:"
   ]
  },
  {
   "cell_type": "code",
   "execution_count": 12,
   "id": "bc1ac8e5-6884-42ac-b3b4-3c964c6f7927",
   "metadata": {},
   "outputs": [],
   "source": [
    "circuit = Circuit()\n",
    "circuit.add_mesh(mesh1)\n",
    "circuit.add_mesh(mesh2)"
   ]
  },
  {
   "cell_type": "markdown",
   "id": "b0fd81b5-8fb7-4388-816e-c2556b7f580a",
   "metadata": {},
   "source": [
    "Now that the circuit is fully configured, the circuit can be solved for the mesh currents: "
   ]
  },
  {
   "cell_type": "code",
   "execution_count": 13,
   "id": "76ff55bb-ae30-4852-a267-abae34508c74",
   "metadata": {},
   "outputs": [
    {
     "data": {
      "text/plain": [
       "{I_1: (C*L*V*s**2 + C*R2*V*s + V)/(C*L*R1*s**2 + C*L*R2*s**2 + C*R1*R2*s + L*s + R1),\n",
       " I_2: C*L*V*s**2/(C*L*R1*s**2 + C*L*R2*s**2 + C*R1*R2*s + L*s + R1)}"
      ]
     },
     "execution_count": 13,
     "metadata": {},
     "output_type": "execute_result"
    }
   ],
   "source": [
    "currents = circuit.solve()\n",
    "currents"
   ]
  },
  {
   "cell_type": "markdown",
   "id": "9c9a6b8a-09ba-4961-b19f-bb13a97ccf65",
   "metadata": {},
   "source": [
    "We need the transfer function $G(s) = I_2(s) / V(s)$:"
   ]
  },
  {
   "cell_type": "code",
   "execution_count": 14,
   "id": "e33cf2d5-1ecc-4611-8c89-14aba7e58650",
   "metadata": {},
   "outputs": [
    {
     "data": {
      "text/latex": [
       "$\\displaystyle \\frac{C L s^{2}}{C L R_{1} s^{2} + C L R_{2} s^{2} + C R_{1} R_{2} s + L s + R_{1}}$"
      ],
      "text/plain": [
       "C*L*s**2/(C*L*R1*s**2 + C*L*R2*s**2 + C*R1*R2*s + L*s + R1)"
      ]
     },
     "execution_count": 14,
     "metadata": {},
     "output_type": "execute_result"
    }
   ],
   "source": [
    "I_2 = currents[mesh2.current]\n",
    "V = mesh1.voltage_sources[0]\n",
    "G = I_2 / V\n",
    "G"
   ]
  },
  {
   "cell_type": "markdown",
   "id": "6b24ce1a-bf85-499e-9d48-f87917ed4d9b",
   "metadata": {},
   "source": [
    "Note that `G` is a *Sympy* expression. We can pass this expression to the `__init__` method of class `TransferFunction`:"
   ]
  },
  {
   "cell_type": "code",
   "execution_count": 15,
   "id": "b2e6e5ad-e97d-40a5-8391-cbd8bd16676a",
   "metadata": {},
   "outputs": [
    {
     "data": {
      "text/plain": [
       "sympy.core.mul.Mul"
      ]
     },
     "execution_count": 15,
     "metadata": {},
     "output_type": "execute_result"
    }
   ],
   "source": [
    "type(G)"
   ]
  },
  {
   "cell_type": "code",
   "execution_count": 16,
   "id": "56fd5988-214a-4746-bbf9-2dc4f6e16bf8",
   "metadata": {},
   "outputs": [
    {
     "data": {
      "text/latex": [
       "$\\displaystyle \\frac{s^{2}}{\\left(R_{1} + R_{2}\\right) \\left(\\frac{R_{1}}{C L R_{1} + C L R_{2}} + s^{2} + \\frac{s \\left(C R_{1} R_{2} + L\\right)}{C L R_{1} + C L R_{2}}\\right)}$"
      ],
      "text/plain": [
       "s**2/((R1 + R2)*(R1/(C*L*R1 + C*L*R2) + s**2 + s*(C*R1*R2 + L)/(C*L*R1 + C*L*R2)))"
      ]
     },
     "execution_count": 16,
     "metadata": {},
     "output_type": "execute_result"
    }
   ],
   "source": [
    "G = TransferFunction(G)\n",
    "G.expr"
   ]
  },
  {
   "cell_type": "markdown",
   "id": "ad7439f1-7ba5-400a-9880-839731ffa588",
   "metadata": {},
   "source": [
    "### Example 2.13 : Mesh Equations via Inspection"
   ]
  },
  {
   "cell_type": "markdown",
   "id": "ab0da586-0704-4549-ac21-b0c89bd98f65",
   "metadata": {},
   "source": [
    "Write, but do not solve, the mesh equations for the network shown in the figure below.\n",
    "\n",
    "![three-loop electrical network](./images/example_2-13.png)"
   ]
  },
  {
   "cell_type": "markdown",
   "id": "e30653dd-11f3-47f6-a4a4-e263edea4319",
   "metadata": {},
   "source": [
    "Components:"
   ]
  },
  {
   "cell_type": "code",
   "execution_count": 17,
   "id": "de7d2cad-4eba-460b-b2d9-a5d5809a8ce0",
   "metadata": {},
   "outputs": [],
   "source": [
    "V = sp.Symbol('V')\n",
    "R1 = Resistor(Q_(1, 'ohm'))\n",
    "R2 = Resistor(Q_(1, 'ohm'))\n",
    "L1 = Inductor(Q_(2, 'H'))\n",
    "L2 = Inductor(Q_(4, 'H'))\n",
    "L3 = Inductor(Q_(3, 'H'))\n",
    "C = Capacitor(Q_(1, 'F'))"
   ]
  },
  {
   "cell_type": "markdown",
   "id": "7b795d18-afb7-48af-81ab-471619decb51",
   "metadata": {},
   "source": [
    "Meshes and Circuit:"
   ]
  },
  {
   "cell_type": "code",
   "execution_count": 18,
   "id": "ed755f9b-2ee1-4df3-a53b-37915529b6a8",
   "metadata": {},
   "outputs": [],
   "source": [
    "mesh1 = Mesh('1')\n",
    "mesh1.add_voltage_source(V)\n",
    "mesh1.add_component(R1)\n",
    "mesh1.add_component(R2)\n",
    "mesh1.add_component(L1)\n",
    "\n",
    "mesh2 = Mesh('2')\n",
    "mesh2.add_component(L2)\n",
    "mesh2.add_component(L3)\n",
    "mesh2.add_component(L1)\n",
    "mesh2.add_component(R2)\n",
    "\n",
    "mesh3 = Mesh('3')\n",
    "mesh3.add_component(C)\n",
    "mesh3.add_component(L2)\n",
    "mesh3.add_component(R1)\n",
    "\n",
    "circuit = Circuit()\n",
    "circuit.add_mesh(mesh1)\n",
    "circuit.add_mesh(mesh2)\n",
    "circuit.add_mesh(mesh3)"
   ]
  },
  {
   "cell_type": "markdown",
   "id": "6a8b2e04-ba35-4d40-b3f3-18a413d316c4",
   "metadata": {},
   "source": [
    "Solve the circuit for the mesh currents:"
   ]
  },
  {
   "cell_type": "code",
   "execution_count": 19,
   "id": "53bd789e-da36-4b2c-bb06-b87e28e45e56",
   "metadata": {},
   "outputs": [
    {
     "data": {
      "text/plain": [
       "{I_1: (20.0*V*s**3 + 13.0*V*s**2 + 10.0*V*s + V)/(24.0*s**4 + 30.0*s**3 + 17.0*s**2 + 16.0*s + 1.0),\n",
       " I_2: (8.0*V*s**3 + 10.0*V*s**2 + 3.0*V*s + V)/(24.0*s**4 + 30.0*s**3 + 17.0*s**2 + 16.0*s + 1.0),\n",
       " I_3: (8.0*V*s**3 + 13.0*V*s**2 + V*s)/(24.0*s**4 + 30.0*s**3 + 17.0*s**2 + 16.0*s + 1.0)}"
      ]
     },
     "execution_count": 19,
     "metadata": {},
     "output_type": "execute_result"
    }
   ],
   "source": [
    "currents = circuit.solve()\n",
    "currents"
   ]
  },
  {
   "cell_type": "markdown",
   "id": "0eefedcd-1b42-482d-8a0a-aeedec658b4d",
   "metadata": {},
   "source": [
    "Get the transfer function $I_3(s) / V(s)$:"
   ]
  },
  {
   "cell_type": "code",
   "execution_count": 20,
   "id": "632f8703-14d5-4597-a01a-06f5c80b9017",
   "metadata": {},
   "outputs": [
    {
     "data": {
      "text/latex": [
       "$\\displaystyle \\frac{0.333333333333333 s^{3} + 0.541666666666667 s^{2} + 0.0416666666666667 s}{1.0 s^{4} + 1.25 s^{3} + 0.708333333333333 s^{2} + 0.666666666666667 s + 0.0416666666666667}$"
      ],
      "text/plain": [
       "(0.333333333333333*s**3 + 0.541666666666667*s**2 + 0.0416666666666667*s)/(1.0*s**4 + 1.25*s**3 + 0.708333333333333*s**2 + 0.666666666666667*s + 0.0416666666666667)"
      ]
     },
     "execution_count": 20,
     "metadata": {},
     "output_type": "execute_result"
    }
   ],
   "source": [
    "I_3 = currents[mesh3.current]\n",
    "V = mesh1.voltage_sources[0]\n",
    "G = TransferFunction(I_3 / V)\n",
    "G.expr"
   ]
  }
 ],
 "metadata": {
  "kernelspec": {
   "display_name": "Python 3 (ipykernel)",
   "language": "python",
   "name": "python3"
  },
  "language_info": {
   "codemirror_mode": {
    "name": "ipython",
    "version": 3
   },
   "file_extension": ".py",
   "mimetype": "text/x-python",
   "name": "python",
   "nbconvert_exporter": "python",
   "pygments_lexer": "ipython3",
   "version": "3.11.10"
  }
 },
 "nbformat": 4,
 "nbformat_minor": 5
}
