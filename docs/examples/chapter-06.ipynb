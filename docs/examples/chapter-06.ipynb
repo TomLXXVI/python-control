{
 "cells": [
  {
   "cell_type": "markdown",
   "id": "e6e3f837-94f1-47ec-a7f2-a1a6ff76d67e",
   "metadata": {},
   "source": [
    "# Chapter 6 : Stability\n",
    "---"
   ]
  },
  {
   "cell_type": "code",
   "execution_count": 1,
   "id": "24c428ee-d6d6-4656-b80e-2fb05920d52d",
   "metadata": {},
   "outputs": [],
   "source": [
    "import sys\n",
    "\n",
    "if (path := \"C:/Users/Tom/pycharm-projects/python-control\") not in sys.path:\n",
    "    sys.path.append(path)\n",
    "\n",
    "from python_control import s, TransferFunction, K\n",
    "from python_control import routh_hurwitz"
   ]
  },
  {
   "cell_type": "markdown",
   "id": "2148dc28-442a-4f97-8d06-d6374495d711",
   "metadata": {},
   "source": [
    "## 6.2 : Routh-Hurwitz Criterion"
   ]
  },
  {
   "cell_type": "markdown",
   "id": "f3b23840-42e7-4e19-90ca-9663ea99e366",
   "metadata": {},
   "source": [
    "### Example 6.1 : Creating a Routh Table"
   ]
  },
  {
   "cell_type": "markdown",
   "id": "99924e75-9b8f-46b3-9f6a-ab15ef146bf8",
   "metadata": {},
   "source": [
    "Make the Routh table for the system:\n",
    "\n",
    "![feedback system for example 6.1](./images/example_6-1.png)"
   ]
  },
  {
   "cell_type": "code",
   "execution_count": 2,
   "id": "8d9045ae-b964-4a4c-9a84-4d58e17f6371",
   "metadata": {},
   "outputs": [
    {
     "data": {
      "text/latex": [
       "$\\displaystyle \\frac{1000.0}{1.0 s^{3} + 10.0 s^{2} + 31.0 s + 1030.0}$"
      ],
      "text/plain": [
       "1000.0/(1.0*s**3 + 10.0*s**2 + 31.0*s + 1030.0)"
      ]
     },
     "execution_count": 2,
     "metadata": {},
     "output_type": "execute_result"
    }
   ],
   "source": [
    "G = TransferFunction(1000 / ((s + 2) * (s + 3) * (s + 5)))\n",
    "H = TransferFunction(1)\n",
    "T = G.feedback(H)\n",
    "T.expr"
   ]
  },
  {
   "cell_type": "code",
   "execution_count": 3,
   "id": "f4939ab5-01a1-4455-bf61-7625fa99d25d",
   "metadata": {},
   "outputs": [
    {
     "name": "stdout",
     "output_type": "stream",
     "text": [
      "    s^3      1     31\n",
      "    s^2     10   1030\n",
      "    s^1    -72      0\n",
      "    s^0   1030      0\n",
      "\n"
     ]
    }
   ],
   "source": [
    "print(routh_hurwitz(T.denominator_poly))"
   ]
  },
  {
   "cell_type": "markdown",
   "id": "b5d1ced7-8cf0-4edf-b483-57f7e6ddec43",
   "metadata": {},
   "source": [
    "Simply stated, the Routh-Hurwitz criterion declares that the number of roots of the polynomial that are in the right half-plane is equal to the number of *sign changes* in the first column. A system is stable if there are no sign changes in the first column of the Routh table. Thus, the system is unstable since two poles exist in the right half-plane."
   ]
  },
  {
   "cell_type": "code",
   "execution_count": 4,
   "id": "04654e4a-9a88-4edc-a36f-71f658dc01de",
   "metadata": {},
   "outputs": [
    {
     "data": {
      "text/plain": [
       "[(-13.413558888341958+0j),\n",
       " (1.706779444170985+8.595049569173732j),\n",
       " (1.706779444170985-8.595049569173732j)]"
      ]
     },
     "execution_count": 4,
     "metadata": {},
     "output_type": "execute_result"
    }
   ],
   "source": [
    "T.poles"
   ]
  },
  {
   "cell_type": "code",
   "execution_count": 5,
   "id": "bffefb8b-5aec-4d0f-8010-410bf9efb80b",
   "metadata": {},
   "outputs": [
    {
     "data": {
      "text/plain": [
       "False"
      ]
     },
     "execution_count": 5,
     "metadata": {},
     "output_type": "execute_result"
    }
   ],
   "source": [
    "T.is_stable"
   ]
  },
  {
   "cell_type": "code",
   "execution_count": 6,
   "id": "302f56d5-53a9-4fa1-8fca-0d150f466b79",
   "metadata": {},
   "outputs": [
    {
     "data": {
      "image/png": "[encoded data removed]",
      "text/plain": [
       "<Figure size 640x480 with 1 Axes>"
      ]
     },
     "metadata": {},
     "output_type": "display_data"
    }
   ],
   "source": [
    "T.plot_unit_step_response()"
   ]
  },
  {
   "cell_type": "markdown",
   "id": "4c8fa877-1c7f-4cb9-a962-82793dca6b34",
   "metadata": {},
   "source": [
    "### Example 6.2 : Stability via Epsilon Method"
   ]
  },
  {
   "cell_type": "markdown",
   "id": "f4b68b0e-e1f3-4044-9530-e788035d2436",
   "metadata": {},
   "source": [
    "Determine the stability of the closed-loop transfer function:"
   ]
  },
  {
   "cell_type": "code",
   "execution_count": 7,
   "id": "a862644f-5e96-438b-9727-75e2c7a0e631",
   "metadata": {},
   "outputs": [
    {
     "data": {
      "text/latex": [
       "$\\displaystyle \\frac{10.0}{1.0 s^{5} + 2.0 s^{4} + 3.0 s^{3} + 6.0 s^{2} + 5.0 s + 3.0}$"
      ],
      "text/plain": [
       "10.0/(1.0*s**5 + 2.0*s**4 + 3.0*s**3 + 6.0*s**2 + 5.0*s + 3.0)"
      ]
     },
     "execution_count": 7,
     "metadata": {},
     "output_type": "execute_result"
    }
   ],
   "source": [
    "T = TransferFunction(10 / (s**5 + 2 * s**4 + 3 * s**3 + 6 * s**2 + 5 * s + 3))\n",
    "T.expr"
   ]
  },
  {
   "cell_type": "code",
   "execution_count": 8,
   "id": "969f3e51-16a1-4309-bb4f-0ebda1d8e9c1",
   "metadata": {},
   "outputs": [
    {
     "name": "stdout",
     "output_type": "stream",
     "text": [
      "          s^5            1            3            5\n",
      "          s^4            2            6            3\n",
      "          s^3    1.000e-12          7/2            0\n",
      "          s^2   -7.000e+12        3.000            0\n",
      "          s^1        3.500            0            0\n",
      "          s^0        3.000            0            0\n",
      "\n"
     ]
    }
   ],
   "source": [
    "print(routh_hurwitz(T.denominator_poly))"
   ]
  },
  {
   "cell_type": "markdown",
   "id": "560be953-55af-44c4-9951-4e34bc43fe78",
   "metadata": {},
   "source": [
    "There are two sign changes in the first column of the table, so the system is unstable with two poles in the right half-plane."
   ]
  },
  {
   "cell_type": "code",
   "execution_count": 9,
   "id": "ac481d37-752f-4941-a6dc-41ddac686c35",
   "metadata": {},
   "outputs": [
    {
     "data": {
      "text/plain": [
       "[(0.3428775611208433+1.5082901611666284j),\n",
       " (0.3428775611208433-1.5082901611666284j),\n",
       " (-1.6680888389741935+0j),\n",
       " (-0.5088331416337468+0.7019951317695378j),\n",
       " (-0.5088331416337468-0.7019951317695378j)]"
      ]
     },
     "execution_count": 9,
     "metadata": {},
     "output_type": "execute_result"
    }
   ],
   "source": [
    "T.poles"
   ]
  },
  {
   "cell_type": "code",
   "execution_count": 10,
   "id": "647ec102-a231-4ad1-9748-aef658f5eea0",
   "metadata": {},
   "outputs": [
    {
     "data": {
      "text/plain": [
       "False"
      ]
     },
     "execution_count": 10,
     "metadata": {},
     "output_type": "execute_result"
    }
   ],
   "source": [
    "T.is_stable"
   ]
  },
  {
   "cell_type": "code",
   "execution_count": 11,
   "id": "7462ac4a-0c03-4dc2-b01b-acb870e4ec8d",
   "metadata": {},
   "outputs": [
    {
     "data": {
      "image/png": "[encoded data removed]",
      "text/plain": [
       "<Figure size 640x480 with 1 Axes>"
      ]
     },
     "metadata": {},
     "output_type": "display_data"
    }
   ],
   "source": [
    "T.plot_unit_step_response()"
   ]
  },
  {
   "cell_type": "markdown",
   "id": "3bba2c32-7fc8-4c73-9711-c695407fda3e",
   "metadata": {},
   "source": [
    "### Example 6.4 : Stability via Routh Table with Row of Zeros"
   ]
  },
  {
   "cell_type": "markdown",
   "id": "e2ab146e-8c35-4a02-8b4c-b4b8ba5427e8",
   "metadata": {},
   "source": [
    "Determine the number of right-half-plane poles in the closed-loop transfer function:"
   ]
  },
  {
   "cell_type": "code",
   "execution_count": 12,
   "id": "6932c167-a969-458e-99a6-d9f34cc9e984",
   "metadata": {},
   "outputs": [
    {
     "data": {
      "text/latex": [
       "$\\displaystyle \\frac{10.0}{1.0 s^{5} + 7.0 s^{4} + 6.0 s^{3} + 42.0 s^{2} + 8.0 s + 56.0}$"
      ],
      "text/plain": [
       "10.0/(1.0*s**5 + 7.0*s**4 + 6.0*s**3 + 42.0*s**2 + 8.0*s + 56.0)"
      ]
     },
     "execution_count": 12,
     "metadata": {},
     "output_type": "execute_result"
    }
   ],
   "source": [
    "T = TransferFunction(10 / (s**5 + 7*s**4 + 6*s**3 + 42*s**2 + 8*s + 56))\n",
    "T.expr"
   ]
  },
  {
   "cell_type": "code",
   "execution_count": 13,
   "id": "15c8e996-2a4e-4bbc-8d4e-54a750139c4a",
   "metadata": {},
   "outputs": [
    {
     "name": "stdout",
     "output_type": "stream",
     "text": [
      "    s^5      1      6      8\n",
      "    s^4      7     42     56\n",
      "----------------------------\n",
      "    s^3     28     84      0\n",
      "    s^2     21     56      0\n",
      "    s^1   28/3      0      0\n",
      "    s^0     56      0      0\n",
      "\n"
     ]
    }
   ],
   "source": [
    "print(routh_hurwitz(T.denominator_poly))"
   ]
  },
  {
   "cell_type": "markdown",
   "id": "18be84ba-b5ea-4a53-8eea-e4c3e7eb24e5",
   "metadata": {},
   "source": [
    "All entries in the first column are positive. Hence, there are no right-half-plane poles."
   ]
  },
  {
   "cell_type": "code",
   "execution_count": 14,
   "id": "122cc513-7d9b-41f9-9482-d878b2c0e379",
   "metadata": {},
   "outputs": [
    {
     "data": {
      "text/plain": [
       "[(-7.000000000000027+0j),\n",
       " (1.9885241695693383e-16+2.0000000000000044j),\n",
       " (1.9885241695693383e-16-2.0000000000000044j),\n",
       " (-4.415131921437687e-17+1.414213562373093j),\n",
       " (-4.415131921437687e-17-1.414213562373093j)]"
      ]
     },
     "execution_count": 14,
     "metadata": {},
     "output_type": "execute_result"
    }
   ],
   "source": [
    "T.poles"
   ]
  },
  {
   "cell_type": "code",
   "execution_count": 15,
   "id": "b6e01c61-c3a8-4cf3-a146-2b5811fa77bf",
   "metadata": {},
   "outputs": [
    {
     "data": {
      "text/plain": [
       "False"
      ]
     },
     "execution_count": 15,
     "metadata": {},
     "output_type": "execute_result"
    }
   ],
   "source": [
    "T.is_stable"
   ]
  },
  {
   "cell_type": "code",
   "execution_count": 16,
   "id": "09b9babd-5703-4e62-88b5-5455e97ead9d",
   "metadata": {},
   "outputs": [
    {
     "data": {
      "image/png": "[encoded data removed]",
      "text/plain": [
       "<Figure size 640x480 with 1 Axes>"
      ]
     },
     "metadata": {},
     "output_type": "display_data"
    }
   ],
   "source": [
    "T.plot_unit_step_response()"
   ]
  },
  {
   "cell_type": "markdown",
   "id": "e51004b1-c765-4959-8f82-b2438b489ac6",
   "metadata": {},
   "source": [
    "### Example 6.9 : Stability Design via Routh-Hurwitz"
   ]
  },
  {
   "cell_type": "markdown",
   "id": "7827eb6a-5033-45be-a912-dfa6c5e2f686",
   "metadata": {},
   "source": [
    "Find the range of gain $K$ for the system that will cause the system to be stable, unstable, and marginally stable. Assume $K > 0$."
   ]
  },
  {
   "cell_type": "code",
   "execution_count": 17,
   "id": "d69bd143-e918-4965-b312-5f0073f700a9",
   "metadata": {},
   "outputs": [
    {
     "data": {
      "text/latex": [
       "$\\displaystyle \\frac{K}{K + s^{3} + 18 s^{2} + 77 s}$"
      ],
      "text/plain": [
       "K/(K + s**3 + 18*s**2 + 77*s)"
      ]
     },
     "execution_count": 17,
     "metadata": {},
     "output_type": "execute_result"
    }
   ],
   "source": [
    "G = TransferFunction(K / (s * (s + 7) * (s +11)))\n",
    "T = G.feedback(TransferFunction(1))\n",
    "T.expr"
   ]
  },
  {
   "cell_type": "code",
   "execution_count": 18,
   "id": "fbcc0084-c545-4f69-954d-f480e757529c",
   "metadata": {},
   "outputs": [
    {
     "name": "stdout",
     "output_type": "stream",
     "text": [
      "         s^3           1          77\n",
      "         s^2          18           K\n",
      "         s^1   77 - K/18           0\n",
      "         s^0           K           0\n",
      "\n"
     ]
    }
   ],
   "source": [
    "print(routh_hurwitz(T.denominator_poly))"
   ]
  },
  {
   "cell_type": "markdown",
   "id": "38b0a3d9-a265-4392-bf5c-6975cff94bac",
   "metadata": {},
   "source": [
    "The first column in row `s^1` can be positive, zero, or negative, depending on the value of $K$. If $K = 1386$, this entry will be zero. If $K < 1386$, all terms in the first column will be positive, and since there are no sign changes, the system will be stable. "
   ]
  },
  {
   "cell_type": "code",
   "execution_count": null,
   "id": "f314b17b-9db3-4874-bad2-4fa0042f5e13",
   "metadata": {},
   "outputs": [],
   "source": []
  }
 ],
 "metadata": {
  "kernelspec": {
   "display_name": "Python 3 (ipykernel)",
   "language": "python",
   "name": "python3"
  },
  "language_info": {
   "codemirror_mode": {
    "name": "ipython",
    "version": 3
   },
   "file_extension": ".py",
   "mimetype": "text/x-python",
   "name": "python",
   "nbconvert_exporter": "python",
   "pygments_lexer": "ipython3",
   "version": "3.11.10"
  }
 },
 "nbformat": 4,
 "nbformat_minor": 5
}
