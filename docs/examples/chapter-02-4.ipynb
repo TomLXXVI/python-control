{
 "cells": [
  {
   "cell_type": "markdown",
   "id": "25db7b65-c9a3-4beb-a7ea-6080d3e42d3e",
   "metadata": {},
   "source": [
    "# Chapter 2 : Modeling in the Frequency Domain (Part 3)\n",
    "---"
   ]
  },
  {
   "cell_type": "code",
   "execution_count": 1,
   "id": "bc3e8496-d961-4ae5-aa4c-41f67d676dcd",
   "metadata": {},
   "outputs": [],
   "source": [
    "import sys\n",
    "\n",
    "if (path := \"C:/Users/Tom/pycharm-projects/python-control\") not in sys.path:\n",
    "    sys.path.append(path)\n",
    "\n",
    "import sympy as sp\n",
    "from IPython.display import display\n",
    "\n",
    "from python_control import Quantity, s, TransferFunction\n",
    "\n",
    "from python_control.modeling.electrical import (\n",
    "    Resistor, DCMotor,\n",
    "    Mesh, Circuit\n",
    ")\n",
    "\n",
    "from python_control.modeling.mechanical import (\n",
    "    Inertia, TorsionDamper, \n",
    "    GearRatio,\n",
    "    Mass, Spring, Damper\n",
    ")\n",
    "\n",
    "Q_ = Quantity"
   ]
  },
  {
   "cell_type": "markdown",
   "id": "06b070f3-35b6-44ee-9024-0bafb9710f93",
   "metadata": {},
   "source": [
    "## 2.8 : Electromechanical System Transfer Functions"
   ]
  },
  {
   "cell_type": "markdown",
   "id": "7d07cea6-0e0b-4857-a916-9b1c6951bdf6",
   "metadata": {},
   "source": [
    "### Example 2.23 : Transfer Function - DC Motor and Load"
   ]
  },
  {
   "cell_type": "markdown",
   "id": "009eeed0-2fd2-4aae-b9e4-e32da4515faa",
   "metadata": {},
   "source": [
    "Given the dc-motor-gearbox-load system and the torque-speed curve of the dc-motor, find the transfer function $\\theta_L(s) / E_a(s)$ of this system.\n",
    "\n",
    "Motor specifications:\n",
    "- The armature (rotor) inertia of the motor: 5 kg.m²\n",
    "- The viscous damping coefficient of the rotor: 2 N.m.s/rad\n",
    "- Stall torque @ 100 V: 500 N.m\n",
    "- No-load speed @ 100 V: 50 rad/s\n",
    "\n",
    "Load specifications:\n",
    "- Gearbox ratio: 1:10\n",
    "- Load inertia: 700 kg.m²\n",
    "- Viscous damping coefficient: 800 N.m.s/rad "
   ]
  },
  {
   "cell_type": "markdown",
   "id": "4b55e7fe-269d-4a4b-8c5b-f6be7438c8c3",
   "metadata": {},
   "source": [
    "Note that the armature resistance $R_a$ has not been specified, and it cannot be determined directly from the torque-speed curve. However, this is not a real issue here, as it is actually only the ratio $K_t / R_a$ that we need to know to model the dc-motor and this ratio can be deduced from the given torque-speed curve: $K_t / R_a = T_{stall} / E_a$. In fact, we can replace (in our mind) the ratio $K_t / R_a$ by $K_t$ (as if we assume that $R_a$ = 1 $\\ohm$)."
   ]
  },
  {
   "cell_type": "markdown",
   "id": "79f6dc9d-df46-4397-bce6-bb1afa6ae267",
   "metadata": {},
   "source": [
    "First, we determine the overall mechanical impedance on the motor shaft. For this, we need to reflect the load impedances to the motor shaft."
   ]
  },
  {
   "cell_type": "code",
   "execution_count": 2,
   "id": "ca35cba9-ad02-4047-9263-df70f52ea710",
   "metadata": {},
   "outputs": [],
   "source": [
    "Z_Ja = Inertia(Q_(5, 'kg * m**2')).Z\n",
    "Z_Da = TorsionDamper(Q_(2, 'N * m * s / rad')).Z\n",
    "\n",
    "Z_Jl = Inertia(Q_(700, 'kg * m**2')).Z\n",
    "Z_Dl = TorsionDamper(Q_(800, 'N * m * s / rad')).Z\n",
    "\n",
    "gear_ratio = GearRatio(N_in=100, N_out=1000)\n",
    "\n",
    "Z_Jl_to_a = gear_ratio.reflect_to_input(Z_out=Z_Jl)\n",
    "Z_Dl_to_a = gear_ratio.reflect_to_input(Z_out=Z_Dl)\n",
    "\n",
    "Z_Jm = Z_Ja + Z_Jl_to_a\n",
    "Z_Dm = Z_Da + Z_Dl_to_a"
   ]
  },
  {
   "cell_type": "code",
   "execution_count": 3,
   "id": "dabd40fe-6ec1-4412-aec7-cf9c6e625ff1",
   "metadata": {},
   "outputs": [
    {
     "data": {
      "text/latex": [
       "$\\displaystyle 12.0 s^{2}$"
      ],
      "text/plain": [
       "12.0*s**2"
      ]
     },
     "execution_count": 3,
     "metadata": {},
     "output_type": "execute_result"
    }
   ],
   "source": [
    "Z_Jm.expr"
   ]
  },
  {
   "cell_type": "code",
   "execution_count": 4,
   "id": "daf0520a-b583-4e84-89ef-d97ef82e1de7",
   "metadata": {},
   "outputs": [
    {
     "data": {
      "text/latex": [
       "$\\displaystyle 10.0 s$"
      ],
      "text/plain": [
       "10.0*s"
      ]
     },
     "execution_count": 4,
     "metadata": {},
     "output_type": "execute_result"
    }
   ],
   "source": [
    "Z_Dm.expr"
   ]
  },
  {
   "cell_type": "markdown",
   "id": "9bb71829-c988-4f23-8536-e017d1cad19d",
   "metadata": {},
   "source": [
    "We determine the motor constants from the torque-speed curve:"
   ]
  },
  {
   "cell_type": "code",
   "execution_count": 5,
   "id": "52a6e7ef-e747-4151-ab3f-3f15d11a3c8e",
   "metadata": {},
   "outputs": [],
   "source": [
    "T_stall = Q_(500, 'N * m')\n",
    "E_a = Q_(100, 'V')\n",
    "omega_nl = Q_(50, 'rad/s')\n",
    "\n",
    "Kt = T_stall / E_a  # actually Kt / Ra\n",
    "Kb = E_a / omega_nl"
   ]
  },
  {
   "cell_type": "code",
   "execution_count": 6,
   "id": "2284914c-d355-4c34-b569-30e8743640e9",
   "metadata": {},
   "outputs": [
    {
     "data": {
      "text/html": [
       "5.0 meter newton/volt"
      ],
      "text/latex": [
       "$5.0\\ \\frac{\\mathrm{meter} \\cdot \\mathrm{newton}}{\\mathrm{volt}}$"
      ],
      "text/plain": [
       "<Quantity(5.0, 'newton * meter / volt')>"
      ]
     },
     "execution_count": 6,
     "metadata": {},
     "output_type": "execute_result"
    }
   ],
   "source": [
    "Kt"
   ]
  },
  {
   "cell_type": "code",
   "execution_count": 7,
   "id": "4c5bd1ea-238d-4b0c-a29e-bc18b70de51e",
   "metadata": {},
   "outputs": [
    {
     "data": {
      "text/html": [
       "2.0 second volt/radian"
      ],
      "text/latex": [
       "$2.0\\ \\frac{\\mathrm{second} \\cdot \\mathrm{volt}}{\\mathrm{radian}}$"
      ],
      "text/plain": [
       "<Quantity(2.0, 'volt * second / radian')>"
      ]
     },
     "execution_count": 7,
     "metadata": {},
     "output_type": "execute_result"
    }
   ],
   "source": [
    "Kb"
   ]
  },
  {
   "cell_type": "markdown",
   "id": "8db09075-6e3b-4d5d-b387-32fffa205fbd",
   "metadata": {},
   "source": [
    "Now, we can model the dc-motor with the attached load. For this, we use the `DCMotor` class. "
   ]
  },
  {
   "cell_type": "code",
   "execution_count": 8,
   "id": "ac5007f4-a9c7-436d-a33a-710ad2a5f410",
   "metadata": {},
   "outputs": [],
   "source": [
    "dc_motor = DCMotor(\n",
    "    Z_Ra=Resistor(Q_(1, 'ohm')).Z,  # see our assumption above\n",
    "    Z_Jm=Z_Jm,\n",
    "    Z_Dm=Z_Dm,\n",
    "    Kb=Kb,\n",
    "    Kt=Kt\n",
    ")"
   ]
  },
  {
   "cell_type": "markdown",
   "id": "a9d955ce-5ba6-473d-a2f5-39136e0d679b",
   "metadata": {},
   "source": [
    "To get at the transfer function we are looking for, we first call the method `trf_fun_angle_voltage` on our `dc_motor` instance. This will return us the transfer function $\\theta_m(s) / E_a(s)$, with $\\theta_m$ the rotation angle of the motor shaft. However, we want the transfer function $\\theta_L(s) / E_a(s)$, with $\\theta_L$ the rotation angle of the gearbox output shaft."
   ]
  },
  {
   "cell_type": "code",
   "execution_count": 9,
   "id": "bc7f93bb-643e-4835-94c9-ccc92259e20f",
   "metadata": {},
   "outputs": [
    {
     "data": {
      "text/latex": [
       "$\\displaystyle \\frac{0.416666666666667}{1.0 s^{2} + 1.66666666666667 s}$"
      ],
      "text/plain": [
       "0.416666666666667/(1.0*s**2 + 1.66666666666667*s)"
      ]
     },
     "execution_count": 9,
     "metadata": {},
     "output_type": "execute_result"
    }
   ],
   "source": [
    "G = dc_motor.trf_fun_angle_voltage()\n",
    "G.expr"
   ]
  },
  {
   "cell_type": "markdown",
   "id": "3417b8d4-d1ed-4072-9d3d-f7f7eb62f4a3",
   "metadata": {},
   "source": [
    "To get at the desired transfer function, we need to multiply `G` with the angle ratio of the gearbox $\\theta_2 / \\theta_1 = N_1 / N_2$."
   ]
  },
  {
   "cell_type": "code",
   "execution_count": 10,
   "id": "4a691a2d-cc3b-4acf-9282-6f65626b23f5",
   "metadata": {},
   "outputs": [
    {
     "data": {
      "text/latex": [
       "$\\displaystyle \\frac{0.0416666666666667}{1.0 s^{2} + 1.66666666666667 s}$"
      ],
      "text/plain": [
       "0.0416666666666667/(1.0*s**2 + 1.66666666666667*s)"
      ]
     },
     "execution_count": 10,
     "metadata": {},
     "output_type": "execute_result"
    }
   ],
   "source": [
    "G = G * gear_ratio.angle_ratio\n",
    "G.expr"
   ]
  },
  {
   "cell_type": "markdown",
   "id": "cd8bbfaa-51d1-45af-a65a-2ac42b156316",
   "metadata": {},
   "source": [
    "## 2.9 : Electric Circuit Analogs"
   ]
  },
  {
   "cell_type": "markdown",
   "id": "255a19d9-3d05-48a3-89e9-f3a7bdf20602",
   "metadata": {},
   "source": [
    "### Example 2.24 : Converting a Mechanical System to a Series Analog"
   ]
  },
  {
   "cell_type": "markdown",
   "id": "ea96b88a-29f3-4e56-9d67-b7565dbe1d5b",
   "metadata": {},
   "source": [
    "Repeat example 2.17 using mesh analysis from electrical network theory.\n",
    "\n",
    "![two-degrees-of-freedom translational mechanical system](./images/example_2-17.png)"
   ]
  },
  {
   "cell_type": "markdown",
   "id": "b48b3aee-5f83-4edf-8764-a265bf636aa2",
   "metadata": {},
   "source": [
    "**Rules**\n",
    "- Impedances connected with a mass form a mesh or loop, where impedances between two masses are common to the two loops.\n",
    "- The mass velocity in the mechanical system is analog to current in the corresponding mesh of the electrical network.\n",
    "- An external force applied to a mass in the mechanical system is analog to a voltage source in the corresponding mesh of the electrical network.\n",
    "- A mechanical spring is analog to a electrical capacitor with $C = 1/K$.\n",
    "- A mechanical mass is analog to an electrical inductor with $L = M$.\n",
    "- A mechanical damper is analog to an electrical resistor with $R = D$."
   ]
  },
  {
   "cell_type": "markdown",
   "id": "90268541-1c6e-44fc-957d-eee63e7b3fc8",
   "metadata": {},
   "source": [
    "The two-degree-of-freedom translational mechanical system has two masses which can move independently from each other. Mass $M_1$ has velocity $v_1(t)$, which is analog to a mesh current in loop 1. Mass $M_2$ has velocity $v_2(t)$, which is analog to a mesh current in loop 2. The force $f(t)$, applied to mass $M_1$, is analog to a voltage source in loop 1.\n",
    "\n",
    "![series analog of mechanical system](./images/example_2-24.png)\n",
    "\n",
    "Although we could represent all the mechanical components in the system by their electrical counterparts, this is not necessary when performing a mesh analysis using classes `Mesh` and `Circuit`. When, instead of an electrical component, a mechanical component is added to a mesh, its \"velocity impedance\" $F(s) / V(s)$ will be considered instead of its conventional \"displacement impedance\" $F(s) / X(s)$."
   ]
  },
  {
   "cell_type": "code",
   "execution_count": 11,
   "id": "b0f228d0-6d53-443b-b8e7-adefa4815a70",
   "metadata": {},
   "outputs": [],
   "source": [
    "F = sp.Symbol('F')\n",
    "\n",
    "K1 = Spring('K1')\n",
    "M1 = Mass('M1')\n",
    "D1 = Damper('f_v1')\n",
    "D3 = Damper('f_v3')\n",
    "K2 = Spring('K2')\n",
    "D2 = Damper('f_v2')\n",
    "M2 = Mass('M2')\n",
    "K3 = Spring('K3')\n",
    "\n",
    "mesh1 = Mesh('1')\n",
    "mesh1.add_voltage_source(F)\n",
    "mesh1.add_component(K1)\n",
    "mesh1.add_component(M1)\n",
    "mesh1.add_component(D1)\n",
    "mesh1.add_component(D3)\n",
    "mesh1.add_component(K2)\n",
    "\n",
    "mesh2 = Mesh('2')\n",
    "mesh2.add_component(D3)\n",
    "mesh2.add_component(K2)\n",
    "mesh2.add_component(M2)\n",
    "mesh2.add_component(D2)\n",
    "mesh2.add_component(K3)\n",
    "\n",
    "circuit = Circuit()\n",
    "circuit.add_mesh(mesh1)\n",
    "circuit.add_mesh(mesh2)\n",
    "\n",
    "sol = circuit.solve()"
   ]
  },
  {
   "cell_type": "code",
   "execution_count": 12,
   "id": "20db7122-23fe-4011-843a-95a24acb212d",
   "metadata": {},
   "outputs": [
    {
     "data": {
      "text/latex": [
       "$\\displaystyle V_{1} \\left(\\frac{1.0 K_{1}}{s} + \\frac{1.0 K_{2}}{s} + 1.0 M_{1} s + 1.0 f_{v1} + 1.0 f_{v3}\\right) + V_{2} \\left(- \\frac{1.0 K_{2}}{s} - 1.0 f_{v3}\\right) = F$"
      ],
      "text/plain": [
       "Eq(V_1*(1.0*K1/s + 1.0*K2/s + 1.0*M1*s + 1.0*f_v1 + 1.0*f_v3) + V_2*(-1.0*K2/s - 1.0*f_v3), F)"
      ]
     },
     "metadata": {},
     "output_type": "display_data"
    },
    {
     "data": {
      "text/latex": [
       "$\\displaystyle V_{1} \\left(- \\frac{1.0 K_{2}}{s} - 1.0 f_{v3}\\right) + V_{2} \\left(\\frac{1.0 K_{2}}{s} + \\frac{1.0 K_{3}}{s} + 1.0 M_{2} s + 1.0 f_{v2} + 1.0 f_{v3}\\right) = 0$"
      ],
      "text/plain": [
       "Eq(V_1*(-1.0*K2/s - 1.0*f_v3) + V_2*(1.0*K2/s + 1.0*K3/s + 1.0*M2*s + 1.0*f_v2 + 1.0*f_v3), 0)"
      ]
     },
     "metadata": {},
     "output_type": "display_data"
    }
   ],
   "source": [
    "for eq in circuit.equations:\n",
    "    display(eq)"
   ]
  },
  {
   "cell_type": "markdown",
   "id": "81a9abb4-ddc0-49eb-8320-d8dffad3e8e5",
   "metadata": {},
   "source": [
    "These equations now relate the velocities of masses $M_1$ and $M_2$ to the external forces, instead of their displacements. In example 2.17 the transfer function $X_2(s) / F(s)$ for the system is asked. We can get at the transfer function $G(s) = V_2(s) / F(s)$ from the solution of the circuit. As $V(s) = s \\cdot X(s)$, we can finally arrive at the desired transfer function $X_2(s) / F(s)$ by multiplying $G(s)$ with $1/s$."
   ]
  },
  {
   "cell_type": "code",
   "execution_count": 13,
   "id": "eba19212-a9c7-4cd0-87d6-75412d65a8eb",
   "metadata": {},
   "outputs": [
    {
     "data": {
      "text/latex": [
       "$\\displaystyle \\frac{\\frac{K_{2}}{M_{1} M_{2}} + \\frac{f_{v3} s}{M_{1} M_{2}}}{s^{4} + \\frac{s^{3} \\left(M_{1} f_{v2} + M_{1} f_{v3} + M_{2} f_{v1} + M_{2} f_{v3}\\right)}{M_{1} M_{2}} + \\frac{s^{2} \\left(K_{1} M_{2} + K_{2} M_{1} + K_{2} M_{2} + K_{3} M_{1} + f_{v1} f_{v2} + f_{v1} f_{v3} + f_{v2} f_{v3}\\right)}{M_{1} M_{2}} + \\frac{s \\left(K_{1} f_{v2} + K_{1} f_{v3} + K_{2} f_{v1} + K_{2} f_{v2} + K_{3} f_{v1} + K_{3} f_{v3}\\right)}{M_{1} M_{2}} + \\frac{K_{1} K_{2} + K_{1} K_{3} + K_{2} K_{3}}{M_{1} M_{2}}}$"
      ],
      "text/plain": [
       "(K2/(M1*M2) + f_v3*s/(M1*M2))/(s**4 + s**3*(M1*f_v2 + M1*f_v3 + M2*f_v1 + M2*f_v3)/(M1*M2) + s**2*(K1*M2 + K2*M1 + K2*M2 + K3*M1 + f_v1*f_v2 + f_v1*f_v3 + f_v2*f_v3)/(M1*M2) + s*(K1*f_v2 + K1*f_v3 + K2*f_v1 + K2*f_v2 + K3*f_v1 + K3*f_v3)/(M1*M2) + (K1*K2 + K1*K3 + K2*K3)/(M1*M2))"
      ]
     },
     "execution_count": 13,
     "metadata": {},
     "output_type": "execute_result"
    }
   ],
   "source": [
    "V2 = sol[mesh2.current]\n",
    "F = mesh1.voltage_sources[0]\n",
    "G = TransferFunction(V2 / F) * (1 / s)\n",
    "G.expr"
   ]
  },
  {
   "cell_type": "code",
   "execution_count": null,
   "id": "ea27b366-5e3a-42cd-9d66-ba268f622be2",
   "metadata": {},
   "outputs": [],
   "source": []
  }
 ],
 "metadata": {
  "kernelspec": {
   "display_name": "Python 3 (ipykernel)",
   "language": "python",
   "name": "python3"
  },
  "language_info": {
   "codemirror_mode": {
    "name": "ipython",
    "version": 3
   },
   "file_extension": ".py",
   "mimetype": "text/x-python",
   "name": "python",
   "nbconvert_exporter": "python",
   "pygments_lexer": "ipython3",
   "version": "3.11.10"
  }
 },
 "nbformat": 4,
 "nbformat_minor": 5
}
