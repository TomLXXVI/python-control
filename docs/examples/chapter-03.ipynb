{
 "cells": [
  {
   "cell_type": "markdown",
   "id": "aa33ddce-d5e2-4328-9559-1ae249ee6f23",
   "metadata": {},
   "source": [
    "# Chapter 3 : Modeling in the Time Domain\n",
    "---"
   ]
  },
  {
   "cell_type": "code",
   "execution_count": 1,
   "id": "40d52eb1-4e79-437b-999a-a3ff04d1b5bb",
   "metadata": {},
   "outputs": [],
   "source": [
    "import sys\n",
    "\n",
    "if (path := \"C:/Users/Tom/pycharm-projects/python-control\") not in sys.path:\n",
    "    sys.path.append(path)\n",
    "\n",
    "import numpy as np\n",
    "\n",
    "from python_control import TransferFunction, StateSpace"
   ]
  },
  {
   "cell_type": "markdown",
   "id": "e24a7642-6aed-4162-9174-355076e80e4e",
   "metadata": {},
   "source": [
    "## 3.5 : Converting a Transfer Function to State Space"
   ]
  },
  {
   "cell_type": "markdown",
   "id": "61738799-c12c-41ad-8cd0-2692d7574924",
   "metadata": {},
   "source": [
    "### Example 3.4 : Converting a Transfer Function with a Constant Term in the Numerator"
   ]
  },
  {
   "cell_type": "markdown",
   "id": "1e891a68-f57e-40f1-b4a7-33e5ff8cf5bf",
   "metadata": {},
   "source": [
    "Find the state space representation in phase-variable form for the transfer function:\n",
    "$$\\frac{{C\\left( s \\right)}}{{R\\left( s \\right)}} = \\frac{{24}}{{{s^3} + 9{s^2} + 26s + 24}}$$"
   ]
  },
  {
   "cell_type": "code",
   "execution_count": 2,
   "id": "f2ad319c-2e09-4679-8ce4-9b8c9599b7a5",
   "metadata": {},
   "outputs": [
    {
     "data": {
      "text/latex": [
       "$\\displaystyle \\frac{24.0}{1.0 s^{3} + 9.0 s^{2} + 26.0 s + 24.0}$"
      ],
      "text/plain": [
       "24.0/(1.0*s**3 + 9.0*s**2 + 26.0*s + 24.0)"
      ]
     },
     "execution_count": 2,
     "metadata": {},
     "output_type": "execute_result"
    }
   ],
   "source": [
    "G = TransferFunction.from_coefficients(num=[24], den=[1, 9, 26, 24])\n",
    "G.expr"
   ]
  },
  {
   "cell_type": "markdown",
   "id": "9ac0756a-8d47-461d-ab88-48bf9714f205",
   "metadata": {},
   "source": [
    "Convert transfer function to state space:"
   ]
  },
  {
   "cell_type": "code",
   "execution_count": 3,
   "id": "f6683aff-4f1b-4c5b-8cca-a9110203c153",
   "metadata": {},
   "outputs": [],
   "source": [
    "ss = StateSpace.from_transfer_function(G)\n",
    "ss = ss.transform('controller')"
   ]
  },
  {
   "cell_type": "markdown",
   "id": "25f5c2d9-a3c8-4a73-8ee1-e3698438b991",
   "metadata": {},
   "source": [
    "> **Note**<br>\n",
    "A state space representation can take multiple forms. `StateSpace.from_transfer_function()` returns the default state space representation form it gets from the function `control.tf2ss` (see [Python Control Systems Library](https://python-control.readthedocs.io/)). To transform a state space representation from one form into another, the function `transform` of the `StateSpace` object can be called, specifying the desired form. The possible forms are mentioned in the docstring of this function. However, the phase-variable form is not supported. Here, the state space representation is transformed into the *controller canonical form*, which looks likes the *phase-variable form*; only the ordering of the state variables is reversed."
   ]
  },
  {
   "cell_type": "markdown",
   "id": "6c3661f1-78e1-4ae8-b731-30915e89752c",
   "metadata": {},
   "source": [
    "**System matrix** ${\\bf{A}}$"
   ]
  },
  {
   "cell_type": "code",
   "execution_count": 4,
   "id": "da0a578a-e8c3-43d4-91c8-07cf96433be5",
   "metadata": {},
   "outputs": [
    {
     "data": {
      "text/plain": [
       "array([[ -9., -26., -24.],\n",
       "       [  1.,   0.,   0.],\n",
       "       [  0.,   1.,   0.]])"
      ]
     },
     "execution_count": 4,
     "metadata": {},
     "output_type": "execute_result"
    }
   ],
   "source": [
    "ss.A"
   ]
  },
  {
   "cell_type": "markdown",
   "id": "ba29b1c8-60b2-40ae-8348-4e57e8fb03b8",
   "metadata": {},
   "source": [
    "**Input matrix** ${\\bf{B}}$"
   ]
  },
  {
   "cell_type": "code",
   "execution_count": 5,
   "id": "a588818b-9419-4927-a45f-93ce92218a52",
   "metadata": {},
   "outputs": [
    {
     "data": {
      "text/plain": [
       "array([[1.],\n",
       "       [0.],\n",
       "       [0.]])"
      ]
     },
     "execution_count": 5,
     "metadata": {},
     "output_type": "execute_result"
    }
   ],
   "source": [
    "ss.B"
   ]
  },
  {
   "cell_type": "markdown",
   "id": "7f4c9a48-de24-4ceb-8270-898e25eb6816",
   "metadata": {},
   "source": [
    "**Output Matrix** ${\\bf{C}}$"
   ]
  },
  {
   "cell_type": "code",
   "execution_count": 6,
   "id": "c75ba4c8-f35e-41b8-87a6-51e180d320de",
   "metadata": {},
   "outputs": [
    {
     "data": {
      "text/plain": [
       "array([[ 0.,  0., 24.]])"
      ]
     },
     "execution_count": 6,
     "metadata": {},
     "output_type": "execute_result"
    }
   ],
   "source": [
    "ss.C"
   ]
  },
  {
   "cell_type": "markdown",
   "id": "00cbdb92-be81-44e5-83c0-2e39fe353590",
   "metadata": {},
   "source": [
    "**Feedforward matrix** ${\\bf{D}}$"
   ]
  },
  {
   "cell_type": "code",
   "execution_count": 7,
   "id": "68d8fd9d-488e-4ad0-b39f-5283de4b274f",
   "metadata": {},
   "outputs": [
    {
     "data": {
      "text/plain": [
       "array([[0.]])"
      ]
     },
     "execution_count": 7,
     "metadata": {},
     "output_type": "execute_result"
    }
   ],
   "source": [
    "ss.D"
   ]
  },
  {
   "cell_type": "markdown",
   "id": "a7cb686e-bbb6-450a-baa1-defb5a302a90",
   "metadata": {},
   "source": [
    "### Example 3.5 : Converting a Transfer Function with a Polynomial in the Numerator"
   ]
  },
  {
   "cell_type": "markdown",
   "id": "c00da8d3-45b8-4d54-88dd-8821d3b03b46",
   "metadata": {},
   "source": [
    "Find the state-space representation of the transfer function:\n",
    "$$\\frac{{C\\left( s \\right)}}{{R\\left( s \\right)}} = \\frac{{{s^2} + 7s + 2}}{{{s^3} + 9{s^2} + 26s + 24}}$$"
   ]
  },
  {
   "cell_type": "code",
   "execution_count": 8,
   "id": "fa78dee9-eb7f-453a-a65b-440a961c8d2b",
   "metadata": {},
   "outputs": [
    {
     "data": {
      "text/latex": [
       "$\\displaystyle \\frac{1.0 s^{2} + 7.0 s + 2.0}{1.0 s^{3} + 9.0 s^{2} + 26.0 s + 24.0}$"
      ],
      "text/plain": [
       "(1.0*s**2 + 7.0*s + 2.0)/(1.0*s**3 + 9.0*s**2 + 26.0*s + 24.0)"
      ]
     },
     "execution_count": 8,
     "metadata": {},
     "output_type": "execute_result"
    }
   ],
   "source": [
    "G = TransferFunction.from_coefficients(num=[1, 7, 2], den=[1, 9, 26, 24])\n",
    "G.expr"
   ]
  },
  {
   "cell_type": "markdown",
   "id": "ae11960b-d766-4b0f-bc96-43e224762079",
   "metadata": {},
   "source": [
    "Convert transfer function to state space:"
   ]
  },
  {
   "cell_type": "code",
   "execution_count": 9,
   "id": "5073ab5c-5297-45e3-9524-a129f5482e8b",
   "metadata": {},
   "outputs": [],
   "source": [
    "ss = StateSpace.from_transfer_function(G)\n",
    "ss = ss.transform('controller')"
   ]
  },
  {
   "cell_type": "markdown",
   "id": "4767c92f-226c-41e6-bb4f-8e7ebc15e60e",
   "metadata": {},
   "source": [
    "**System matrix** ${\\bf{A}}$"
   ]
  },
  {
   "cell_type": "code",
   "execution_count": 10,
   "id": "8c9be629-512e-4d42-b904-a6f6a9462a15",
   "metadata": {},
   "outputs": [
    {
     "data": {
      "text/plain": [
       "array([[ -9., -26., -24.],\n",
       "       [  1.,   0.,   0.],\n",
       "       [  0.,   1.,   0.]])"
      ]
     },
     "execution_count": 10,
     "metadata": {},
     "output_type": "execute_result"
    }
   ],
   "source": [
    "ss.A"
   ]
  },
  {
   "cell_type": "markdown",
   "id": "e1702f11-7a6b-4716-8333-f5ce503b382c",
   "metadata": {},
   "source": [
    "**Input matrix** ${\\bf{B}}$"
   ]
  },
  {
   "cell_type": "code",
   "execution_count": 11,
   "id": "9db3ea75-a087-474b-b129-d75c6f464ac4",
   "metadata": {},
   "outputs": [
    {
     "data": {
      "text/plain": [
       "array([[1.],\n",
       "       [0.],\n",
       "       [0.]])"
      ]
     },
     "execution_count": 11,
     "metadata": {},
     "output_type": "execute_result"
    }
   ],
   "source": [
    "ss.B"
   ]
  },
  {
   "cell_type": "markdown",
   "id": "f114db96-3d10-4461-8cdc-8beb3647c516",
   "metadata": {},
   "source": [
    "**Output Matrix** ${\\bf{C}}$"
   ]
  },
  {
   "cell_type": "code",
   "execution_count": 12,
   "id": "61293f89-94af-4609-8ef7-26a67d339b85",
   "metadata": {},
   "outputs": [
    {
     "data": {
      "text/plain": [
       "array([[1., 7., 2.]])"
      ]
     },
     "execution_count": 12,
     "metadata": {},
     "output_type": "execute_result"
    }
   ],
   "source": [
    "ss.C"
   ]
  },
  {
   "cell_type": "markdown",
   "id": "9f5fb95d-a657-4e29-8b6e-0de4a1655e98",
   "metadata": {},
   "source": [
    "**Feedforward matrix** ${\\bf{D}}$"
   ]
  },
  {
   "cell_type": "code",
   "execution_count": 13,
   "id": "8cdeb869-6535-4548-a1f9-8985150c0c0b",
   "metadata": {},
   "outputs": [
    {
     "data": {
      "text/plain": [
       "array([[0.]])"
      ]
     },
     "execution_count": 13,
     "metadata": {},
     "output_type": "execute_result"
    }
   ],
   "source": [
    "ss.D"
   ]
  },
  {
   "cell_type": "markdown",
   "id": "e15689de-eadc-4f1f-a73a-431b36bc28ea",
   "metadata": {},
   "source": [
    "## 3.6 : Converting from State Space to a Transfer Function"
   ]
  },
  {
   "cell_type": "markdown",
   "id": "3b4c453b-fc0c-42c8-bae6-2d65e989d1a1",
   "metadata": {},
   "source": [
    "### Example 3.6 : State-Space Representation to Transfer Function"
   ]
  },
  {
   "cell_type": "markdown",
   "id": "633978a5-8f48-4971-8ab7-5cce86d31057",
   "metadata": {},
   "source": [
    "Find the transfer function $T(s) = Y(s) / U(s)$, given the system defined by:\n",
    "$$\n",
    "{\\bf{\\dot x}} = \\left[ {\\begin{array}{*{20}{c}}\n",
    "0&1&0\\\\\n",
    "0&0&1\\\\\n",
    "{ - 1}&{ - 2}&{ - 3}\n",
    "\\end{array}} \\right] \\cdot {\\bf{x}} + \\left[ {\\begin{array}{*{20}{c}}\n",
    "{10}\\\\\n",
    "0\\\\\n",
    "0\n",
    "\\end{array}} \\right] \\cdot u\n",
    "$$\n",
    "\n",
    "$$\n",
    "y = \\left[ {\\begin{array}{*{20}{c}}\n",
    "1&0&0\n",
    "\\end{array}} \\right] \\cdot {\\bf{x}}\n",
    "$$"
   ]
  },
  {
   "cell_type": "markdown",
   "id": "7e7c4628-a1dc-421e-8898-2b333919a1e6",
   "metadata": {},
   "source": [
    "**System matrix** ${\\bf{A}}$"
   ]
  },
  {
   "cell_type": "code",
   "execution_count": 14,
   "id": "422383f4-bb7a-4c99-b7d8-3ff91f07e7b3",
   "metadata": {},
   "outputs": [],
   "source": [
    "A = np.array([\n",
    "    [0, 1, 0],\n",
    "    [0, 0, 1],\n",
    "    [-1, -2, -3]\n",
    "])"
   ]
  },
  {
   "cell_type": "markdown",
   "id": "0f285e4c-fd41-47a1-8c35-c8375bd7b685",
   "metadata": {},
   "source": [
    "**Input matrix** ${\\bf{B}}$"
   ]
  },
  {
   "cell_type": "code",
   "execution_count": 15,
   "id": "e17b498f-4344-4a52-bf5d-60f1da1e6321",
   "metadata": {},
   "outputs": [],
   "source": [
    "B = np.array([\n",
    "    [10],\n",
    "    [0],\n",
    "    [0]\n",
    "])"
   ]
  },
  {
   "cell_type": "markdown",
   "id": "850aadc1-9692-4970-8d2d-aa66938a4ed5",
   "metadata": {},
   "source": [
    "**Output Matrix** ${\\bf{C}}$"
   ]
  },
  {
   "cell_type": "code",
   "execution_count": 16,
   "id": "416012a6-c304-4596-a135-1f47d3929f7b",
   "metadata": {},
   "outputs": [],
   "source": [
    "C = np.array([[1, 0, 0]])"
   ]
  },
  {
   "cell_type": "markdown",
   "id": "038325d4-de6a-40ce-8cfa-c684bd1591be",
   "metadata": {},
   "source": [
    "Create `StateSpace` object:"
   ]
  },
  {
   "cell_type": "code",
   "execution_count": 17,
   "id": "675de471-e341-4c1f-957c-21b9aa9163b8",
   "metadata": {},
   "outputs": [],
   "source": [
    "ss = StateSpace(A, B, C)"
   ]
  },
  {
   "cell_type": "markdown",
   "id": "c0ff3162-4b0f-4108-aa19-80d0ebf3cd30",
   "metadata": {},
   "source": [
    "Convert state space to transfer function:"
   ]
  },
  {
   "cell_type": "code",
   "execution_count": 18,
   "id": "74d7f50f-7a9f-49a7-994a-71884b8af374",
   "metadata": {},
   "outputs": [
    {
     "data": {
      "text/latex": [
       "$\\displaystyle \\frac{10.0 s^{2} + 30.0 s + 20.0}{1.0 s^{3} + 3.0 s^{2} + 2.0 s + 1.0}$"
      ],
      "text/plain": [
       "(10.0*s**2 + 30.0*s + 20.0)/(1.0*s**3 + 3.0*s**2 + 2.0*s + 1.0)"
      ]
     },
     "execution_count": 18,
     "metadata": {},
     "output_type": "execute_result"
    }
   ],
   "source": [
    "G = TransferFunction.from_state_space(ss)\n",
    "G.expr"
   ]
  },
  {
   "cell_type": "code",
   "execution_count": null,
   "id": "3dcfec86-d97c-4822-9607-5b76173dfff7",
   "metadata": {},
   "outputs": [],
   "source": []
  }
 ],
 "metadata": {
  "kernelspec": {
   "display_name": "Python 3 (ipykernel)",
   "language": "python",
   "name": "python3"
  },
  "language_info": {
   "codemirror_mode": {
    "name": "ipython",
    "version": 3
   },
   "file_extension": ".py",
   "mimetype": "text/x-python",
   "name": "python",
   "nbconvert_exporter": "python",
   "pygments_lexer": "ipython3",
   "version": "3.11.10"
  }
 },
 "nbformat": 4,
 "nbformat_minor": 5
}
