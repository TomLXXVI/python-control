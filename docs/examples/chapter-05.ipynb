{
 "cells": [
  {
   "cell_type": "markdown",
   "id": "3c0602de-7d8e-4b8f-b2ad-bc2bd5647335",
   "metadata": {},
   "source": [
    "# Chapter 5 : Reduction of Multiple Subsystems\n",
    "---"
   ]
  },
  {
   "cell_type": "code",
   "execution_count": 1,
   "id": "0714cd91-8a2f-4dca-a9fc-e53ee67732e0",
   "metadata": {},
   "outputs": [],
   "source": [
    "import sys\n",
    "\n",
    "if (path := \"C:/Users/Tom/pycharm-projects/python-control\") not in sys.path:\n",
    "    sys.path.append(path)\n",
    "\n",
    "import sympy as sp\n",
    "\n",
    "from python_control import s, TransferFunction, SecondOrderSystem, SignalFlowGraph"
   ]
  },
  {
   "cell_type": "markdown",
   "id": "0db86f4e-9748-4d6f-be8c-c94182f12485",
   "metadata": {},
   "source": [
    "## 5.2 : Block Diagrams"
   ]
  },
  {
   "cell_type": "markdown",
   "id": "cd339eb2-1b7e-49ab-b921-c988d32e4f94",
   "metadata": {},
   "source": [
    "### Example 1 from Appendix B (ch5apB1.m)"
   ]
  },
  {
   "cell_type": "markdown",
   "id": "42037999-0565-4b1e-8c62-4afcf06cecca",
   "metadata": {},
   "source": [
    "Find the total transfer function of the pitch control system for the UFSS (Unmanned Free-Swimming Submersible Vehicle).\n",
    "\n",
    "![pitch control system](./images/pitch_control_system.png)"
   ]
  },
  {
   "cell_type": "code",
   "execution_count": 2,
   "id": "4743d76a-c280-4214-ab77-3d498799c1ef",
   "metadata": {},
   "outputs": [],
   "source": [
    "K1 = K2 = 1"
   ]
  },
  {
   "cell_type": "markdown",
   "id": "d6c1a1a6-b78e-4fa7-9cb8-f2b2d8507b53",
   "metadata": {},
   "source": [
    "**Solution via algebraic operations**"
   ]
  },
  {
   "cell_type": "markdown",
   "id": "c1548243-9a0c-474a-ab06-777adc97b2c3",
   "metadata": {},
   "source": [
    "Pitch gain"
   ]
  },
  {
   "cell_type": "code",
   "execution_count": 3,
   "id": "6094ca38-91b4-4f06-8130-1897bf0ab590",
   "metadata": {},
   "outputs": [
    {
     "data": {
      "text/latex": [
       "$\\displaystyle -1.0$"
      ],
      "text/plain": [
       "-1.00000000000000"
      ]
     },
     "execution_count": 3,
     "metadata": {},
     "output_type": "execute_result"
    }
   ],
   "source": [
    "G1 = TransferFunction(-K1)\n",
    "G1.expr"
   ]
  },
  {
   "cell_type": "markdown",
   "id": "706c7460-421e-49e4-bbc0-78614d577188",
   "metadata": {},
   "source": [
    "Elevator actuator"
   ]
  },
  {
   "cell_type": "code",
   "execution_count": 4,
   "id": "57acbc23-c2a7-4b8d-9c99-e884a1746390",
   "metadata": {},
   "outputs": [
    {
     "data": {
      "text/latex": [
       "$\\displaystyle \\frac{2.0}{1.0 s + 2.0}$"
      ],
      "text/plain": [
       "2.0/(1.0*s + 2.0)"
      ]
     },
     "execution_count": 4,
     "metadata": {},
     "output_type": "execute_result"
    }
   ],
   "source": [
    "G2 = TransferFunction.from_coefficients(num=[2], den=[1, 2])\n",
    "G2.expr"
   ]
  },
  {
   "cell_type": "markdown",
   "id": "395984c3-8562-403f-a3b0-8fc91463721d",
   "metadata": {},
   "source": [
    "Vehicle dynamics"
   ]
  },
  {
   "cell_type": "code",
   "execution_count": 5,
   "id": "08aa2646-4ab4-4c48-8951-d7c93657dc85",
   "metadata": {},
   "outputs": [
    {
     "data": {
      "text/latex": [
       "$\\displaystyle \\frac{- 0.125 s - 0.054375}{1.0 s^{3} + 1.456 s^{2} + 0.29488 s + 0.020787}$"
      ],
      "text/plain": [
       "(-0.125*s - 0.054375)/(1.0*s**3 + 1.456*s**2 + 0.29488*s + 0.020787)"
      ]
     },
     "execution_count": 5,
     "metadata": {},
     "output_type": "execute_result"
    }
   ],
   "source": [
    "G3 = TransferFunction(-0.125 * (s + 0.435) / ((s + 1.23) * (s**2 + 0.226 * s + 0.0169)))\n",
    "G3.expr"
   ]
  },
  {
   "cell_type": "markdown",
   "id": "f3aa541c-a11e-43df-bb66-f130e74f732c",
   "metadata": {},
   "source": [
    "Pitch rate sensor"
   ]
  },
  {
   "cell_type": "code",
   "execution_count": 6,
   "id": "5f329ce9-b94b-41bf-bf0e-5c44d4f30799",
   "metadata": {},
   "outputs": [
    {
     "data": {
      "text/latex": [
       "$\\displaystyle - 1.0 s$"
      ],
      "text/plain": [
       "-1.0*s"
      ]
     },
     "execution_count": 6,
     "metadata": {},
     "output_type": "execute_result"
    }
   ],
   "source": [
    "H1 = TransferFunction(-K2 * s)\n",
    "H1.expr"
   ]
  },
  {
   "cell_type": "markdown",
   "id": "51443165-bf89-4c5d-af70-fb8f852673f5",
   "metadata": {},
   "source": [
    "Block diagram reduction:"
   ]
  },
  {
   "cell_type": "code",
   "execution_count": 7,
   "id": "96199716-6d41-48ce-b0cb-246a767da56a",
   "metadata": {},
   "outputs": [
    {
     "data": {
      "text/latex": [
       "$\\displaystyle \\frac{0.25 s + 0.10875}{1.0 s^{4} + 3.456 s^{3} + 3.45688 s^{2} + 0.719297 s + 0.041574}$"
      ],
      "text/plain": [
       "(0.25*s + 0.10875)/(1.0*s**4 + 3.456*s**3 + 3.45688*s**2 + 0.719297*s + 0.041574)"
      ]
     },
     "execution_count": 7,
     "metadata": {},
     "output_type": "execute_result"
    }
   ],
   "source": [
    "G4 = G2 * G3\n",
    "G5 = G4.feedback(H1)\n",
    "Ge = G1 * G5\n",
    "Ge.expr"
   ]
  },
  {
   "cell_type": "code",
   "execution_count": 8,
   "id": "a7066f93-47f3-4ee3-84ee-2e52b4aaa8e9",
   "metadata": {},
   "outputs": [
    {
     "data": {
      "text/latex": [
       "$\\displaystyle \\frac{0.25 s + 0.10875}{1.0 s^{4} + 3.456 s^{3} + 3.45688 s^{2} + 0.969297 s + 0.150324}$"
      ],
      "text/plain": [
       "(0.25*s + 0.10875)/(1.0*s**4 + 3.456*s**3 + 3.45688*s**2 + 0.969297*s + 0.150324)"
      ]
     },
     "execution_count": 8,
     "metadata": {},
     "output_type": "execute_result"
    }
   ],
   "source": [
    "T = Ge.feedback(TransferFunction(1))\n",
    "T.expr"
   ]
  },
  {
   "cell_type": "markdown",
   "id": "13ebe718-f179-4465-9861-fe3f2174972c",
   "metadata": {},
   "source": [
    "### Skill-Assessment Exercise 5.1"
   ]
  },
  {
   "cell_type": "markdown",
   "id": "cea3ef43-7801-4a7c-a875-750b569de3dc",
   "metadata": {},
   "source": [
    "Find the equivalent transfer function $T(s) = C(s)/R(s)$ for the block diagram below.\n",
    "\n",
    "![block diagram for skill-assessment exercise 5.1](./images/skill_exercise_5-1.png)"
   ]
  },
  {
   "cell_type": "code",
   "execution_count": 9,
   "id": "94b2ac83-67a3-4d4a-92aa-84f618c06773",
   "metadata": {},
   "outputs": [],
   "source": [
    "G1 = TransferFunction(s)\n",
    "G2 = TransferFunction(s)\n",
    "G3 = TransferFunction(1 / s)\n",
    "G4 = TransferFunction(1 / s)\n",
    "G5 = TransferFunction(s)"
   ]
  },
  {
   "cell_type": "code",
   "execution_count": 10,
   "id": "209aa970-5407-4b8a-8ec5-a0aad0e596dd",
   "metadata": {},
   "outputs": [
    {
     "data": {
      "text/latex": [
       "$\\displaystyle \\frac{0.5 s^{3} + 0.5}{1.0 s^{4} + 0.5 s^{2} + 1.0 s}$"
      ],
      "text/plain": [
       "(0.5*s**3 + 0.5)/(1.0*s**4 + 0.5*s**2 + 1.0*s)"
      ]
     },
     "execution_count": 10,
     "metadata": {},
     "output_type": "execute_result"
    }
   ],
   "source": [
    "Ge1 = G1 * G2\n",
    "Ge2 = Ge1 + G3\n",
    "Ge3 = Ge2.feedback(TransferFunction(1))\n",
    "Ge4 = Ge3 * G4\n",
    "Ge5 = Ge4.feedback(G5)\n",
    "Ge5.expr"
   ]
  },
  {
   "cell_type": "markdown",
   "id": "e96ce92b-ddc7-4edf-8e1b-de3c5f4f8d37",
   "metadata": {},
   "source": [
    "## 5.3 : Analysis and Design of Feedback Systems"
   ]
  },
  {
   "cell_type": "markdown",
   "id": "e78b7a48-6d4f-492e-99f7-a94d1b6da860",
   "metadata": {},
   "source": [
    "### Example 5.3 : Finding Transient Response"
   ]
  },
  {
   "cell_type": "markdown",
   "id": "69a52773-96a9-4aba-adf6-6369c41554c4",
   "metadata": {},
   "source": [
    "Find the peak time, percent overshoot, and settling time for the system:\n",
    "\n",
    "![feedback system for example 5.3](./images/example_5-3.png)"
   ]
  },
  {
   "cell_type": "code",
   "execution_count": 11,
   "id": "504cded3-90c9-412b-bf48-08781bf4b61d",
   "metadata": {},
   "outputs": [
    {
     "data": {
      "text/latex": [
       "$\\displaystyle \\frac{25.0}{1.0 s^{2} + 5.0 s + 25.0}$"
      ],
      "text/plain": [
       "25.0/(1.0*s**2 + 5.0*s + 25.0)"
      ]
     },
     "execution_count": 11,
     "metadata": {},
     "output_type": "execute_result"
    }
   ],
   "source": [
    "G = TransferFunction(25 / (s * (s + 5)))\n",
    "T = G.feedback(TransferFunction(1))\n",
    "T.expr"
   ]
  },
  {
   "cell_type": "code",
   "execution_count": 12,
   "id": "628aac42-5b71-44fc-9c22-cceed233a974",
   "metadata": {},
   "outputs": [
    {
     "name": "stdout",
     "output_type": "stream",
     "text": [
      "the system is underdamped\n",
      "natural frequency = 5.000 rad/s\n",
      "damping ratio = 0.500\n",
      "peak time = 0.726 s\n",
      "percent overshoot = 16.303 %\n",
      "settling time = 1.622 s\n"
     ]
    }
   ],
   "source": [
    "system = SecondOrderSystem(a=5, b=25)\n",
    "print(\n",
    "    f\"the system is {system.get_natural_response_type().value}\",\n",
    "    f\"natural frequency = {system.omega_nat:.3f} rad/s\",\n",
    "    f\"damping ratio = {system.zeta:.3f}\",\n",
    "    f\"peak time = {system.peak_time:.3f} s\",\n",
    "    f\"percent overshoot = {system.percent_overshoot:.3f} %\",\n",
    "    f\"settling time = {system.settling_time:.3f} s\",\n",
    "    sep='\\n'\n",
    ")"
   ]
  },
  {
   "cell_type": "markdown",
   "id": "b6c2331f-e31e-4e1f-a28e-f5d636b39401",
   "metadata": {},
   "source": [
    "### Example 5.4 : Gain Design for Transient Response"
   ]
  },
  {
   "cell_type": "markdown",
   "id": "1e9c645a-6cbb-47a5-9b1a-8193151a54f3",
   "metadata": {},
   "source": [
    "Design the value of gain $K$ for the feedback control system, so that the system will respond with 10% overshoot.\n",
    "\n",
    "![feedback system for example 5.4](./images/example_5-4.png)"
   ]
  },
  {
   "cell_type": "code",
   "execution_count": 13,
   "id": "0ae16d4a-c9a9-4e8b-9ac8-490916b1adda",
   "metadata": {},
   "outputs": [
    {
     "name": "stdout",
     "output_type": "stream",
     "text": [
      "the required gain is 17.88\n"
     ]
    }
   ],
   "source": [
    "system = SecondOrderSystem.from_design_specs(percent_overshoot=10, a=5)\n",
    "print(f\"the required gain is {system.b:.2f}\")"
   ]
  },
  {
   "cell_type": "markdown",
   "id": "abb336a0-e5bd-4220-a06a-16475bb66260",
   "metadata": {},
   "source": [
    "## 5.5 : Mason's Rule"
   ]
  },
  {
   "cell_type": "markdown",
   "id": "ea402117-369c-445d-951d-2513a899ac36",
   "metadata": {},
   "source": [
    "### Example 5.7 : Transfer Function via Mason's Rule"
   ]
  },
  {
   "cell_type": "markdown",
   "id": "24dcd2c7-5de4-475d-bcce-d2027a23015a",
   "metadata": {},
   "source": [
    "Find the transfer function $C(s)/R(s)$ for the signal-flow graph below.\n",
    "\n",
    "![signal-flow graph for example 5.7](./images/example_5-7.png)"
   ]
  },
  {
   "cell_type": "markdown",
   "id": "741cac34-dcc7-4eb0-9751-cf288507ed78",
   "metadata": {},
   "source": [
    "Define the branches in the signal-flow graph:"
   ]
  },
  {
   "cell_type": "code",
   "execution_count": 14,
   "id": "1e5e23d2-59c1-4137-885d-dbe1bfe67081",
   "metadata": {},
   "outputs": [],
   "source": [
    "branches = [\n",
    "    SignalFlowGraph.Branch('G1', sp.Function('G1')(s), 'R', 'V4'),\n",
    "    SignalFlowGraph.Branch('G2', sp.Function('G2')(s), 'V4', 'V3'),\n",
    "    SignalFlowGraph.Branch('G3', sp.Function('G3')(s), 'V3', 'V2'),\n",
    "    SignalFlowGraph.Branch('G4', sp.Function('G4')(s), 'V2', 'V1'),\n",
    "    SignalFlowGraph.Branch('G5', sp.Function('G5')(s), 'V1', 'C'),\n",
    "    SignalFlowGraph.Branch('H1', sp.Function('H1')(s), 'V3', 'V4', feedback=True),\n",
    "    SignalFlowGraph.Branch('H2', sp.Function('H2')(s), 'V1', 'V2', feedback=True),\n",
    "    SignalFlowGraph.Branch('G6', sp.Function('G6')(s), 'C', 'V5', feedback=True),\n",
    "    SignalFlowGraph.Branch('G7', sp.Function('G7')(s), 'V5', 'V6', feedback=True),\n",
    "    SignalFlowGraph.Branch('G8', sp.Function('G8')(s), 'V6', 'V4', feedback=True),\n",
    "    SignalFlowGraph.Branch('H4', sp.Function('H4')(s), 'V6', 'V5')\n",
    "]"
   ]
  },
  {
   "cell_type": "markdown",
   "id": "ba3bb75e-3324-4723-9e84-065582a3027b",
   "metadata": {},
   "source": [
    "> **Note**<br>\n",
    "Branches that point back to the input of the signal-flow graph need to be indicated as *feedback branches*. "
   ]
  },
  {
   "cell_type": "markdown",
   "id": "a67eaad4-ad24-4236-8e83-0b24d5b0bb73",
   "metadata": {},
   "source": [
    "Create the signal-flow graph and add the branches:"
   ]
  },
  {
   "cell_type": "code",
   "execution_count": 15,
   "id": "c8ca5a08-49b7-427a-b654-924a1bcf354c",
   "metadata": {},
   "outputs": [],
   "source": [
    "graph = SignalFlowGraph('R', 'C')\n",
    "\n",
    "for branch in branches: \n",
    "    graph.add_branch(branch)"
   ]
  },
  {
   "cell_type": "code",
   "execution_count": 16,
   "id": "7c216d94-53e1-4244-81f1-3ed7297f375c",
   "metadata": {},
   "outputs": [
    {
     "name": "stdout",
     "output_type": "stream",
     "text": [
      "forward paths: [G1 ->- G2 ->- G3 ->- G4 ->- G5]\n",
      "loops: [G2 ->- G3 ->- G4 ->- G5 ->- G6 ->- G7 ->- G8, G2 ->- H1, G4 ->- H2, G7 ->- H4]\n",
      "non-touching loop groups: [[G2 ->- H1, G4 ->- H2, G7 ->- H4]]\n",
      "2-size non-touching loop combinations: [(G2 ->- H1, G4 ->- H2), (G2 ->- H1, G7 ->- H4), (G4 ->- H2, G7 ->- H4)]\n",
      "3-size non-touching loop combinations: [(G2 ->- H1, G4 ->- H2, G7 ->- H4)]\n",
      "4-size non-touching loop combinations: []\n"
     ]
    }
   ],
   "source": [
    "print(\n",
    "    f\"forward paths: {graph.forward_paths}\",\n",
    "    f\"loops: {graph.loops}\",\n",
    "    f\"non-touching loop groups: {graph.non_touching_loop_groups()}\",\n",
    "    f\"2-size non-touching loop combinations: \"\n",
    "    f\"{graph.non_touching_loop_combinations(size=2)}\",\n",
    "    f\"3-size non-touching loop combinations: \"\n",
    "    f\"{graph.non_touching_loop_combinations(size=3)}\",\n",
    "    f\"4-size non-touching loop combinations: \"\n",
    "    f\"{graph.non_touching_loop_combinations(size=4)}\",\n",
    "    sep='\\n'\n",
    ")"
   ]
  },
  {
   "cell_type": "code",
   "execution_count": 17,
   "id": "58188983-0ab3-41f6-88aa-eae8e66c9bf8",
   "metadata": {},
   "outputs": [
    {
     "name": "stdout",
     "output_type": "stream",
     "text": [
      "forward path gains: [G1(s)*G2(s)*G3(s)*G4(s)*G5(s)]\n",
      "loop gains: [G2(s)*G3(s)*G4(s)*G5(s)*G6(s)*G7(s)*G8(s), G2(s)*H1(s), G4(s)*H2(s), G7(s)*H4(s)]\n",
      "non-touching loop combination gains: {2: [G2(s)*G4(s)*H1(s)*H2(s), G2(s)*G7(s)*H1(s)*H4(s), G4(s)*G7(s)*H2(s)*H4(s)], 3: [G2(s)*G4(s)*G7(s)*H1(s)*H2(s)*H4(s)]}\n",
      "denominator of transfer function: -G2(s)*G3(s)*G4(s)*G5(s)*G6(s)*G7(s)*G8(s) - G2(s)*G4(s)*G7(s)*H1(s)*H2(s)*H4(s) + G2(s)*G4(s)*H1(s)*H2(s) + G2(s)*G7(s)*H1(s)*H4(s) - G2(s)*H1(s) + G4(s)*G7(s)*H2(s)*H4(s) - G4(s)*H2(s) - G7(s)*H4(s) + 1\n",
      "numerator of transfer function: (-G7(s)*H4(s) + 1)*G1(s)*G2(s)*G3(s)*G4(s)*G5(s)\n",
      "transfer function: (-G7(s)*H4(s) + 1)*G1(s)*G2(s)*G3(s)*G4(s)*G5(s)/(-G2(s)*G3(s)*G4(s)*G5(s)*G6(s)*G7(s)*G8(s) - G2(s)*G4(s)*G7(s)*H1(s)*H2(s)*H4(s) + G2(s)*G4(s)*H1(s)*H2(s) + G2(s)*G7(s)*H1(s)*H4(s) - G2(s)*H1(s) + G4(s)*G7(s)*H2(s)*H4(s) - G4(s)*H2(s) - G7(s)*H4(s) + 1)\n"
     ]
    }
   ],
   "source": [
    "print(\n",
    "    f\"forward path gains: {graph.forward_path_gains()}\",\n",
    "    f\"loop gains: {graph.loop_gains()}\",\n",
    "    f\"non-touching loop combination gains: {graph.non_touching_loop_combination_gains()}\",\n",
    "    f\"denominator of transfer function: {graph.denominator}\",\n",
    "    f\"numerator of transfer function: {graph.numerator}\",\n",
    "    f\"transfer function: {graph.transfer_function}\",\n",
    "    sep='\\n'\n",
    ")"
   ]
  },
  {
   "cell_type": "markdown",
   "id": "a8bf8d7c-2fdc-4d92-9102-64ec519d9281",
   "metadata": {},
   "source": [
    "### Skill-Assessment Exercise 5.4"
   ]
  },
  {
   "cell_type": "markdown",
   "id": "84d167f1-8bac-4e7f-b4db-4f6a68b5172d",
   "metadata": {},
   "source": [
    "Use Mason's rule to find the transfer function of the signal-flow diagram below. This is the same system which is also shown in the block diagram.\n",
    "\n",
    "![simplied signal-flow graph](./images/skill_exercise_5-4.png)"
   ]
  },
  {
   "cell_type": "markdown",
   "id": "37d901cc-df59-4afc-a115-50c009ecb472",
   "metadata": {},
   "source": [
    "![block diagram of example 5.2](./images/skill_exercise_5-4b.png)"
   ]
  },
  {
   "cell_type": "code",
   "execution_count": 18,
   "id": "7db04b98-515e-457e-9443-a338b19a02ce",
   "metadata": {},
   "outputs": [],
   "source": [
    "branches = [\n",
    "    SignalFlowGraph.Branch('U1', sp.Integer(1), 'R', 'V1'),  # R = V1\n",
    "    SignalFlowGraph.Branch('G1', sp.Function('G1')(s), 'V1', 'V3'),\n",
    "    SignalFlowGraph.Branch('G2', sp.Function('G2')(s), 'V3', 'V4'),\n",
    "    SignalFlowGraph.Branch('U2', sp.Integer(1), 'V3', 'V5'),\n",
    "    SignalFlowGraph.Branch('U3', sp.Integer(1), 'V4', 'V5'),\n",
    "    SignalFlowGraph.Branch('G3', sp.Function('G3')(s), 'V5', 'C'),\n",
    "    SignalFlowGraph.Branch('-H2', -sp.Function('H2')(s), 'V4', 'V3', feedback=True),\n",
    "    SignalFlowGraph.Branch('-H3', -sp.Function('H3')(s), 'C', 'V5', feedback=True),\n",
    "    SignalFlowGraph.Branch('-H1', -sp.Function('H1')(s), 'V4', 'V1', feedback=True)\n",
    "]"
   ]
  },
  {
   "cell_type": "code",
   "execution_count": 19,
   "id": "1c8fd4f0-b541-462c-83b4-72ecb6bbbeda",
   "metadata": {},
   "outputs": [],
   "source": [
    "graph = SignalFlowGraph('R', 'C')\n",
    "for br in branches: \n",
    "    graph.add_branch(br)"
   ]
  },
  {
   "cell_type": "code",
   "execution_count": 20,
   "id": "9204b65f-2e6c-4d92-b05c-d82107916a46",
   "metadata": {},
   "outputs": [
    {
     "name": "stdout",
     "output_type": "stream",
     "text": [
      "forward paths: [U1 ->- G1 ->- G2 ->- U3 ->- G3, U1 ->- G1 ->- U2 ->- G3]\n",
      "loops: [G3 ->- -H3, G2 ->- -H2, G1 ->- G2 ->- -H1]\n",
      "non-touching loop groups: [[G3 ->- -H3, G2 ->- -H2], [G1 ->- G2 ->- -H1, G3 ->- -H3]]\n",
      "2-size non-touching loop combinations: [(G3 ->- -H3, G2 ->- -H2), (G1 ->- G2 ->- -H1, G3 ->- -H3)]\n",
      "3-size non-touching loop combinations: []\n",
      "4-size non-touching loop combinations: []\n"
     ]
    }
   ],
   "source": [
    "print(\n",
    "    f\"forward paths: {graph.forward_paths}\",\n",
    "    f\"loops: {graph.loops}\",\n",
    "    f\"non-touching loop groups: {graph.non_touching_loop_groups()}\",\n",
    "    f\"2-size non-touching loop combinations: \"\n",
    "    f\"{graph.non_touching_loop_combinations(size=2)}\",\n",
    "    f\"3-size non-touching loop combinations: \"\n",
    "    f\"{graph.non_touching_loop_combinations(size=3)}\",\n",
    "    f\"4-size non-touching loop combinations: \"\n",
    "    f\"{graph.non_touching_loop_combinations(size=4)}\",\n",
    "    sep='\\n'\n",
    ")"
   ]
  },
  {
   "cell_type": "code",
   "execution_count": 21,
   "id": "9333fa78-9781-4d1b-9284-2cade577608c",
   "metadata": {},
   "outputs": [
    {
     "name": "stdout",
     "output_type": "stream",
     "text": [
      "forward path gains: [G1(s)*G2(s)*G3(s), G1(s)*G3(s)]\n",
      "loop gains: [-G3(s)*H3(s), -G2(s)*H2(s), -G1(s)*G2(s)*H1(s)]\n",
      "non-touching loop combination gains: {2: [G2(s)*G3(s)*H2(s)*H3(s), G1(s)*G2(s)*G3(s)*H1(s)*H3(s)]}\n",
      "numerator of transfer function: (G2(s) + 1)*G1(s)*G3(s)\n",
      "denominator of transfer function: (G3(s)*H3(s) + 1)*(G1(s)*G2(s)*H1(s) + G2(s)*H2(s) + 1)\n",
      "transfer function: (G2(s) + 1)*G1(s)*G3(s)/((G3(s)*H3(s) + 1)*(G1(s)*G2(s)*H1(s) + G2(s)*H2(s) + 1))\n"
     ]
    }
   ],
   "source": [
    "print(\n",
    "    f\"forward path gains: {graph.forward_path_gains()}\",\n",
    "    f\"loop gains: {graph.loop_gains()}\",\n",
    "    f\"non-touching loop combination gains: {graph.non_touching_loop_combination_gains()}\",\n",
    "    f\"numerator of transfer function: {graph.numerator.factor()}\",\n",
    "    f\"denominator of transfer function: {graph.denominator.factor()}\",\n",
    "    f\"transfer function: {graph.transfer_function.factor()}\",\n",
    "    sep='\\n'\n",
    ")"
   ]
  },
  {
   "cell_type": "code",
   "execution_count": null,
   "id": "70b28106-a6bd-47bd-85b1-8aec064c5fe8",
   "metadata": {},
   "outputs": [],
   "source": []
  }
 ],
 "metadata": {
  "kernelspec": {
   "display_name": "Python 3 (ipykernel)",
   "language": "python",
   "name": "python3"
  },
  "language_info": {
   "codemirror_mode": {
    "name": "ipython",
    "version": 3
   },
   "file_extension": ".py",
   "mimetype": "text/x-python",
   "name": "python",
   "nbconvert_exporter": "python",
   "pygments_lexer": "ipython3",
   "version": "3.11.10"
  }
 },
 "nbformat": 4,
 "nbformat_minor": 5
}
