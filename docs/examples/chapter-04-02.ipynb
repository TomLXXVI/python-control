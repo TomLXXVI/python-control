{
 "cells": [
  {
   "cell_type": "markdown",
   "id": "a5f75bdc-87e1-463c-800c-ad887fe1cd49",
   "metadata": {},
   "source": [
    "# Chapter 4 : Time Response\n",
    "---"
   ]
  },
  {
   "cell_type": "code",
   "execution_count": 1,
   "id": "e100b502-740c-4c09-9d19-756b1a0629fa",
   "metadata": {},
   "outputs": [],
   "source": [
    "import sys\n",
    "\n",
    "if (path := \"C:/Users/Tom/pycharm-projects/python-control\") not in sys.path:\n",
    "    sys.path.append(path)\n",
    "\n",
    "import sympy as sp\n",
    "import numpy as np\n",
    "from IPython.display import display, HTML\n",
    "\n",
    "from python_control import (\n",
    "    Quantity, LineChart, \n",
    "    s, t,\n",
    "    SecondOrderSystem, \n",
    "    TransferFunction, \n",
    "    StateSpace, \n",
    "    InverseLaplaceTransform\n",
    ")\n",
    "\n",
    "from python_control.modeling.mechanical import TorsionSpring, TorsionDamper, Inertia\n",
    "\n",
    "Q_ = Quantity"
   ]
  },
  {
   "cell_type": "markdown",
   "id": "f5333448-e8ba-4621-8ddd-c8d747f56910",
   "metadata": {},
   "source": [
    "## 4.4 : Second-Order Systems: Introduction"
   ]
  },
  {
   "cell_type": "markdown",
   "id": "2055c61b-0742-40c6-b3b4-8a7abcabb665",
   "metadata": {},
   "source": [
    "### Unit-Step Response of Second-Order System No. 1"
   ]
  },
  {
   "cell_type": "markdown",
   "id": "bb9d33a8-0bde-4382-9c36-a3b5aee62614",
   "metadata": {},
   "source": [
    "#### Transfer Function"
   ]
  },
  {
   "cell_type": "code",
   "execution_count": 2,
   "id": "6cac576b-430b-4072-9832-4636edf5605d",
   "metadata": {},
   "outputs": [
    {
     "data": {
      "text/latex": [
       "$\\displaystyle \\frac{9.0}{1.0 s^{2} + 9.0 s + 9.0}$"
      ],
      "text/plain": [
       "9.0/(1.0*s**2 + 9.0*s + 9.0)"
      ]
     },
     "execution_count": 2,
     "metadata": {},
     "output_type": "execute_result"
    }
   ],
   "source": [
    "system_1 = SecondOrderSystem(a=9, b=9)\n",
    "system_1.expr"
   ]
  },
  {
   "cell_type": "code",
   "execution_count": 3,
   "id": "90cf228d-1c33-49df-8539-d099aa3d6e14",
   "metadata": {
    "jupyter": {
     "source_hidden": true
    }
   },
   "outputs": [
    {
     "data": {
      "text/html": [
       "This second-order system is <b>overdamped</b>."
      ],
      "text/plain": [
       "<IPython.core.display.HTML object>"
      ]
     },
     "metadata": {},
     "output_type": "display_data"
    }
   ],
   "source": [
    "display(HTML(\n",
    "    f\"This second-order system is <b>{system_1.get_natural_response_type().value}</b>.\"\n",
    "))"
   ]
  },
  {
   "cell_type": "markdown",
   "id": "38b250ff-322d-40e1-8405-b1b4801dfec3",
   "metadata": {},
   "source": [
    "#### Unit-Step Response"
   ]
  },
  {
   "cell_type": "code",
   "execution_count": 4,
   "id": "6cf42249-d732-48ec-a644-6ceb50466a7b",
   "metadata": {},
   "outputs": [
    {
     "data": {
      "image/png": "[encoded data removed]",
      "text/plain": [
       "<Figure size 640x480 with 1 Axes>"
      ]
     },
     "metadata": {},
     "output_type": "display_data"
    }
   ],
   "source": [
    "system_1.plot_unit_step_response()"
   ]
  },
  {
   "cell_type": "markdown",
   "id": "d9334ae4-6000-449a-ab44-51fc6477f35b",
   "metadata": {},
   "source": [
    "The time function that generates this plot can be retrieved as follows:"
   ]
  },
  {
   "cell_type": "code",
   "execution_count": 5,
   "id": "5e69d3ee-5d15-4757-92be-689d29db1b04",
   "metadata": {},
   "outputs": [
    {
     "data": {
      "text/latex": [
       "$\\displaystyle 1 + 0.170820393249937 e^{- 7.85410196624968 t} - 1.17082039324994 e^{- 1.14589803375032 t}$"
      ],
      "text/plain": [
       "1 + 0.170820393249937*exp(-7.85410196624968*t) - 1.17082039324994*exp(-1.14589803375032*t)"
      ]
     },
     "execution_count": 5,
     "metadata": {},
     "output_type": "execute_result"
    }
   ],
   "source": [
    "system_1.u.expr"
   ]
  },
  {
   "cell_type": "markdown",
   "id": "cd916639-9abd-410e-8198-3be26f5f524f",
   "metadata": {},
   "source": [
    "Attribute `u` refers to the unit-step response in the time domain. It is an instance of class `InverseLaplaceTransform`. "
   ]
  },
  {
   "cell_type": "markdown",
   "id": "7c6fcecf-5141-4608-a8f9-ebcce360aec9",
   "metadata": {},
   "source": [
    "#### System Poles"
   ]
  },
  {
   "cell_type": "markdown",
   "id": "348c1450-05b8-4314-9f57-b4027f9509a9",
   "metadata": {},
   "source": [
    "The Laplace transform (instance of class `LaplaceTransform`) of the system's unit-step response can be accessed through its attribute `U`. If we expand this Laplace transform, we retrieve the terms of the natural and forced response of the system."
   ]
  },
  {
   "cell_type": "code",
   "execution_count": 6,
   "id": "de5645cc-a93d-45f4-8a37-1e2566228808",
   "metadata": {},
   "outputs": [
    {
     "data": {
      "text/latex": [
       "$\\displaystyle \\frac{0.170820393249937}{s + 7.85410196624968} - \\frac{1.17082039324994}{s + 1.14589803375032} + \\frac{1}{s}$"
      ],
      "text/plain": [
       "0.170820393249937/(s + 7.85410196624968) - 1.17082039324994/(s + 1.14589803375032) + 1/s"
      ]
     },
     "execution_count": 6,
     "metadata": {},
     "output_type": "execute_result"
    }
   ],
   "source": [
    "system_1.U.expanded(evaluate=True)"
   ]
  },
  {
   "cell_type": "markdown",
   "id": "c6a646d5-cc1c-4aa9-be6e-07987d8efbcc",
   "metadata": {},
   "source": [
    "> **Note**<br>\n",
    "The pole of $1/s$ lies in the origin of the complex plane and comes from the unit step input. The input pole at the origin generates the constant forced response."
   ]
  },
  {
   "cell_type": "markdown",
   "id": "ec5d2a4d-e8a7-4a0e-95ae-56446fcd0498",
   "metadata": {},
   "source": [
    "The poles of the system's transfer function can be retrieved with:"
   ]
  },
  {
   "cell_type": "code",
   "execution_count": 7,
   "id": "c6bdcc79-74e4-48e0-ad44-60cccb2e1848",
   "metadata": {},
   "outputs": [
    {
     "data": {
      "text/plain": [
       "[(-7.854101966249685+0j), (-1.1458980337503155+0j)]"
      ]
     },
     "execution_count": 7,
     "metadata": {},
     "output_type": "execute_result"
    }
   ],
   "source": [
    "system_1.poles"
   ]
  },
  {
   "cell_type": "markdown",
   "id": "a375ecce-ca9f-40ef-8f34-50f502f0b487",
   "metadata": {},
   "source": [
    "This second-order system has two real poles."
   ]
  },
  {
   "cell_type": "markdown",
   "id": "8411e336-4465-4948-b659-10eee791604b",
   "metadata": {},
   "source": [
    "#### Characteristics"
   ]
  },
  {
   "cell_type": "code",
   "execution_count": 8,
   "id": "26dc3572-814e-4584-8dd0-82a786613017",
   "metadata": {},
   "outputs": [
    {
     "name": "stdout",
     "output_type": "stream",
     "text": [
      "natural frequency = 3.000\n",
      "damping ratio = 1.500\n",
      "rise time = 1.953\n",
      "peak time = nan\n",
      "settling time = 3.564\n",
      "percent overshoot = nan\n"
     ]
    }
   ],
   "source": [
    "print(\n",
    "    f\"natural frequency = {system_1.natural_frequency:.3f}\",\n",
    "    f\"damping ratio = {system_1.damping_ratio:.3f}\",\n",
    "    f\"rise time = {system_1.rise_time:.3f}\",\n",
    "    f\"peak time = {system_1.peak_time:.3f}\",\n",
    "    f\"settling time = {system_1.settling_time:.3f}\",\n",
    "    f\"percent overshoot = {system_1.percent_overshoot:.0f}\",\n",
    "    sep='\\n'\n",
    ")"
   ]
  },
  {
   "cell_type": "markdown",
   "id": "c7bee151-c6f2-4c8b-831b-a2674383ad48",
   "metadata": {},
   "source": [
    "### Unit-Step Response of Second-Order System No. 2"
   ]
  },
  {
   "cell_type": "markdown",
   "id": "2564cf37-df8c-4201-af95-5257dc9b1607",
   "metadata": {},
   "source": [
    "#### Transfer Function"
   ]
  },
  {
   "cell_type": "code",
   "execution_count": 9,
   "id": "b91516c0-6b21-4f07-a870-d98a14eb9c8c",
   "metadata": {},
   "outputs": [
    {
     "data": {
      "text/latex": [
       "$\\displaystyle \\frac{9.0}{1.0 s^{2} + 2.0 s + 9.0}$"
      ],
      "text/plain": [
       "9.0/(1.0*s**2 + 2.0*s + 9.0)"
      ]
     },
     "execution_count": 9,
     "metadata": {},
     "output_type": "execute_result"
    }
   ],
   "source": [
    "system_2 = SecondOrderSystem(a=2, b=9)\n",
    "system_2.expr"
   ]
  },
  {
   "cell_type": "code",
   "execution_count": 10,
   "id": "ce5b7c1c-60b9-4a90-b424-c804c5dcf806",
   "metadata": {
    "jupyter": {
     "source_hidden": true
    }
   },
   "outputs": [
    {
     "data": {
      "text/html": [
       "This second-order system is <b>underdamped</b>."
      ],
      "text/plain": [
       "<IPython.core.display.HTML object>"
      ]
     },
     "metadata": {},
     "output_type": "display_data"
    }
   ],
   "source": [
    "display(HTML(\n",
    "    f\"This second-order system is <b>{system_2.get_natural_response_type().value}</b>.\"\n",
    "))"
   ]
  },
  {
   "cell_type": "markdown",
   "id": "39b3baf5-14cf-4a7e-b328-6e5b36893cfd",
   "metadata": {},
   "source": [
    "#### Unit-Step Response"
   ]
  },
  {
   "cell_type": "code",
   "execution_count": 11,
   "id": "4df9270f-3aa0-4537-b0d7-97d93d9b429e",
   "metadata": {},
   "outputs": [
    {
     "data": {
      "image/png": "[encoded data removed]",
      "text/plain": [
       "<Figure size 640x480 with 1 Axes>"
      ]
     },
     "metadata": {},
     "output_type": "display_data"
    }
   ],
   "source": [
    "system_2.plot_unit_step_response()"
   ]
  },
  {
   "cell_type": "code",
   "execution_count": 12,
   "id": "a9bb76cf-e64d-4c38-8320-c1d38e6ed500",
   "metadata": {},
   "outputs": [
    {
     "data": {
      "text/latex": [
       "$\\displaystyle \\left(- 0.5 e^{2.82842712474619 i t} + 0.176776695296637 i e^{2.82842712474619 i t} - 0.5 e^{- 2.82842712474619 i t} - 0.176776695296637 i e^{- 2.82842712474619 i t}\\right) e^{- 1.0 t} + 1$"
      ],
      "text/plain": [
       "(-0.5*exp(2.82842712474619*I*t) + 0.176776695296637*I*exp(2.82842712474619*I*t) - 0.5*exp(-2.82842712474619*I*t) - 0.176776695296637*I*exp(-2.82842712474619*I*t))*exp(-1.0*t) + 1"
      ]
     },
     "execution_count": 12,
     "metadata": {},
     "output_type": "execute_result"
    }
   ],
   "source": [
    "system_2.u.expr"
   ]
  },
  {
   "cell_type": "markdown",
   "id": "731d0d60-7531-42aa-b105-d11f5519af58",
   "metadata": {},
   "source": [
    "#### System Poles"
   ]
  },
  {
   "cell_type": "code",
   "execution_count": 13,
   "id": "5716e5aa-fae4-435d-8899-4d27d3966a86",
   "metadata": {},
   "outputs": [
    {
     "data": {
      "text/latex": [
       "$\\displaystyle \\frac{-0.5 - 0.176776695296637 i}{s + 1.0 + 2.82842712474619 i} + \\frac{-0.5 + 0.176776695296637 i}{s + 1.0 - 2.82842712474619 i} + \\frac{1}{s}$"
      ],
      "text/plain": [
       "(-0.5 - 0.176776695296637*I)/(s + 1.0 + 2.82842712474619*I) + (-0.5 + 0.176776695296637*I)/(s + 1.0 - 2.82842712474619*I) + 1/s"
      ]
     },
     "execution_count": 13,
     "metadata": {},
     "output_type": "execute_result"
    }
   ],
   "source": [
    "system_2.U.expanded(evaluate=True)"
   ]
  },
  {
   "cell_type": "code",
   "execution_count": 14,
   "id": "b3a7d8ed-265a-4d96-b21c-9a5f04a2942c",
   "metadata": {},
   "outputs": [
    {
     "data": {
      "text/plain": [
       "[(-1+2.8284271247461894j), (-1-2.8284271247461894j)]"
      ]
     },
     "execution_count": 14,
     "metadata": {},
     "output_type": "execute_result"
    }
   ],
   "source": [
    "system_2.poles"
   ]
  },
  {
   "cell_type": "markdown",
   "id": "656ecc8b-3e36-4a91-95fe-657b925cdc11",
   "metadata": {},
   "source": [
    "This system has two complex poles."
   ]
  },
  {
   "cell_type": "markdown",
   "id": "22f42a5b-af12-4113-a2fa-46e080284ff8",
   "metadata": {},
   "source": [
    "#### Characteristics"
   ]
  },
  {
   "cell_type": "code",
   "execution_count": 15,
   "id": "db52cbb4-5806-4c26-8d90-b562064e05ac",
   "metadata": {},
   "outputs": [
    {
     "name": "stdout",
     "output_type": "stream",
     "text": [
      "natural frequency = 3.000\n",
      "damping ratio = 0.333\n",
      "rise time = 0.455\n",
      "peak time = 1.111\n",
      "settling time = 3.971\n",
      "percent overshoot = 33\n"
     ]
    }
   ],
   "source": [
    "print(\n",
    "    f\"natural frequency = {system_2.natural_frequency:.3f}\",\n",
    "    f\"damping ratio = {system_2.damping_ratio:.3f}\",\n",
    "    f\"rise time = {system_2.rise_time:.3f}\",\n",
    "    f\"peak time = {system_2.peak_time:.3f}\",\n",
    "    f\"settling time = {system_2.settling_time:.3f}\",\n",
    "    f\"percent overshoot = {system_2.percent_overshoot:.0f}\",\n",
    "    sep='\\n'\n",
    ")"
   ]
  },
  {
   "cell_type": "markdown",
   "id": "cf9404ea-f266-47b4-afcc-fb3bae885b31",
   "metadata": {},
   "source": [
    "### Unit-Step Response of Second-Order System No. 3"
   ]
  },
  {
   "cell_type": "markdown",
   "id": "fd75b71d-fafc-404b-8e20-0144bfc3a281",
   "metadata": {},
   "source": [
    "#### Transfer Function"
   ]
  },
  {
   "cell_type": "code",
   "execution_count": 16,
   "id": "72e72f23-3451-4c30-9ac8-26e154c15100",
   "metadata": {},
   "outputs": [
    {
     "data": {
      "text/latex": [
       "$\\displaystyle \\frac{9.0}{1.0 s^{2} + 9.0}$"
      ],
      "text/plain": [
       "9.0/(1.0*s**2 + 9.0)"
      ]
     },
     "execution_count": 16,
     "metadata": {},
     "output_type": "execute_result"
    }
   ],
   "source": [
    "system_3 = SecondOrderSystem(a=0, b=9)\n",
    "system_3.expr"
   ]
  },
  {
   "cell_type": "code",
   "execution_count": 17,
   "id": "3882323d-b73f-4ef4-a281-8a962c5f08a8",
   "metadata": {
    "jupyter": {
     "source_hidden": true
    }
   },
   "outputs": [
    {
     "data": {
      "text/html": [
       "This second-order system is <b>undamped</b>."
      ],
      "text/plain": [
       "<IPython.core.display.HTML object>"
      ]
     },
     "metadata": {},
     "output_type": "display_data"
    }
   ],
   "source": [
    "display(HTML(\n",
    "    f\"This second-order system is <b>{system_3.get_natural_response_type().value}</b>.\"\n",
    "))"
   ]
  },
  {
   "cell_type": "markdown",
   "id": "f3e299d8-0a20-4def-862c-8aa40e7eff27",
   "metadata": {},
   "source": [
    "#### Unit-Step Response Plot"
   ]
  },
  {
   "cell_type": "code",
   "execution_count": 18,
   "id": "5d219112-0d34-4112-b623-93243f864935",
   "metadata": {},
   "outputs": [
    {
     "data": {
      "image/png": "[encoded data removed]",
      "text/plain": [
       "<Figure size 640x480 with 1 Axes>"
      ]
     },
     "metadata": {},
     "output_type": "display_data"
    }
   ],
   "source": [
    "system_3.plot_unit_step_response()"
   ]
  },
  {
   "cell_type": "code",
   "execution_count": 19,
   "id": "188db4e0-6a1d-4303-867f-2baa5e850f03",
   "metadata": {},
   "outputs": [
    {
     "data": {
      "text/latex": [
       "$\\displaystyle - 0.5 e^{3.0 i t} + 1 - 0.5 e^{- 3.0 i t}$"
      ],
      "text/plain": [
       "-0.5*exp(3.0*I*t) + 1 - 0.5*exp(-3.0*I*t)"
      ]
     },
     "execution_count": 19,
     "metadata": {},
     "output_type": "execute_result"
    }
   ],
   "source": [
    "system_3.u.expr"
   ]
  },
  {
   "cell_type": "markdown",
   "id": "780523e9-0316-4c2c-8635-d1fa6547c585",
   "metadata": {},
   "source": [
    "#### System Poles"
   ]
  },
  {
   "cell_type": "code",
   "execution_count": 20,
   "id": "fb065831-17ab-46da-85dc-3450bb2dca47",
   "metadata": {},
   "outputs": [
    {
     "data": {
      "text/latex": [
       "$\\displaystyle - \\frac{0.5}{s + 3.0 i} - \\frac{0.5}{s - 3.0 i} + \\frac{1}{s}$"
      ],
      "text/plain": [
       "-0.5/(s + 3.0*I) - 0.5/(s - 3.0*I) + 1/s"
      ]
     },
     "execution_count": 20,
     "metadata": {},
     "output_type": "execute_result"
    }
   ],
   "source": [
    "system_3.U.expanded(evaluate=True)"
   ]
  },
  {
   "cell_type": "code",
   "execution_count": 21,
   "id": "4fe70b47-84d0-42cd-9de7-0bf1649dec0c",
   "metadata": {},
   "outputs": [
    {
     "data": {
      "text/plain": [
       "[(-0+3j), -3j]"
      ]
     },
     "execution_count": 21,
     "metadata": {},
     "output_type": "execute_result"
    }
   ],
   "source": [
    "system_3.poles"
   ]
  },
  {
   "cell_type": "markdown",
   "id": "edc24add-0997-4970-b24b-b767e06300dc",
   "metadata": {},
   "source": [
    "This system has two imaginary poles."
   ]
  },
  {
   "cell_type": "markdown",
   "id": "d055ac6f-ada8-43f0-89cb-8887579034f7",
   "metadata": {},
   "source": [
    "#### Characteristics"
   ]
  },
  {
   "cell_type": "code",
   "execution_count": 22,
   "id": "34ee9e35-1408-4aa4-bece-29f319abd97e",
   "metadata": {},
   "outputs": [
    {
     "name": "stdout",
     "output_type": "stream",
     "text": [
      "natural frequency = 3.000\n",
      "damping ratio = 0.000\n",
      "rise time = nan\n",
      "peak time = 1.047\n",
      "settling time = nan\n",
      "percent overshoot = nan\n"
     ]
    }
   ],
   "source": [
    "print(\n",
    "    f\"natural frequency = {system_3.natural_frequency:.3f}\",\n",
    "    f\"damping ratio = {system_3.damping_ratio:.3f}\",\n",
    "    f\"rise time = {system_3.rise_time:.3f}\",\n",
    "    f\"peak time = {system_3.peak_time:.3f}\",\n",
    "    f\"settling time = {system_3.settling_time:.3f}\",\n",
    "    f\"percent overshoot = {system_3.percent_overshoot:.0f}\",\n",
    "    sep='\\n'\n",
    ")"
   ]
  },
  {
   "cell_type": "markdown",
   "id": "a1a1f5be-73f4-4acf-bdb7-6d5c12be8ad3",
   "metadata": {},
   "source": [
    "### Unit-Step Response of Second-Order System No. 4"
   ]
  },
  {
   "cell_type": "markdown",
   "id": "ab0ff4f5-410e-4365-8756-fc689e6b48b6",
   "metadata": {},
   "source": [
    "#### Transfer Function"
   ]
  },
  {
   "cell_type": "code",
   "execution_count": 23,
   "id": "905877d5-b865-44ea-b84a-cd386bcf926f",
   "metadata": {},
   "outputs": [
    {
     "data": {
      "text/latex": [
       "$\\displaystyle \\frac{9.0}{1.0 s^{2} + 6.0 s + 9.0}$"
      ],
      "text/plain": [
       "9.0/(1.0*s**2 + 6.0*s + 9.0)"
      ]
     },
     "execution_count": 23,
     "metadata": {},
     "output_type": "execute_result"
    }
   ],
   "source": [
    "system_4 = SecondOrderSystem(a=6, b=9)\n",
    "system_4.expr"
   ]
  },
  {
   "cell_type": "code",
   "execution_count": 24,
   "id": "68496574-3718-4e7c-8e82-ce95ad71a4ba",
   "metadata": {},
   "outputs": [
    {
     "data": {
      "text/html": [
       "This second-order system is <b>critically_damped</b>."
      ],
      "text/plain": [
       "<IPython.core.display.HTML object>"
      ]
     },
     "metadata": {},
     "output_type": "display_data"
    }
   ],
   "source": [
    "display(HTML(\n",
    "    f\"This second-order system is <b>{system_4.get_natural_response_type().value}</b>.\"\n",
    "))"
   ]
  },
  {
   "cell_type": "markdown",
   "id": "3ee87d6a-1883-489a-8ded-e04b1b71e643",
   "metadata": {},
   "source": [
    "#### Unit-Step Response"
   ]
  },
  {
   "cell_type": "code",
   "execution_count": 25,
   "id": "8569cf94-4a3c-41bf-b9a7-1e208c90f594",
   "metadata": {},
   "outputs": [
    {
     "data": {
      "image/png": "[encoded data removed]",
      "text/plain": [
       "<Figure size 640x480 with 1 Axes>"
      ]
     },
     "metadata": {},
     "output_type": "display_data"
    }
   ],
   "source": [
    "system_4.plot_unit_step_response()"
   ]
  },
  {
   "cell_type": "code",
   "execution_count": 26,
   "id": "ce437939-6df2-464d-b9e6-56e4c3334126",
   "metadata": {},
   "outputs": [
    {
     "data": {
      "text/latex": [
       "$\\displaystyle \\left(- 3.0 t - 1.0\\right) e^{- 3.0 t} + 1$"
      ],
      "text/plain": [
       "(-3.0*t - 1.0)*exp(-3.0*t) + 1"
      ]
     },
     "execution_count": 26,
     "metadata": {},
     "output_type": "execute_result"
    }
   ],
   "source": [
    "system_4.u.expr"
   ]
  },
  {
   "cell_type": "markdown",
   "id": "d89d5581-bb81-476f-addd-adeabe727306",
   "metadata": {},
   "source": [
    "#### System Poles"
   ]
  },
  {
   "cell_type": "code",
   "execution_count": 27,
   "id": "18bb5ec6-b96a-41b6-acec-6a6759511ae6",
   "metadata": {},
   "outputs": [
    {
     "data": {
      "text/latex": [
       "$\\displaystyle - \\frac{1}{s + 3.0} - \\frac{0.333333333333333}{\\left(0.333333333333333 s + 1\\right)^{2}} + \\frac{1}{s}$"
      ],
      "text/plain": [
       "-1/(s + 3.0) - 0.333333333333333/(0.333333333333333*s + 1)**2 + 1/s"
      ]
     },
     "execution_count": 27,
     "metadata": {},
     "output_type": "execute_result"
    }
   ],
   "source": [
    "system_4.U.expanded(evaluate=True)"
   ]
  },
  {
   "cell_type": "code",
   "execution_count": 28,
   "id": "acdc4214-eadf-4084-9435-35f78d1267f1",
   "metadata": {},
   "outputs": [
    {
     "data": {
      "text/plain": [
       "[(-3+5.475036224983286e-08j), (-3-5.475036224983286e-08j)]"
      ]
     },
     "execution_count": 28,
     "metadata": {},
     "output_type": "execute_result"
    }
   ],
   "source": [
    "system_4.poles"
   ]
  },
  {
   "cell_type": "markdown",
   "id": "dffdd939-401f-4902-8ff8-59559db409bd",
   "metadata": {},
   "source": [
    "This system has two multiple real poles."
   ]
  },
  {
   "cell_type": "markdown",
   "id": "6e406f70-673f-44e7-a2b3-bf91fd978cb4",
   "metadata": {},
   "source": [
    "#### Characteristics"
   ]
  },
  {
   "cell_type": "code",
   "execution_count": 29,
   "id": "14e372ce-16f5-47e8-a9c9-f0a63ccb6758",
   "metadata": {},
   "outputs": [
    {
     "name": "stdout",
     "output_type": "stream",
     "text": [
      "natural frequency = 3.000\n",
      "damping ratio = 1.000\n",
      "rise time = 1.119\n",
      "peak time = inf\n",
      "settling time = 2.096\n",
      "percent overshoot = nan\n"
     ]
    }
   ],
   "source": [
    "print(\n",
    "    f\"natural frequency = {system_4.natural_frequency:.3f}\",\n",
    "    f\"damping ratio = {system_4.damping_ratio:.3f}\",\n",
    "    f\"rise time = {system_4.rise_time:.3f}\",\n",
    "    f\"peak time = {system_4.peak_time:.3f}\",\n",
    "    f\"settling time = {system_4.settling_time:.3f}\",\n",
    "    f\"percent overshoot = {system_4.percent_overshoot:.0f}\",\n",
    "    sep='\\n'\n",
    ")"
   ]
  },
  {
   "cell_type": "markdown",
   "id": "1258ab23-1f4e-4651-aa4a-e1e137ad985a",
   "metadata": {},
   "source": [
    "## 4.6 : Underdamped Second-Order Systems"
   ]
  },
  {
   "cell_type": "markdown",
   "id": "11e5d323-9462-49f1-93e9-f6a6824aee90",
   "metadata": {},
   "source": [
    "### Example 4.7 : Transient Response Through Component Design"
   ]
  },
  {
   "attachments": {},
   "cell_type": "markdown",
   "id": "73212b87-0357-4c0c-9566-926162e0b447",
   "metadata": {},
   "source": [
    "Given the system shown below, find $J$ and $D$ to yield 20% overshoot and a settling time of 2 seconds for a step input of torque $T(t)$.\n",
    "\n",
    "![rotational mechanical system](./images/example_4-7.png)"
   ]
  },
  {
   "cell_type": "markdown",
   "id": "29f3bfa1-2ef9-49b3-8f2f-a9568af4e506",
   "metadata": {},
   "source": [
    "Determine the transfer function of the system:"
   ]
  },
  {
   "cell_type": "code",
   "execution_count": 30,
   "id": "30c47837-4e4f-4fc2-914b-d22d9ec97ea1",
   "metadata": {},
   "outputs": [
    {
     "data": {
      "text/latex": [
       "$\\displaystyle \\frac{1.0}{J \\left(\\frac{D s}{J} + s^{2} + \\frac{K}{J}\\right)}$"
      ],
      "text/plain": [
       "1.0/(J*(D*s/J + s**2 + K/J))"
      ]
     },
     "execution_count": 30,
     "metadata": {},
     "output_type": "execute_result"
    }
   ],
   "source": [
    "K = TorsionSpring('K')\n",
    "J = Inertia('J')\n",
    "D = TorsionDamper('D')\n",
    "\n",
    "Z = K.Z + J.Z + D.Z\n",
    "T, theta = sp.symbols(['T', 'theta'])\n",
    "eom = Z.expr * theta - T\n",
    "theta = sp.solve(eom, theta)[0]\n",
    "G = TransferFunction(theta / T)\n",
    "G.expr"
   ]
  },
  {
   "cell_type": "markdown",
   "id": "a8849197-0200-427a-9bac-3febdf16e275",
   "metadata": {},
   "source": [
    "From this transfer function it can be seen that $a = D/J$ and $b = K/J$."
   ]
  },
  {
   "cell_type": "markdown",
   "id": "90d4eaf6-09df-4b49-8a01-26d4fed7acef",
   "metadata": {},
   "source": [
    "Based on the specified percentage of overshoot and the specified settling time, the values for $a$ and $b$ can be determined with: "
   ]
  },
  {
   "cell_type": "code",
   "execution_count": 31,
   "id": "d4add33e-bfb1-4eba-b751-ef9fb3b95bd2",
   "metadata": {},
   "outputs": [
    {
     "name": "stdout",
     "output_type": "stream",
     "text": [
      "4.028550654533899 19.51657418051597\n"
     ]
    }
   ],
   "source": [
    "system = SecondOrderSystem.from_design_specs(\n",
    "    percent_overshoot=20,  # percent\n",
    "    settling_time=2  # seconds\n",
    ")\n",
    "print(system.a, system.b)"
   ]
  },
  {
   "cell_type": "markdown",
   "id": "406c16ca-e27b-4e38-8579-bb126e80185a",
   "metadata": {},
   "source": [
    "With $K$ being specified and $b$ being calculated, the value for the inertia $J$ can be determined as follows:"
   ]
  },
  {
   "cell_type": "code",
   "execution_count": 32,
   "id": "d8e6d549-2816-40e6-b1b3-baa3fbf5a19a",
   "metadata": {},
   "outputs": [
    {
     "name": "stdout",
     "output_type": "stream",
     "text": [
      "0.26 kg·m²\n"
     ]
    }
   ],
   "source": [
    "K = Q_(5.0, 'N * m / rad')\n",
    "b = Q_(system.b, 'N * m / (rad * kg * m**2)')\n",
    "J = K / b\n",
    "print(f\"{J.to('kg * m**2'):~P.2f}\")"
   ]
  },
  {
   "cell_type": "markdown",
   "id": "467f9dc4-cb9b-44cf-b594-2751ce1ecb4d",
   "metadata": {},
   "source": [
    "Now, the viscous damping coefficient $D$ can also be determined:"
   ]
  },
  {
   "cell_type": "code",
   "execution_count": 33,
   "id": "493d5bed-7024-4e6d-9702-349a9a6631d9",
   "metadata": {},
   "outputs": [
    {
     "name": "stdout",
     "output_type": "stream",
     "text": [
      "1.03 m·N·s/rad\n"
     ]
    }
   ],
   "source": [
    "a = Q_(system.a, '(N * m * s / rad) / (kg * m**2)')\n",
    "D = J * a\n",
    "print(f\"{D.to('N * m * s / rad'):~P.2f}\")"
   ]
  },
  {
   "cell_type": "markdown",
   "id": "af717ed4-88c2-4892-9cae-d11596715bb5",
   "metadata": {},
   "source": [
    "## 4.7 : System Response with Additional Poles"
   ]
  },
  {
   "cell_type": "markdown",
   "id": "dc70840f-42ba-4c86-9c3f-caa62849eb8c",
   "metadata": {},
   "source": [
    "### Example 4.8 : Comparing Responses of Three-Pole Systems"
   ]
  },
  {
   "cell_type": "markdown",
   "id": "f33d01d5-7780-4a6c-ba0f-f23e648ed604",
   "metadata": {},
   "source": [
    "Find the step response of each of the transfer functions below and compare them.\n",
    "$${T_1} = \\frac{{24.542}}{{{s^2} + 4s + 24.542}}$$\n",
    "$${T_2} = \\frac{{245.42}}{{\\left( {s + 10} \\right)\\left( {{s^2} + 4s + 24.542} \\right)}}$$\n",
    "$${T_3} = \\frac{{73.626}}{{\\left( {s + 3} \\right)\\left( {{s^2} + 4s + 24.542} \\right)}}$$"
   ]
  },
  {
   "cell_type": "markdown",
   "id": "2916be40-87a1-4a0b-9ea5-7adb0945a8f0",
   "metadata": {},
   "source": [
    "**Transfer function** $T_1$"
   ]
  },
  {
   "cell_type": "code",
   "execution_count": 34,
   "id": "f480bc3c-ef4e-4946-84b3-9da116348834",
   "metadata": {},
   "outputs": [
    {
     "data": {
      "text/plain": [
       "(-2+4.53232831996977j)"
      ]
     },
     "metadata": {},
     "output_type": "display_data"
    },
    {
     "data": {
      "text/plain": [
       "(-2-4.53232831996977j)"
      ]
     },
     "metadata": {},
     "output_type": "display_data"
    }
   ],
   "source": [
    "T1 = TransferFunction(24.542 / (s**2 + 4 * s + 24.542))\n",
    "for p in T1.poles:\n",
    "    display(p)"
   ]
  },
  {
   "cell_type": "code",
   "execution_count": 35,
   "id": "55d9f18d-9f08-4fc6-a659-ccba181792a3",
   "metadata": {},
   "outputs": [],
   "source": [
    "t1, c1 = T1.unit_step_response()"
   ]
  },
  {
   "cell_type": "markdown",
   "id": "8a6d9b11-5357-4beb-a6ed-eeb93f39adac",
   "metadata": {},
   "source": [
    "**Transfer function** $T_2$"
   ]
  },
  {
   "cell_type": "code",
   "execution_count": 36,
   "id": "af281ac5-ae9a-4f20-9bc1-17fa0e926a88",
   "metadata": {},
   "outputs": [
    {
     "data": {
      "text/plain": [
       "(-9.99999999999999+0j)"
      ]
     },
     "metadata": {},
     "output_type": "display_data"
    },
    {
     "data": {
      "text/plain": [
       "(-1.9999999999999993+4.532328319969768j)"
      ]
     },
     "metadata": {},
     "output_type": "display_data"
    },
    {
     "data": {
      "text/plain": [
       "(-1.9999999999999993-4.532328319969768j)"
      ]
     },
     "metadata": {},
     "output_type": "display_data"
    }
   ],
   "source": [
    "T2 = TransferFunction(245.42 / ((s + 10) * (s**2 + 4 * s + 24.542)))\n",
    "for p in T2.poles:\n",
    "    display(p)"
   ]
  },
  {
   "cell_type": "code",
   "execution_count": 37,
   "id": "96bfe9f9-4ab4-4bc4-925a-a5475b6ee143",
   "metadata": {},
   "outputs": [],
   "source": [
    "t2, c2 = T2.unit_step_response()"
   ]
  },
  {
   "cell_type": "markdown",
   "id": "b22f13c4-62d8-4d0f-b81c-268446546755",
   "metadata": {},
   "source": [
    "**Transfer function** $T_3$"
   ]
  },
  {
   "cell_type": "code",
   "execution_count": 38,
   "id": "daf101ef-7e10-447c-83df-fc4c41ea944b",
   "metadata": {},
   "outputs": [
    {
     "data": {
      "text/plain": [
       "(-2.000000000000002+4.532328319969768j)"
      ]
     },
     "metadata": {},
     "output_type": "display_data"
    },
    {
     "data": {
      "text/plain": [
       "(-2.000000000000002-4.532328319969768j)"
      ]
     },
     "metadata": {},
     "output_type": "display_data"
    },
    {
     "data": {
      "text/plain": [
       "(-2.9999999999999982+0j)"
      ]
     },
     "metadata": {},
     "output_type": "display_data"
    }
   ],
   "source": [
    "T3 = TransferFunction(73.626 / ((s + 3) * (s**2 + 4 * s + 24.542)))\n",
    "for p in T3.poles:\n",
    "    display(p)"
   ]
  },
  {
   "cell_type": "code",
   "execution_count": 39,
   "id": "7d6a988b-5f96-47ca-bd54-54525e6b5dbb",
   "metadata": {},
   "outputs": [],
   "source": [
    "t3, c3 = T3.unit_step_response()"
   ]
  },
  {
   "cell_type": "code",
   "execution_count": 40,
   "id": "9c43b809-0887-4099-826b-c26e7edd0961",
   "metadata": {},
   "outputs": [
    {
     "data": {
      "image/png": "[encoded data removed]",
      "text/plain": [
       "<Figure size 640x480 with 1 Axes>"
      ]
     },
     "metadata": {},
     "output_type": "display_data"
    }
   ],
   "source": [
    "c = LineChart()\n",
    "c.add_xy_data(\n",
    "    label='c1',\n",
    "    x1_values=t1,\n",
    "    y1_values=c1\n",
    ")\n",
    "c.add_xy_data(\n",
    "    label='c2',\n",
    "    x1_values=t2,\n",
    "    y1_values=c2\n",
    ")\n",
    "c.add_xy_data(\n",
    "    label='c3',\n",
    "    x1_values=t3,\n",
    "    y1_values=c3\n",
    ")\n",
    "c.add_legend(columns=3)\n",
    "c.x1.add_title('time, s')\n",
    "c.y1.add_title('normalized response')\n",
    "c.show()"
   ]
  },
  {
   "cell_type": "markdown",
   "id": "a7d334b8-a4ee-4120-a848-89da69a41836",
   "metadata": {},
   "source": [
    "## 4.10 : Laplace Transform Solution of State Equations"
   ]
  },
  {
   "cell_type": "markdown",
   "id": "ce4b546c-e54d-41a2-937a-987f7ca70bd6",
   "metadata": {},
   "source": [
    "### Example 4.11 : Laplace Transform Solution; Eigenvalues and Poles"
   ]
  },
  {
   "cell_type": "markdown",
   "id": "3d5ad759-2549-42c3-92fc-4eed77a37e3e",
   "metadata": {},
   "source": [
    "Given the system represented in state space by:\n",
    "$$\n",
    "{\\bf{\\dot x}} = \\left[ {\\begin{array}{*{20}{c}}\n",
    "0&1&0\\\\\n",
    "0&0&1\\\\\n",
    "{ - 24}&{ - 26}&{ - 9}\n",
    "\\end{array}} \\right] \\cdot {\\bf{x}} + \\left[ {\\begin{array}{*{20}{c}}\n",
    "0\\\\\n",
    "0\\\\\n",
    "1\n",
    "\\end{array}} \\right]{e^{ - t}}\n",
    "$$\n",
    "$$\n",
    "y = \\left[ {\\begin{array}{*{20}{c}}\n",
    "1&1&0\n",
    "\\end{array}} \\right] \\cdot {\\bf{x}}\n",
    "$$\n",
    "$$\n",
    "{\\bf{x}}\\left( 0 \\right) = \\left[ {\\begin{array}{*{20}{c}}\n",
    "1\\\\\n",
    "0\\\\\n",
    "2\n",
    "\\end{array}} \\right]\n",
    "$$\n",
    "do the following: <br>\n",
    "1. Solve the preceding state equation and obtain the output for the given exponential input.\n",
    "2. Find the eigenvalues and the system poles."
   ]
  },
  {
   "cell_type": "markdown",
   "id": "d099f27b-a0b7-441f-99ab-3c8b0a5e2525",
   "metadata": {},
   "source": [
    "**System Matrix**"
   ]
  },
  {
   "cell_type": "code",
   "execution_count": 41,
   "id": "b08b0260-82b7-4cea-a416-4096dc451bb8",
   "metadata": {},
   "outputs": [],
   "source": [
    "A = np.array([\n",
    "    [0, 1, 0],\n",
    "    [0, 0, 1],\n",
    "    [-24, -26, -9]\n",
    "])"
   ]
  },
  {
   "cell_type": "markdown",
   "id": "a98f2fbb-2858-445f-a03d-394b1cf07e16",
   "metadata": {},
   "source": [
    "**Input Matrix**"
   ]
  },
  {
   "cell_type": "code",
   "execution_count": 42,
   "id": "0d637fb2-42b9-413a-8d51-9e8d7e4a606c",
   "metadata": {},
   "outputs": [],
   "source": [
    "B = np.array([[0], [0], [1]])"
   ]
  },
  {
   "cell_type": "markdown",
   "id": "40ff00d1-b79a-4a37-8a83-7c459e1adae9",
   "metadata": {},
   "source": [
    "**Output Matrix**"
   ]
  },
  {
   "cell_type": "code",
   "execution_count": 43,
   "id": "78603b8f-7379-4edb-8b57-329ba4ec7de0",
   "metadata": {},
   "outputs": [],
   "source": [
    "C = np.array([[1, 1, 0]])"
   ]
  },
  {
   "cell_type": "markdown",
   "id": "baa1c3e6-18e5-402a-b43d-7663897a599e",
   "metadata": {},
   "source": [
    "**Initial Values**"
   ]
  },
  {
   "cell_type": "code",
   "execution_count": 44,
   "id": "316f20a1-cb23-4103-959c-9f899532d489",
   "metadata": {},
   "outputs": [],
   "source": [
    "x0 = np.array([[1], [0], [2]])"
   ]
  },
  {
   "cell_type": "markdown",
   "id": "dec1290e-e80c-4a7c-82a9-0cd05ce2b040",
   "metadata": {},
   "source": [
    "**Laplace Transform of Input Function**"
   ]
  },
  {
   "cell_type": "code",
   "execution_count": 45,
   "id": "01012e53-a2c7-498a-8406-d936190266e9",
   "metadata": {},
   "outputs": [
    {
     "data": {
      "text/latex": [
       "$\\displaystyle \\frac{1}{s + 1}$"
      ],
      "text/plain": [
       "1/(s + 1)"
      ]
     },
     "execution_count": 45,
     "metadata": {},
     "output_type": "execute_result"
    }
   ],
   "source": [
    "u = InverseLaplaceTransform(\"exp(-t)\")\n",
    "U = u.transform()\n",
    "U.expr"
   ]
  },
  {
   "cell_type": "markdown",
   "id": "f4cc170b-fba4-4479-ad99-cb88c7184303",
   "metadata": {},
   "source": [
    "**Solve State Space for State Vector** ${\\bf{X}}\\left( s \\right)$ **and Output Vector** ${\\bf{Y}}\\left( s \\right)$ "
   ]
  },
  {
   "cell_type": "code",
   "execution_count": 46,
   "id": "2805096b-5c87-442b-8360-6c673be84dc2",
   "metadata": {},
   "outputs": [],
   "source": [
    "ss = StateSpace(A, B, C, D=None, x0=x0)\n",
    "X, Y = ss.solve([U.expr])"
   ]
  },
  {
   "cell_type": "markdown",
   "id": "a82297c9-0852-4018-9304-0abf67f93db1",
   "metadata": {},
   "source": [
    "**Solution of State Vector** ${\\bf{X}}\\left( s \\right)$"
   ]
  },
  {
   "cell_type": "code",
   "execution_count": 47,
   "id": "a2d25535-4652-4d11-9aa4-67b9c121906d",
   "metadata": {},
   "outputs": [
    {
     "data": {
      "text/latex": [
       "$\\displaystyle \\frac{s^{3} + 10 s^{2} + 37 s + 29}{s^{4} + 10 s^{3} + 35 s^{2} + 50 s + 24}$"
      ],
      "text/plain": [
       "(s**3 + 10*s**2 + 37*s + 29)/(s**4 + 10*s**3 + 35*s**2 + 50*s + 24)"
      ]
     },
     "metadata": {},
     "output_type": "display_data"
    },
    {
     "data": {
      "text/latex": [
       "$\\displaystyle \\frac{2 s^{2} - 21 s - 24}{s^{4} + 10 s^{3} + 35 s^{2} + 50 s + 24}$"
      ],
      "text/plain": [
       "(2*s**2 - 21*s - 24)/(s**4 + 10*s**3 + 35*s**2 + 50*s + 24)"
      ]
     },
     "metadata": {},
     "output_type": "display_data"
    },
    {
     "data": {
      "text/latex": [
       "$\\displaystyle \\frac{s \\left(2 s^{2} - 21 s - 24\\right)}{s^{4} + 10 s^{3} + 35 s^{2} + 50 s + 24}$"
      ],
      "text/plain": [
       "s*(2*s**2 - 21*s - 24)/(s**4 + 10*s**3 + 35*s**2 + 50*s + 24)"
      ]
     },
     "metadata": {},
     "output_type": "display_data"
    }
   ],
   "source": [
    "for x in X:\n",
    "    display(x.expr)"
   ]
  },
  {
   "cell_type": "markdown",
   "id": "c9d0880f-644c-4ad5-a45a-19466a90686d",
   "metadata": {},
   "source": [
    "**Solution of Output Vector** ${\\bf{Y}}\\left( s \\right)$"
   ]
  },
  {
   "cell_type": "code",
   "execution_count": 48,
   "id": "10b950af-5905-4bc3-bb63-7a5642170b50",
   "metadata": {},
   "outputs": [
    {
     "data": {
      "text/latex": [
       "$\\displaystyle \\frac{s^{2} + 11 s + 5}{s^{3} + 9 s^{2} + 26 s + 24}$"
      ],
      "text/plain": [
       "(s**2 + 11*s + 5)/(s**3 + 9*s**2 + 26*s + 24)"
      ]
     },
     "metadata": {},
     "output_type": "display_data"
    }
   ],
   "source": [
    "for y in Y:\n",
    "    display(y.expr)   "
   ]
  },
  {
   "cell_type": "markdown",
   "id": "fccf5620-a4d8-42a3-accd-2fb3a5b5e7ab",
   "metadata": {},
   "source": [
    "Taking the inverse Laplace transform:"
   ]
  },
  {
   "cell_type": "code",
   "execution_count": 49,
   "id": "f8409a4a-d643-4d8a-a734-ca2116afbcd3",
   "metadata": {},
   "outputs": [
    {
     "data": {
      "text/latex": [
       "$\\displaystyle - 11.5 e^{- 4.0 t} + 19.0 e^{- 3.0 t} - 6.5 e^{- 2.0 t}$"
      ],
      "text/plain": [
       "-11.5*exp(-4.0*t) + 19.0*exp(-3.0*t) - 6.5*exp(-2.0*t)"
      ]
     },
     "execution_count": 49,
     "metadata": {},
     "output_type": "execute_result"
    }
   ],
   "source": [
    "y = Y[0].inverse()\n",
    "y.expr"
   ]
  },
  {
   "cell_type": "markdown",
   "id": "50e273de-0885-4715-aceb-4b2761aa05e7",
   "metadata": {},
   "source": [
    "**System Poles**"
   ]
  },
  {
   "cell_type": "code",
   "execution_count": 50,
   "id": "23d64095-ed79-449b-baea-6778635ce445",
   "metadata": {},
   "outputs": [
    {
     "data": {
      "text/plain": [
       "array([-2.+0.j, -3.+0.j, -4.+0.j])"
      ]
     },
     "execution_count": 50,
     "metadata": {},
     "output_type": "execute_result"
    }
   ],
   "source": [
    "ss.poles"
   ]
  },
  {
   "cell_type": "markdown",
   "id": "da195eb4-9f1a-4c9a-b89c-47f0030a15db",
   "metadata": {},
   "source": [
    "The poles of the system are equal to the eigenvalues of the system matrix ${\\bf{A}}$."
   ]
  },
  {
   "cell_type": "markdown",
   "id": "8625450f-eef5-4dbb-a3ae-bd63899878e2",
   "metadata": {},
   "source": [
    "## 4.11 : Time Domain Solution of State Equations"
   ]
  },
  {
   "cell_type": "markdown",
   "id": "5e82d970-d632-4aec-89ff-b6b10d2f99dc",
   "metadata": {},
   "source": [
    "### Example 4.12 : Time Domain Solution"
   ]
  },
  {
   "cell_type": "markdown",
   "id": "dff640f1-6fc9-4a5f-8e20-b8d2ef8e6a3e",
   "metadata": {},
   "source": [
    "For the state equation and initial state vector below, where $u(t)$ is a unit step, solve for ${\\bf{x}}(t)$.\n",
    "$$\n",
    "{\\bf{\\dot x}}\\left( t \\right) = \\left[ {\\begin{array}{*{20}{c}}\n",
    "0&1\\\\\n",
    "{ - 8}&{ - 6}\n",
    "\\end{array}} \\right] \\cdot {\\bf{x}}\\left( t \\right) + \\left[ {\\begin{array}{*{20}{c}}\n",
    "0\\\\\n",
    "1\n",
    "\\end{array}} \\right] \\cdot u\\left( t \\right)\n",
    "$$\n",
    "$$\n",
    "{\\bf{x}}\\left( 0 \\right) = \\left[ {\\begin{array}{*{20}{c}}\n",
    "1\\\\\n",
    "0\n",
    "\\end{array}} \\right]\n",
    "$$"
   ]
  },
  {
   "cell_type": "markdown",
   "id": "78790077-7688-4c56-ad08-492332f78c5a",
   "metadata": {},
   "source": [
    "Define the state space representation:"
   ]
  },
  {
   "cell_type": "code",
   "execution_count": 51,
   "id": "699557e5-d7d2-415c-bab0-030cd3307862",
   "metadata": {},
   "outputs": [],
   "source": [
    "A = np.array([[0, 1], [-8, -6]])\n",
    "B = np.array([[0], [1]])\n",
    "x0 = np.array([[1], [0]])\n",
    "\n",
    "ss = StateSpace(A, B, x0=x0)"
   ]
  },
  {
   "cell_type": "markdown",
   "id": "dabe10d0-06f3-4d14-8063-02cb18aeaa38",
   "metadata": {},
   "source": [
    "Solving:"
   ]
  },
  {
   "cell_type": "code",
   "execution_count": 52,
   "id": "40728bbd-2296-4ba3-9f41-1151eddf0b15",
   "metadata": {},
   "outputs": [],
   "source": [
    "x, _ = ss.solve(u=[sp.Heaviside(t)])"
   ]
  },
  {
   "cell_type": "code",
   "execution_count": 53,
   "id": "536ce227-e54a-4636-bec5-4b529481ab32",
   "metadata": {},
   "outputs": [
    {
     "data": {
      "text/latex": [
       "$\\displaystyle 0.125 + 1.75 e^{- 2 t} - 0.875 e^{- 4 t}$"
      ],
      "text/plain": [
       "0.125 + 1.75*exp(-2*t) - 0.875*exp(-4*t)"
      ]
     },
     "metadata": {},
     "output_type": "display_data"
    },
    {
     "data": {
      "text/latex": [
       "$\\displaystyle - 3.5 e^{- 2 t} + 3.5 e^{- 4 t}$"
      ],
      "text/plain": [
       "-3.5*exp(-2*t) + 3.5*exp(-4*t)"
      ]
     },
     "metadata": {},
     "output_type": "display_data"
    }
   ],
   "source": [
    "for f in x:\n",
    "    display(f.expr)"
   ]
  },
  {
   "cell_type": "code",
   "execution_count": null,
   "id": "125d36b7-c816-453a-bffa-6ca94eb453c3",
   "metadata": {},
   "outputs": [],
   "source": []
  }
 ],
 "metadata": {
  "kernelspec": {
   "display_name": "Python 3 (ipykernel)",
   "language": "python",
   "name": "python3"
  },
  "language_info": {
   "codemirror_mode": {
    "name": "ipython",
    "version": 3
   },
   "file_extension": ".py",
   "mimetype": "text/x-python",
   "name": "python",
   "nbconvert_exporter": "python",
   "pygments_lexer": "ipython3",
   "version": "3.11.10"
  }
 },
 "nbformat": 4,
 "nbformat_minor": 5
}
