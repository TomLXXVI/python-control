{
 "cells": [
  {
   "cell_type": "markdown",
   "id": "541f52f4-c8be-452d-a71d-0c70557cd52d",
   "metadata": {},
   "source": [
    "# Chapter 2 : Modeling in the Frequency Domain (Part 1)\n",
    "---"
   ]
  },
  {
   "cell_type": "code",
   "execution_count": 1,
   "id": "da7baf11-1472-425e-bb68-2c2d784cc176",
   "metadata": {},
   "outputs": [],
   "source": [
    "import sys\n",
    "\n",
    "if (path := \"C:/Users/Tom/pycharm-projects/python-control\") not in sys.path:\n",
    "    sys.path.append(path)\n",
    "\n",
    "import sympy as sp\n",
    "\n",
    "from python_control import (\n",
    "    t, s,\n",
    "    InverseLaplaceTransform, LaplaceTransform,\n",
    "    DifferentialEquation,\n",
    "    TransferFunction\n",
    ")"
   ]
  },
  {
   "cell_type": "markdown",
   "id": "0c15c4bb-c782-4fe7-9013-8a23e882a96d",
   "metadata": {},
   "source": [
    "> **Warning**<br>\n",
    "> Always use the predefined symbols `t` and `s` from `python_control`. Do not redefine these symbols, as they must remain unique for the package to work properly."
   ]
  },
  {
   "cell_type": "markdown",
   "id": "5cbbccca-778b-4798-b1c3-1b6c9d9d426f",
   "metadata": {},
   "source": [
    "## 2.2 : Laplace Transform Review"
   ]
  },
  {
   "cell_type": "markdown",
   "id": "310e7b17-361f-452f-abad-3a445a43e0ca",
   "metadata": {},
   "source": [
    "### Example 2.1 : Laplace Transform of a Time Function"
   ]
  },
  {
   "cell_type": "markdown",
   "id": "ba08fa06-97f4-4232-a635-30a40782d837",
   "metadata": {},
   "source": [
    "$$f\\left( t \\right) = A{e^{ - at}} \\cdot u\\left( t \\right)$$"
   ]
  },
  {
   "cell_type": "markdown",
   "id": "126320c8-e4a9-44e3-92fa-4026b5556531",
   "metadata": {},
   "source": [
    "Define the *Sympy* symbols used in the expression of function $f(t)$:"
   ]
  },
  {
   "cell_type": "code",
   "execution_count": 2,
   "id": "80fe9ee0-6cd2-465b-aab0-10ec956ef427",
   "metadata": {},
   "outputs": [],
   "source": [
    "A, a = sp.symbols('A a')"
   ]
  },
  {
   "cell_type": "markdown",
   "id": "68cdd008-cf6a-4e5d-9373-4996fffe154e",
   "metadata": {},
   "source": [
    "Define the function $f(t)$:"
   ]
  },
  {
   "cell_type": "code",
   "execution_count": 3,
   "id": "8eb599dd-b707-4ea3-9b74-67c38321d8ec",
   "metadata": {},
   "outputs": [],
   "source": [
    "f = A * sp.exp(-a * t) * sp.Heaviside(t)"
   ]
  },
  {
   "cell_type": "markdown",
   "id": "1af96d04-e948-4d09-b3a8-7688ebc6ba05",
   "metadata": {},
   "source": [
    "This function $f(t)$ in the time domain is actually the *inverse Laplace transform* of the function $F(s)$ in the s-domain. To find $F(s)$, we can pass our function $f(t)$ to an instance of class `InverseLaplaceTransform`:"
   ]
  },
  {
   "cell_type": "code",
   "execution_count": 4,
   "id": "8c9e2812-79e9-4f26-8b13-dc7902631cec",
   "metadata": {},
   "outputs": [],
   "source": [
    "f = InverseLaplaceTransform(f)"
   ]
  },
  {
   "cell_type": "markdown",
   "id": "e0f1148b-34f6-4824-b679-dcc5b024a3b8",
   "metadata": {},
   "source": [
    "Calling method `transform` on the `InverseLaplaceTransform` object, returns a `LaplaceTransform` object that holds the expression of $F(s)$ in the frequency domain:"
   ]
  },
  {
   "cell_type": "code",
   "execution_count": 5,
   "id": "06820c3f-c6f5-4ff4-9e7d-d9fc984d6584",
   "metadata": {
    "editable": true,
    "slideshow": {
     "slide_type": ""
    },
    "tags": []
   },
   "outputs": [
    {
     "data": {
      "text/latex": [
       "$\\displaystyle \\frac{A}{a + s}$"
      ],
      "text/plain": [
       "A/(a + s)"
      ]
     },
     "execution_count": 5,
     "metadata": {},
     "output_type": "execute_result"
    }
   ],
   "source": [
    "F = f.transform()\n",
    "F.expr"
   ]
  },
  {
   "cell_type": "markdown",
   "id": "f97f049c-6179-4b4a-a1e2-7075f889d171",
   "metadata": {
    "editable": true,
    "slideshow": {
     "slide_type": ""
    },
    "tags": []
   },
   "source": [
    "### Example 2.2 : Inverse Laplace Transform"
   ]
  },
  {
   "cell_type": "markdown",
   "id": "083d1718-638d-489e-a3cf-bcb4739085b9",
   "metadata": {},
   "source": [
    "Find the inverse Laplace transform of:\n",
    "$$\n",
    "F\\left( s \\right) = \\frac{1}{{{{\\left( {s + 3} \\right)}^2}}}\n",
    "$$"
   ]
  },
  {
   "cell_type": "code",
   "execution_count": 6,
   "id": "e897fdcf-ca61-4cdc-a363-dd2781e2f131",
   "metadata": {
    "editable": true,
    "slideshow": {
     "slide_type": ""
    },
    "tags": []
   },
   "outputs": [
    {
     "data": {
      "text/latex": [
       "$\\displaystyle 1.0 t e^{- 3.0 t}$"
      ],
      "text/plain": [
       "1.0*t*exp(-3.0*t)"
      ]
     },
     "execution_count": 6,
     "metadata": {},
     "output_type": "execute_result"
    }
   ],
   "source": [
    "F = LaplaceTransform(1 / (s + 3) ** 2)\n",
    "f = F.inverse()\n",
    "f.expr"
   ]
  },
  {
   "cell_type": "markdown",
   "id": "37a795f4-4c3b-4ec4-8e6c-e98ac0a0ce0b",
   "metadata": {
    "editable": true,
    "slideshow": {
     "slide_type": ""
    },
    "tags": []
   },
   "source": [
    "### Example 2.3 : Laplace Transform Solution of a Differential Equation"
   ]
  },
  {
   "cell_type": "markdown",
   "id": "03dd783e-74c1-4498-a338-76fe6a5faa8c",
   "metadata": {},
   "source": [
    "Solve the differential equation for $y(t)$ if all initial conditions are zero.\n",
    "$$\n",
    "\\frac{{{d^2}y}}{{d{t^2}}} + 12\\frac{{dy}}{{dt}} + 32y = 32 \\cdot u\\left( t \\right)\n",
    "$$"
   ]
  },
  {
   "cell_type": "markdown",
   "id": "8b46a7a6-fb54-49da-98c7-06a8fc2df751",
   "metadata": {},
   "source": [
    "The LHS of the differential equation is used to create a `DifferentialEquation` object. Parameter `f` accepts the name of the function $y(t)$ for which we need a solution. Parameters `coeffs` receives the coefficients of the differential equation inside a list. Through parameter `init_vals` the initial values are assigned (in a list sorted from highest to lowest order), but when  `None` (which is also the default argument) all intial values are considered equal to zero."
   ]
  },
  {
   "cell_type": "code",
   "execution_count": 7,
   "id": "ddf10848-a8c3-496d-b783-1b53cb6ed382",
   "metadata": {
    "editable": true,
    "scrolled": true,
    "slideshow": {
     "slide_type": ""
    },
    "tags": []
   },
   "outputs": [],
   "source": [
    "ode = DifferentialEquation(\n",
    "    f='y',\n",
    "    coeffs=[1, 12, 32],\n",
    "    init_vals=None\n",
    ")"
   ]
  },
  {
   "cell_type": "markdown",
   "id": "025e8712-c051-44d7-abd2-13889c40867e",
   "metadata": {},
   "source": [
    "Now we can solve the differential equation both in the time and frequency domain: "
   ]
  },
  {
   "cell_type": "code",
   "execution_count": 8,
   "id": "d9c09247-aa9c-4713-a039-5288a83225c7",
   "metadata": {
    "editable": true,
    "scrolled": true,
    "slideshow": {
     "slide_type": ""
    },
    "tags": []
   },
   "outputs": [],
   "source": [
    "Y, y = ode.solve(rhs=32 * sp.Heaviside(t))"
   ]
  },
  {
   "cell_type": "markdown",
   "id": "ec664fe1-37cb-4ba4-b517-48690bc3e9ac",
   "metadata": {},
   "source": [
    "`Y` refers to a `LaplaceTransform` object and `y` to an `InverseLaplaceTransform` object. To get the partial fraction expansion of `Y`, method `expanded` is called on this object, which returns a *Sympy* expression:"
   ]
  },
  {
   "cell_type": "code",
   "execution_count": 9,
   "id": "f3255e11-e9aa-41c2-8567-42a7cd7eb031",
   "metadata": {
    "editable": true,
    "slideshow": {
     "slide_type": ""
    },
    "tags": []
   },
   "outputs": [
    {
     "data": {
      "text/latex": [
       "$\\displaystyle \\frac{1}{s + 8} - \\frac{2}{s + 4} + \\frac{1}{s}$"
      ],
      "text/plain": [
       "1/(s + 8) - 2/(s + 4) + 1/s"
      ]
     },
     "execution_count": 9,
     "metadata": {},
     "output_type": "execute_result"
    }
   ],
   "source": [
    "Y.expanded()"
   ]
  },
  {
   "cell_type": "markdown",
   "id": "1f581a8a-db4e-448f-b698-8da8a7b24152",
   "metadata": {},
   "source": [
    "The *Sympy* expression of `y` can be accessed through its property `expr`: "
   ]
  },
  {
   "cell_type": "code",
   "execution_count": 10,
   "id": "b73cf695-4538-4832-8d8d-0a7f5fadf744",
   "metadata": {
    "editable": true,
    "slideshow": {
     "slide_type": ""
    },
    "tags": []
   },
   "outputs": [
    {
     "data": {
      "text/latex": [
       "$\\displaystyle 1 - 2 e^{- 4 t} + e^{- 8 t}$"
      ],
      "text/plain": [
       "1 - 2*exp(-4*t) + exp(-8*t)"
      ]
     },
     "execution_count": 10,
     "metadata": {},
     "output_type": "execute_result"
    }
   ],
   "source": [
    "y.expr"
   ]
  },
  {
   "cell_type": "markdown",
   "id": "361a8999-639c-4e1f-b902-7806a2d6fc15",
   "metadata": {
    "editable": true,
    "slideshow": {
     "slide_type": ""
    },
    "tags": []
   },
   "source": [
    "## 2.3 : Transfer Function"
   ]
  },
  {
   "cell_type": "markdown",
   "id": "0402106d-62eb-4c77-8074-02781caf7882",
   "metadata": {},
   "source": [
    "### Example 2.4 : Transfer Function for a Differential Equation"
   ]
  },
  {
   "cell_type": "markdown",
   "id": "db1ec25a-c248-4879-96f4-852c90a9507b",
   "metadata": {},
   "source": [
    "Find the transfer function represented by:\n",
    "$$\n",
    "\\frac{{dc\\left( t \\right)}}{{dt}} + 2c\\left( t \\right) = r\\left( t \\right)\n",
    "$$\n",
    "The transfer function $G(s)$ is the ratio of the output to the input of the system, i.e. $C(s) / R(s)$. This means that the right-hand side of the differential equation (i.e. the input-side of the system) will determine the numerator of the transfer function, and the left-hand side (i.e. the output-side of the system) will determine its denominator. \n",
    "\n",
    "It is fairly easy to write down the Laplace transformed representation of the differential equation: the coefficients in the differential equation will also be the coefficients in its Laplace transformed representation. "
   ]
  },
  {
   "cell_type": "code",
   "execution_count": 11,
   "id": "4a4ddb1c-a49b-4fa6-ba0b-f6176297c53d",
   "metadata": {},
   "outputs": [
    {
     "data": {
      "text/latex": [
       "$\\displaystyle \\frac{1.0}{1.0 s + 2.0}$"
      ],
      "text/plain": [
       "1.0/(1.0*s + 2.0)"
      ]
     },
     "execution_count": 11,
     "metadata": {},
     "output_type": "execute_result"
    }
   ],
   "source": [
    "G = TransferFunction.from_coefficients(num=[1], den=[1, 2])\n",
    "G.expr"
   ]
  },
  {
   "cell_type": "markdown",
   "id": "34d824ac-b41c-465e-9e26-91f749b73967",
   "metadata": {},
   "source": [
    "### Example 2.5 : System Response from the Transfer Function"
   ]
  },
  {
   "cell_type": "markdown",
   "id": "a90485cb-56c4-45cf-8610-8f1a69e8d7a7",
   "metadata": {},
   "source": [
    "Use the result of example 2.4 to find the response to a unit step assuming zero initial conditions.\n",
    "\n",
    "The unit step function (a.k.a *Heaviside* function) in the right-hand side of the differential equation is implemented in *Sympy* by the function `Heaviside`."
   ]
  },
  {
   "cell_type": "code",
   "execution_count": 12,
   "id": "5fd3cdbd-928a-42de-819a-2b528017f406",
   "metadata": {},
   "outputs": [],
   "source": [
    "r = sp.Heaviside(t)"
   ]
  },
  {
   "cell_type": "markdown",
   "id": "75ffc059-ebf9-4fc9-a7c6-9ec7780aba78",
   "metadata": {},
   "source": [
    "Now, we need the Laplace transform of this function. For this we can put the function in a `InverseLaplaceTransform` object and then call its `transform` method, which will return a `LaplaceTransform` object: "
   ]
  },
  {
   "cell_type": "code",
   "execution_count": 13,
   "id": "f167d256-c24d-4ec1-bb5e-0d3edcd7ac36",
   "metadata": {},
   "outputs": [],
   "source": [
    "R = InverseLaplaceTransform(r).transform()"
   ]
  },
  {
   "cell_type": "markdown",
   "id": "6dcc6101-23e5-4481-820d-1ea14128694f",
   "metadata": {},
   "source": [
    "The transfer function object `G` was already created in the previous example. To get the response of the system, we need to call the method `response` on this object, passing it our  `LaplaceTransform` object:"
   ]
  },
  {
   "cell_type": "code",
   "execution_count": 14,
   "id": "1ad68f0a-fad7-4d84-b222-b01f9feff571",
   "metadata": {},
   "outputs": [
    {
     "data": {
      "text/latex": [
       "$\\displaystyle - \\frac{1}{2 \\left(s + 2\\right)} + \\frac{1}{2 s}$"
      ],
      "text/plain": [
       "-1/(2*(s + 2)) + 1/(2*s)"
      ]
     },
     "execution_count": 14,
     "metadata": {},
     "output_type": "execute_result"
    }
   ],
   "source": [
    "C = G.response(R)\n",
    "C.expanded()"
   ]
  },
  {
   "cell_type": "code",
   "execution_count": 15,
   "id": "d2c1a2d3-e6d8-403b-8e52-eaa643c39017",
   "metadata": {},
   "outputs": [
    {
     "data": {
      "text/latex": [
       "$\\displaystyle 0.5 - 0.5 e^{- 2.0 t}$"
      ],
      "text/plain": [
       "0.5 - 0.5*exp(-2.0*t)"
      ]
     },
     "execution_count": 15,
     "metadata": {},
     "output_type": "execute_result"
    }
   ],
   "source": [
    "c = C.inverse()\n",
    "c.expr"
   ]
  },
  {
   "cell_type": "markdown",
   "id": "6a6a28d9-3be6-4a0c-9a8e-fd4e857e41b3",
   "metadata": {},
   "source": [
    "### Skill-Assessment Exercise 2.3"
   ]
  },
  {
   "cell_type": "markdown",
   "id": "1a86251e-6aa6-406b-a1f8-d5d9a4d97410",
   "metadata": {},
   "source": [
    "Find the transfer function corresponding to the differential equation:\n",
    "$$\n",
    "\\frac{{{d^3}c}}{{d{t^3}}} + 3\\frac{{{d^2}c}}{{dt}} + 7\\frac{{dc}}{{dt}} + 5c = \\frac{{{d^2}r}}{{dt}} + 4\\frac{{dr}}{{dt}} + 3r\n",
    "$$"
   ]
  },
  {
   "cell_type": "code",
   "execution_count": 16,
   "id": "7a053ec5-6fdb-436f-9cfe-8a6f2bd4083d",
   "metadata": {},
   "outputs": [
    {
     "data": {
      "text/latex": [
       "$\\displaystyle \\frac{1.0 s + 3.0}{1.0 s^{2} + 2.0 s + 5.0}$"
      ],
      "text/plain": [
       "(1.0*s + 3.0)/(1.0*s**2 + 2.0*s + 5.0)"
      ]
     },
     "execution_count": 16,
     "metadata": {},
     "output_type": "execute_result"
    }
   ],
   "source": [
    "G = TransferFunction.from_coefficients(num=[1, 4, 3], den=[1, 3, 7, 5])\n",
    "G.expr"
   ]
  },
  {
   "cell_type": "markdown",
   "id": "23c3a8ea-5f7b-42ac-805b-db5090def7a8",
   "metadata": {},
   "source": [
    "### Skill-Assessment Exercise 2.5"
   ]
  },
  {
   "cell_type": "markdown",
   "id": "a9b0d79a-f36e-46d5-915e-d7fe7b94001d",
   "metadata": {},
   "source": [
    "Find the ramp response for a system whose transfer function is:\n",
    "$$\n",
    "G\\left( s \\right) = \\frac{s}{{\\left( {s + 4} \\right)\\left( {s + 8} \\right)}}\n",
    "$$\n",
    "\n",
    "The ramp function can be programmed as:"
   ]
  },
  {
   "cell_type": "code",
   "execution_count": 17,
   "id": "e4a9a416-82db-41da-92bf-2f7d60e219bc",
   "metadata": {},
   "outputs": [],
   "source": [
    "r = t * sp.Heaviside(t)"
   ]
  },
  {
   "cell_type": "markdown",
   "id": "b998f8c0-945c-4467-9320-7e640c525875",
   "metadata": {},
   "source": [
    "Its Laplace transform is:"
   ]
  },
  {
   "cell_type": "code",
   "execution_count": 18,
   "id": "994e8624-99fe-454c-b926-4872997f32cc",
   "metadata": {},
   "outputs": [
    {
     "data": {
      "text/latex": [
       "$\\displaystyle \\frac{1}{s^{2}}$"
      ],
      "text/plain": [
       "s**(-2)"
      ]
     },
     "execution_count": 18,
     "metadata": {},
     "output_type": "execute_result"
    }
   ],
   "source": [
    "R = InverseLaplaceTransform(r).transform()\n",
    "R.expr"
   ]
  },
  {
   "cell_type": "markdown",
   "id": "8453b22e-8d32-4200-a793-ead813ba2b00",
   "metadata": {},
   "source": [
    "The transfer function $G(s)$ can be implemented with:"
   ]
  },
  {
   "cell_type": "code",
   "execution_count": 19,
   "id": "343e2da1-8ed2-4214-99df-c2d7c55cce79",
   "metadata": {},
   "outputs": [],
   "source": [
    "G = TransferFunction(s / ((s + 4) * (s + 8)))"
   ]
  },
  {
   "cell_type": "markdown",
   "id": "89d000c3-6eab-4e65-ab4e-07656a520f98",
   "metadata": {},
   "source": [
    "The ramp response of the system in the frequency domain can now be retrieved with:"
   ]
  },
  {
   "cell_type": "code",
   "execution_count": 20,
   "id": "999e3906-1e12-4544-bed0-6ece3bdfeb29",
   "metadata": {},
   "outputs": [
    {
     "data": {
      "text/latex": [
       "$\\displaystyle \\frac{1}{32 \\left(s + 8\\right)} - \\frac{1}{16 \\left(s + 4\\right)} + \\frac{1}{32 s}$"
      ],
      "text/plain": [
       "1/(32*(s + 8)) - 1/(16*(s + 4)) + 1/(32*s)"
      ]
     },
     "execution_count": 20,
     "metadata": {},
     "output_type": "execute_result"
    }
   ],
   "source": [
    "C = G.response(R)\n",
    "C.expanded()"
   ]
  },
  {
   "cell_type": "markdown",
   "id": "003b26ad-ff5f-4d49-8eb3-66d7317ee29b",
   "metadata": {},
   "source": [
    "Calling the `inverse` method on the `LaplaceTransform` object `C`, gives us back an `InverseLaplaceTransform` object:"
   ]
  },
  {
   "cell_type": "code",
   "execution_count": 21,
   "id": "8b59c571-3c60-4b23-9e2d-bce3a7d3a3ac",
   "metadata": {},
   "outputs": [
    {
     "data": {
      "text/latex": [
       "$\\displaystyle 0.03125 + 0.03125 e^{- 8.0 t} - 0.0625 e^{- 4.0 t}$"
      ],
      "text/plain": [
       "0.03125 + 0.03125*exp(-8.0*t) - 0.0625*exp(-4.0*t)"
      ]
     },
     "execution_count": 21,
     "metadata": {},
     "output_type": "execute_result"
    }
   ],
   "source": [
    "c = C.inverse()\n",
    "c.expr"
   ]
  },
  {
   "cell_type": "code",
   "execution_count": null,
   "id": "5bef96c3-ecdd-4dc1-a7d6-dff365b0b1ca",
   "metadata": {},
   "outputs": [],
   "source": []
  }
 ],
 "metadata": {
  "kernelspec": {
   "display_name": "Python 3 (ipykernel)",
   "language": "python",
   "name": "python3"
  },
  "language_info": {
   "codemirror_mode": {
    "name": "ipython",
    "version": 3
   },
   "file_extension": ".py",
   "mimetype": "text/x-python",
   "name": "python",
   "nbconvert_exporter": "python",
   "pygments_lexer": "ipython3",
   "version": "3.11.10"
  }
 },
 "nbformat": 4,
 "nbformat_minor": 5
}
